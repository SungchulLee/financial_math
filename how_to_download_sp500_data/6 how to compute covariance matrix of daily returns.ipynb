{
 "cells": [
  {
   "cell_type": "code",
   "execution_count": 1,
   "metadata": {},
   "outputs": [],
   "source": [
    "import pandas as pd\n",
    "df_pct_change = pd.read_csv('../data/sp500/Pct_Change.csv', \n",
    "                            index_col='Date', \n",
    "                            parse_dates=True)"
   ]
  },
  {
   "cell_type": "code",
   "execution_count": 2,
   "metadata": {},
   "outputs": [
    {
     "name": "stdout",
     "output_type": "stream",
     "text": [
      "           MMM       ABT      ABBV      ABMD       ACN      ATVI      ADBE  \\\n",
      "MMM   0.059492  0.024537  0.024510  0.026837  0.030487  0.023729  0.034156   \n",
      "ABT   0.024537  0.639075  0.031458  0.025120  0.024045  0.019671  0.029530   \n",
      "ABBV  0.024510  0.031458  0.081479  0.029649  0.026308  0.024474  0.031699   \n",
      "ABMD  0.026837  0.025120  0.029649  0.463983  0.043144  0.047931  0.054887   \n",
      "ACN   0.030487  0.024045  0.026308  0.043144  0.093200  0.040464  0.047232   \n",
      "...        ...       ...       ...       ...       ...       ...       ...   \n",
      "YUM   0.028026  0.024087  0.020948  0.027977  0.028210  0.028708  0.038517   \n",
      "ZBRA  0.027263  0.018933  0.032171  0.040548  0.039729  0.037372  0.054313   \n",
      "ZBH   0.026809  0.026922  0.029628  0.035379  0.028885  0.024934  0.033758   \n",
      "ZION  0.027627  0.020757  0.026975  0.043809  0.042189  0.030904  0.040301   \n",
      "ZTS   0.023695  0.031860  0.031006  0.030759  0.030045  0.025651  0.033012   \n",
      "\n",
      "           AMD       AAP       AES  ...      WYNN       XEL       XRX  \\\n",
      "MMM   0.038867  0.026491  0.028859  ...  0.046263  0.014158  0.029523   \n",
      "ABT   0.040497  0.020691  0.021443  ...  0.027493  0.016348  0.027474   \n",
      "ABBV  0.035240  0.024949  0.024098  ...  0.035584  0.014608  0.029973   \n",
      "ABMD  0.059081  0.032015  0.041320  ...  0.063997  0.017282  0.035604   \n",
      "ACN   0.059101  0.029182  0.049620  ...  0.046069  0.021496  0.042852   \n",
      "...        ...       ...       ...  ...       ...       ...       ...   \n",
      "YUM   0.044539  0.031996  0.037110  ...  0.053311  0.018899  0.041048   \n",
      "ZBRA  0.068358  0.035268  0.042004  ...  0.062950  0.015301  0.047311   \n",
      "ZBH   0.041104  0.027317  0.037113  ...  0.050281  0.016566  0.042409   \n",
      "ZION  0.043298  0.043468  0.047158  ...  0.093724  0.013092  0.039726   \n",
      "ZTS   0.041638  0.025588  0.025782  ...  0.040955  0.017111  0.034753   \n",
      "\n",
      "          XLNX       XYL       YUM      ZBRA       ZBH      ZION       ZTS  \n",
      "MMM   0.033435  0.034026  0.028026  0.027263  0.026809  0.027627  0.023695  \n",
      "ABT   0.025878  0.027330  0.024087  0.018933  0.026922  0.020757  0.031860  \n",
      "ABBV  0.027973  0.027564  0.020948  0.032171  0.029628  0.026975  0.031006  \n",
      "ABMD  0.050635  0.025322  0.027977  0.040548  0.035379  0.043809  0.030759  \n",
      "ACN   0.048251  0.032421  0.028210  0.039729  0.028885  0.042189  0.030045  \n",
      "...        ...       ...       ...       ...       ...       ...       ...  \n",
      "YUM   0.037635  0.028547  0.095565  0.030867  0.028541  0.043767  0.027438  \n",
      "ZBRA  0.059749  0.039945  0.030867  0.173794  0.031018  0.038517  0.035970  \n",
      "ZBH   0.028593  0.029182  0.028541  0.031018  0.080176  0.041708  0.029194  \n",
      "ZION  0.043291  0.040687  0.043767  0.038517  0.041708  0.142806  0.026476  \n",
      "ZTS   0.028281  0.030622  0.027438  0.035970  0.029194  0.026476  0.063588  \n",
      "\n",
      "[505 rows x 505 columns]\n"
     ]
    }
   ],
   "source": [
    "df_cov = df_pct_change.cov() * (12*21)\n",
    "print(df_cov)"
   ]
  },
  {
   "cell_type": "code",
   "execution_count": 3,
   "metadata": {},
   "outputs": [
    {
     "name": "stdout",
     "output_type": "stream",
     "text": [
      "           MMM       ABT      ABBV      ABMD       ACN      ATVI      ADBE  \\\n",
      "MMM   0.059492  0.024537  0.024510  0.026837  0.030487  0.023729  0.034156   \n",
      "ABT   0.024537  0.639075  0.031458  0.025120  0.024045  0.019671  0.029530   \n",
      "ABBV  0.024510  0.031458  0.081479  0.029649  0.026308  0.024474  0.031699   \n",
      "ABMD  0.026837  0.025120  0.029649  0.463983  0.043144  0.047931  0.054887   \n",
      "ACN   0.030487  0.024045  0.026308  0.043144  0.093200  0.040464  0.047232   \n",
      "...        ...       ...       ...       ...       ...       ...       ...   \n",
      "YUM   0.028026  0.024087  0.020948  0.027977  0.028210  0.028708  0.038517   \n",
      "ZBRA  0.027263  0.018933  0.032171  0.040548  0.039729  0.037372  0.054313   \n",
      "ZBH   0.026809  0.026922  0.029628  0.035379  0.028885  0.024934  0.033758   \n",
      "ZION  0.027627  0.020757  0.026975  0.043809  0.042189  0.030904  0.040301   \n",
      "ZTS   0.023695  0.031860  0.031006  0.030759  0.030045  0.025651  0.033012   \n",
      "\n",
      "           AMD       AAP       AES  ...      WYNN       XEL       XRX  \\\n",
      "MMM   0.038867  0.026491  0.028859  ...  0.046263  0.014158  0.029523   \n",
      "ABT   0.040497  0.020691  0.021443  ...  0.027493  0.016348  0.027474   \n",
      "ABBV  0.035240  0.024949  0.024098  ...  0.035584  0.014608  0.029973   \n",
      "ABMD  0.059081  0.032015  0.041320  ...  0.063997  0.017282  0.035604   \n",
      "ACN   0.059101  0.029182  0.049620  ...  0.046069  0.021496  0.042852   \n",
      "...        ...       ...       ...  ...       ...       ...       ...   \n",
      "YUM   0.044539  0.031996  0.037110  ...  0.053311  0.018899  0.041048   \n",
      "ZBRA  0.068358  0.035268  0.042004  ...  0.062950  0.015301  0.047311   \n",
      "ZBH   0.041104  0.027317  0.037113  ...  0.050281  0.016566  0.042409   \n",
      "ZION  0.043298  0.043468  0.047158  ...  0.093724  0.013092  0.039726   \n",
      "ZTS   0.041638  0.025588  0.025782  ...  0.040955  0.017111  0.034753   \n",
      "\n",
      "          XLNX       XYL       YUM      ZBRA       ZBH      ZION       ZTS  \n",
      "MMM   0.033435  0.034026  0.028026  0.027263  0.026809  0.027627  0.023695  \n",
      "ABT   0.025878  0.027330  0.024087  0.018933  0.026922  0.020757  0.031860  \n",
      "ABBV  0.027973  0.027564  0.020948  0.032171  0.029628  0.026975  0.031006  \n",
      "ABMD  0.050635  0.025322  0.027977  0.040548  0.035379  0.043809  0.030759  \n",
      "ACN   0.048251  0.032421  0.028210  0.039729  0.028885  0.042189  0.030045  \n",
      "...        ...       ...       ...       ...       ...       ...       ...  \n",
      "YUM   0.037635  0.028547  0.095565  0.030867  0.028541  0.043767  0.027438  \n",
      "ZBRA  0.059749  0.039945  0.030867  0.173794  0.031018  0.038517  0.035970  \n",
      "ZBH   0.028593  0.029182  0.028541  0.031018  0.080176  0.041708  0.029194  \n",
      "ZION  0.043291  0.040687  0.043767  0.038517  0.041708  0.142806  0.026476  \n",
      "ZTS   0.028281  0.030622  0.027438  0.035970  0.029194  0.026476  0.063588  \n",
      "\n",
      "[505 rows x 505 columns]\n"
     ]
    }
   ],
   "source": [
    "df_cov.to_csv('../data/sp500/Cov.csv')\n",
    "df_cov = pd.read_csv('../data/sp500/Cov.csv', index_col=0)\n",
    "print(df_cov)"
   ]
  },
  {
   "cell_type": "code",
   "execution_count": 5,
   "metadata": {},
   "outputs": [
    {
     "data": {
      "image/png": "[encoded data removed]",
      "text/plain": [
       "<Figure size 432x288 with 2 Axes>"
      ]
     },
     "metadata": {
      "needs_background": "light"
     },
     "output_type": "display_data"
    }
   ],
   "source": [
    "import matplotlib.pyplot as plt\n",
    "\n",
    "fig, ax = plt.subplots()\n",
    "\n",
    "img = ax.imshow(df_cov.values, cmap=plt.cm.RdYlGn)\n",
    "ax.set_xticklabels(df_cov.columns, rotation=90)\n",
    "ax.set_yticklabels(df_cov.index)\n",
    "\n",
    "fig.colorbar(img)\n",
    "\n",
    "plt.show()"
   ]
  },
  {
   "cell_type": "code",
   "execution_count": null,
   "metadata": {},
   "outputs": [],
   "source": []
  }
 ],
 "metadata": {
  "kernelspec": {
   "display_name": "Python 3",
   "language": "python",
   "name": "python3"
  },
  "language_info": {
   "codemirror_mode": {
    "name": "ipython",
    "version": 3
   },
   "file_extension": ".py",
   "mimetype": "text/x-python",
   "name": "python",
   "nbconvert_exporter": "python",
   "pygments_lexer": "ipython3",
   "version": "3.7.7"
  }
 },
 "nbformat": 4,
 "nbformat_minor": 4
}
