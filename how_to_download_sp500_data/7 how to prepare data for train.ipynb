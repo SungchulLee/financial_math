{
 "cells": [
  {
   "cell_type": "code",
   "execution_count": 1,
   "metadata": {},
   "outputs": [],
   "source": [
    "import numpy as np; np.random.seed(0)\n",
    "import pandas as pd\n",
    "from collections import deque"
   ]
  },
  {
   "cell_type": "code",
   "execution_count": 2,
   "metadata": {},
   "outputs": [],
   "source": [
    "target_index_size = 10  # 포트폴리오 자산 갯수\n",
    "n_days_train = 21*6    # 6개월 트래인 기간\n",
    "n_days_test = 21       # 1개월 테스트 기간\n",
    "batch_size = 1000      # 한번 트래인시 필요한 데이터 갯수"
   ]
  },
  {
   "cell_type": "code",
   "execution_count": 3,
   "metadata": {},
   "outputs": [
    {
     "name": "stdout",
     "output_type": "stream",
     "text": [
      "총 자산 수 : 505\n",
      "티커 : ['MMM', 'ABT', 'ABBV', 'ABMD', 'ACN', 'ATVI', 'ADBE', 'AMD', 'AAP', 'AES', 'AFL', 'A', 'APD', 'AKAM', 'ALK', 'ALB', 'ARE', 'ALXN', 'ALGN', 'ALLE', 'LNT', 'ALL', 'GOOGL', 'GOOG', 'MO', 'AMZN', 'AMCR', 'AEE', 'AAL', 'AEP', 'AXP', 'AIG', 'AMT', 'AWK', 'AMP', 'ABC', 'AME', 'AMGN', 'APH', 'ADI', 'ANSS', 'ANTM', 'AON', 'AOS', 'APA', 'AIV', 'AAPL', 'AMAT', 'APTV', 'ADM', 'ANET', 'AJG', 'AIZ', 'T', 'ATO', 'ADSK', 'ADP', 'AZO', 'AVB', 'AVY', 'BKR', 'BLL', 'BAC', 'BK', 'BAX', 'BDX', 'BRK-B', 'BBY', 'BIO', 'BIIB', 'BLK', 'BA', 'BKNG', 'BWA', 'BXP', 'BSX', 'BMY', 'AVGO', 'BR', 'BF-B', 'CHRW', 'COG', 'CDNS', 'CPB', 'COF', 'CAH', 'KMX', 'CCL', 'CARR', 'CAT', 'CBOE', 'CBRE', 'CDW', 'CE', 'CNC', 'CNP', 'CTL', 'CERN', 'CF', 'SCHW', 'CHTR', 'CVX', 'CMG', 'CB', 'CHD', 'CI', 'CINF', 'CTAS', 'CSCO', 'C', 'CFG', 'CTXS', 'CLX', 'CME', 'CMS', 'KO', 'CTSH', 'CL', 'CMCSA', 'CMA', 'CAG', 'CXO', 'COP', 'ED', 'STZ', 'COO', 'CPRT', 'GLW', 'CTVA', 'COST', 'COTY', 'CCI', 'CSX', 'CMI', 'CVS', 'DHI', 'DHR', 'DRI', 'DVA', 'DE', 'DAL', 'XRAY', 'DVN', 'DXCM', 'FANG', 'DLR', 'DFS', 'DISCA', 'DISCK', 'DISH', 'DG', 'DLTR', 'D', 'DPZ', 'DOV', 'DOW', 'DTE', 'DUK', 'DRE', 'DD', 'DXC', 'ETFC', 'EMN', 'ETN', 'EBAY', 'ECL', 'EIX', 'EW', 'EA', 'EMR', 'ETR', 'EOG', 'EFX', 'EQIX', 'EQR', 'ESS', 'EL', 'EVRG', 'ES', 'RE', 'EXC', 'EXPE', 'EXPD', 'EXR', 'XOM', 'FFIV', 'FB', 'FAST', 'FRT', 'FDX', 'FIS', 'FITB', 'FE', 'FRC', 'FISV', 'FLT', 'FLIR', 'FLS', 'FMC', 'F', 'FTNT', 'FTV', 'FBHS', 'FOXA', 'FOX', 'BEN', 'FCX', 'GPS', 'GRMN', 'IT', 'GD', 'GE', 'GIS', 'GM', 'GPC', 'GILD', 'GL', 'GPN', 'GS', 'GWW', 'HRB', 'HAL', 'HBI', 'HIG', 'HAS', 'HCA', 'PEAK', 'HSIC', 'HSY', 'HES', 'HPE', 'HLT', 'HFC', 'HOLX', 'HD', 'HON', 'HRL', 'HST', 'HWM', 'HPQ', 'HUM', 'HBAN', 'HII', 'IEX', 'IDXX', 'INFO', 'ITW', 'ILMN', 'INCY', 'IR', 'INTC', 'ICE', 'IBM', 'IP', 'IPG', 'IFF', 'INTU', 'ISRG', 'IVZ', 'IPGP', 'IQV', 'IRM', 'JKHY', 'J', 'JBHT', 'SJM', 'JNJ', 'JCI', 'JPM', 'JNPR', 'KSU', 'K', 'KEY', 'KEYS', 'KMB', 'KIM', 'KMI', 'KLAC', 'KSS', 'KHC', 'KR', 'LB', 'LHX', 'LH', 'LRCX', 'LW', 'LVS', 'LEG', 'LDOS', 'LEN', 'LLY', 'LNC', 'LIN', 'LYV', 'LKQ', 'LMT', 'L', 'LOW', 'LYB', 'MTB', 'MRO', 'MPC', 'MKTX', 'MAR', 'MMC', 'MLM', 'MAS', 'MA', 'MKC', 'MXIM', 'MCD', 'MCK', 'MDT', 'MRK', 'MET', 'MTD', 'MGM', 'MCHP', 'MU', 'MSFT', 'MAA', 'MHK', 'TAP', 'MDLZ', 'MNST', 'MCO', 'MS', 'MOS', 'MSI', 'MSCI', 'MYL', 'NDAQ', 'NOV', 'NTAP', 'NFLX', 'NWL', 'NEM', 'NWSA', 'NWS', 'NEE', 'NLSN', 'NKE', 'NI', 'NBL', 'NSC', 'NTRS', 'NOC', 'NLOK', 'NCLH', 'NRG', 'NUE', 'NVDA', 'NVR', 'ORLY', 'OXY', 'ODFL', 'OMC', 'OKE', 'ORCL', 'OTIS', 'PCAR', 'PKG', 'PH', 'PAYX', 'PAYC', 'PYPL', 'PNR', 'PBCT', 'PEP', 'PKI', 'PRGO', 'PFE', 'PM', 'PSX', 'PNW', 'PXD', 'PNC', 'PPG', 'PPL', 'PFG', 'PG', 'PGR', 'PLD', 'PRU', 'PEG', 'PSA', 'PHM', 'PVH', 'QRVO', 'PWR', 'QCOM', 'DGX', 'RL', 'RJF', 'RTX', 'O', 'REG', 'REGN', 'RF', 'RSG', 'RMD', 'RHI', 'ROK', 'ROL', 'ROP', 'ROST', 'RCL', 'SPGI', 'CRM', 'SBAC', 'SLB', 'STX', 'SEE', 'SRE', 'NOW', 'SHW', 'SPG', 'SWKS', 'SLG', 'SNA', 'SO', 'LUV', 'SWK', 'SBUX', 'STT', 'STE', 'SYK', 'SIVB', 'SYF', 'SNPS', 'SYY', 'TMUS', 'TROW', 'TTWO', 'TPR', 'TGT', 'TEL', 'FTI', 'TDY', 'TFX', 'TXN', 'TXT', 'TMO', 'TIF', 'TJX', 'TSCO', 'TT', 'TDG', 'TRV', 'TFC', 'TWTR', 'TYL', 'TSN', 'UDR', 'ULTA', 'USB', 'UAA', 'UA', 'UNP', 'UAL', 'UNH', 'UPS', 'URI', 'UHS', 'UNM', 'VFC', 'VLO', 'VAR', 'VTR', 'VRSN', 'VRSK', 'VZ', 'VRTX', 'VIAC', 'V', 'VNO', 'VMC', 'WRB', 'WAB', 'WMT', 'WBA', 'DIS', 'WM', 'WAT', 'WEC', 'WFC', 'WELL', 'WST', 'WDC', 'WU', 'WRK', 'WY', 'WHR', 'WMB', 'WLTW', 'WYNN', 'XEL', 'XRX', 'XLNX', 'XYL', 'YUM', 'ZBRA', 'ZBH', 'ZION', 'ZTS']\n"
     ]
    }
   ],
   "source": [
    "tickers = pd.read_csv('../data/sp500/tickers.csv', usecols=[1])\n",
    "n_assets = tickers.shape[0]\n",
    "print(f'총 자산 수 : {n_assets}')\n",
    "print('티커 : {}'.format(list(tickers.iloc[:,0])))"
   ]
  },
  {
   "cell_type": "code",
   "execution_count": 4,
   "metadata": {},
   "outputs": [
    {
     "name": "stdout",
     "output_type": "stream",
     "text": [
      "타겟 자산 수 : 10\n",
      "타겟 자산 인덱스 : [90, 97, 477, 340, 395, 15, 318, 399, 159, 153]\n",
      "타겟 티커 : ['CBOE', 'CERN', 'WRB', 'NLSN', 'O', 'ALB', 'MU', 'RSG', 'DD', 'DPZ']\n",
      "\n",
      "트래인 자산 수 : 494\n",
      "트래인 자산 인덱스 : [0, 1, 2, 3, 4, 5, 6, 7, 8, 9, 10, 11, 12, 13, 14, 16, 17, 18, 19, 20, 21, 22, 23, 24, 25, 26, 27, 28, 29, 30, 31, 32, 33, 34, 35, 36, 37, 38, 39, 40, 41, 42, 43, 44, 45, 46, 47, 48, 49, 50, 51, 52, 53, 54, 55, 56, 57, 58, 59, 60, 61, 62, 63, 64, 65, 66, 67, 68, 69, 70, 71, 72, 73, 74, 75, 76, 77, 78, 79, 80, 81, 82, 83, 84, 85, 86, 87, 88, 89, 91, 92, 93, 94, 95, 96, 98, 99, 100, 101, 102, 103, 104, 105, 106, 107, 108, 109, 110, 111, 112, 113, 114, 115, 116, 117, 118, 119, 120, 121, 122, 123, 124, 125, 126, 127, 128, 129, 130, 131, 132, 133, 134, 135, 136, 137, 138, 139, 140, 141, 142, 143, 144, 145, 146, 147, 148, 149, 150, 151, 152, 154, 155, 156, 157, 158, 160, 161, 162, 163, 164, 165, 166, 167, 168, 169, 170, 171, 172, 173, 174, 175, 176, 177, 178, 179, 180, 181, 182, 183, 184, 185, 186, 187, 188, 189, 190, 191, 192, 193, 194, 195, 196, 197, 198, 199, 200, 201, 202, 203, 204, 205, 206, 207, 208, 209, 210, 211, 212, 213, 214, 215, 216, 217, 218, 219, 220, 221, 222, 223, 224, 225, 226, 227, 228, 229, 230, 231, 232, 233, 234, 235, 236, 237, 238, 239, 240, 241, 242, 243, 244, 245, 246, 247, 248, 249, 250, 251, 252, 253, 254, 255, 256, 257, 258, 259, 260, 261, 262, 263, 264, 265, 266, 267, 268, 269, 270, 271, 272, 273, 274, 275, 276, 277, 278, 279, 280, 281, 282, 283, 284, 285, 286, 287, 288, 289, 290, 291, 292, 293, 294, 295, 296, 297, 298, 299, 300, 301, 302, 303, 304, 305, 306, 307, 308, 309, 310, 311, 312, 313, 314, 315, 316, 317, 319, 320, 321, 322, 323, 324, 325, 326, 327, 328, 329, 330, 331, 332, 333, 334, 335, 336, 337, 338, 339, 341, 342, 343, 344, 345, 346, 347, 348, 349, 350, 351, 352, 353, 354, 355, 356, 357, 358, 359, 360, 361, 362, 363, 364, 365, 366, 367, 368, 369, 370, 371, 372, 373, 374, 375, 376, 377, 378, 379, 380, 381, 382, 383, 384, 385, 386, 387, 388, 389, 390, 391, 392, 393, 394, 396, 397, 398, 400, 401, 402, 403, 404, 405, 406, 407, 408, 409, 410, 411, 412, 413, 414, 415, 416, 417, 418, 419, 420, 421, 422, 423, 424, 425, 426, 427, 428, 429, 430, 431, 432, 433, 434, 435, 436, 437, 438, 439, 440, 441, 442, 443, 444, 445, 446, 447, 448, 449, 450, 451, 452, 453, 454, 455, 456, 457, 458, 459, 460, 461, 462, 463, 464, 465, 466, 467, 468, 469, 470, 471, 472, 473, 474, 475, 476, 478, 479, 480, 481, 482, 483, 484, 485, 486, 487, 488, 489, 490, 491, 492, 493, 494, 495, 496, 497, 498, 499, 500, 501, 502, 503]\n",
      "트래인 티커 : ['MMM', 'ABT', 'ABBV', 'ABMD', 'ACN', 'ATVI', 'ADBE', 'AMD', 'AAP', 'AES', 'AFL', 'A', 'APD', 'AKAM', 'ALK', 'ARE', 'ALXN', 'ALGN', 'ALLE', 'LNT', 'ALL', 'GOOGL', 'GOOG', 'MO', 'AMZN', 'AMCR', 'AEE', 'AAL', 'AEP', 'AXP', 'AIG', 'AMT', 'AWK', 'AMP', 'ABC', 'AME', 'AMGN', 'APH', 'ADI', 'ANSS', 'ANTM', 'AON', 'AOS', 'APA', 'AIV', 'AAPL', 'AMAT', 'APTV', 'ADM', 'ANET', 'AJG', 'AIZ', 'T', 'ATO', 'ADSK', 'ADP', 'AZO', 'AVB', 'AVY', 'BKR', 'BLL', 'BAC', 'BK', 'BAX', 'BDX', 'BRK-B', 'BBY', 'BIO', 'BIIB', 'BLK', 'BA', 'BKNG', 'BWA', 'BXP', 'BSX', 'BMY', 'AVGO', 'BR', 'BF-B', 'CHRW', 'COG', 'CDNS', 'CPB', 'COF', 'CAH', 'KMX', 'CCL', 'CARR', 'CAT', 'CBRE', 'CDW', 'CE', 'CNC', 'CNP', 'CTL', 'CF', 'SCHW', 'CHTR', 'CVX', 'CMG', 'CB', 'CHD', 'CI', 'CINF', 'CTAS', 'CSCO', 'C', 'CFG', 'CTXS', 'CLX', 'CME', 'CMS', 'KO', 'CTSH', 'CL', 'CMCSA', 'CMA', 'CAG', 'CXO', 'COP', 'ED', 'STZ', 'COO', 'CPRT', 'GLW', 'CTVA', 'COST', 'COTY', 'CCI', 'CSX', 'CMI', 'CVS', 'DHI', 'DHR', 'DRI', 'DVA', 'DE', 'DAL', 'XRAY', 'DVN', 'DXCM', 'FANG', 'DLR', 'DFS', 'DISCA', 'DISCK', 'DISH', 'DG', 'DLTR', 'D', 'DOV', 'DOW', 'DTE', 'DUK', 'DRE', 'DXC', 'ETFC', 'EMN', 'ETN', 'EBAY', 'ECL', 'EIX', 'EW', 'EA', 'EMR', 'ETR', 'EOG', 'EFX', 'EQIX', 'EQR', 'ESS', 'EL', 'EVRG', 'ES', 'RE', 'EXC', 'EXPE', 'EXPD', 'EXR', 'XOM', 'FFIV', 'FB', 'FAST', 'FRT', 'FDX', 'FIS', 'FITB', 'FE', 'FRC', 'FISV', 'FLT', 'FLIR', 'FLS', 'FMC', 'F', 'FTNT', 'FTV', 'FBHS', 'FOXA', 'FOX', 'BEN', 'FCX', 'GPS', 'GRMN', 'IT', 'GD', 'GE', 'GIS', 'GM', 'GPC', 'GILD', 'GL', 'GPN', 'GS', 'GWW', 'HRB', 'HAL', 'HBI', 'HIG', 'HAS', 'HCA', 'PEAK', 'HSIC', 'HSY', 'HES', 'HPE', 'HLT', 'HFC', 'HOLX', 'HD', 'HON', 'HRL', 'HST', 'HWM', 'HPQ', 'HUM', 'HBAN', 'HII', 'IEX', 'IDXX', 'INFO', 'ITW', 'ILMN', 'INCY', 'IR', 'INTC', 'ICE', 'IBM', 'IP', 'IPG', 'IFF', 'INTU', 'ISRG', 'IVZ', 'IPGP', 'IQV', 'IRM', 'JKHY', 'J', 'JBHT', 'SJM', 'JNJ', 'JCI', 'JPM', 'JNPR', 'KSU', 'K', 'KEY', 'KEYS', 'KMB', 'KIM', 'KMI', 'KLAC', 'KSS', 'KHC', 'KR', 'LB', 'LHX', 'LH', 'LRCX', 'LW', 'LVS', 'LEG', 'LDOS', 'LEN', 'LLY', 'LNC', 'LIN', 'LYV', 'LKQ', 'LMT', 'L', 'LOW', 'LYB', 'MTB', 'MRO', 'MPC', 'MKTX', 'MAR', 'MMC', 'MLM', 'MAS', 'MA', 'MKC', 'MXIM', 'MCD', 'MCK', 'MDT', 'MRK', 'MET', 'MTD', 'MGM', 'MCHP', 'MSFT', 'MAA', 'MHK', 'TAP', 'MDLZ', 'MNST', 'MCO', 'MS', 'MOS', 'MSI', 'MSCI', 'MYL', 'NDAQ', 'NOV', 'NTAP', 'NFLX', 'NWL', 'NEM', 'NWSA', 'NWS', 'NEE', 'NKE', 'NI', 'NBL', 'NSC', 'NTRS', 'NOC', 'NLOK', 'NCLH', 'NRG', 'NUE', 'NVDA', 'NVR', 'ORLY', 'OXY', 'ODFL', 'OMC', 'OKE', 'ORCL', 'OTIS', 'PCAR', 'PKG', 'PH', 'PAYX', 'PAYC', 'PYPL', 'PNR', 'PBCT', 'PEP', 'PKI', 'PRGO', 'PFE', 'PM', 'PSX', 'PNW', 'PXD', 'PNC', 'PPG', 'PPL', 'PFG', 'PG', 'PGR', 'PLD', 'PRU', 'PEG', 'PSA', 'PHM', 'PVH', 'QRVO', 'PWR', 'QCOM', 'DGX', 'RL', 'RJF', 'RTX', 'REG', 'REGN', 'RF', 'RMD', 'RHI', 'ROK', 'ROL', 'ROP', 'ROST', 'RCL', 'SPGI', 'CRM', 'SBAC', 'SLB', 'STX', 'SEE', 'SRE', 'NOW', 'SHW', 'SPG', 'SWKS', 'SLG', 'SNA', 'SO', 'LUV', 'SWK', 'SBUX', 'STT', 'STE', 'SYK', 'SIVB', 'SYF', 'SNPS', 'SYY', 'TMUS', 'TROW', 'TTWO', 'TPR', 'TGT', 'TEL', 'FTI', 'TDY', 'TFX', 'TXN', 'TXT', 'TMO', 'TIF', 'TJX', 'TSCO', 'TT', 'TDG', 'TRV', 'TFC', 'TWTR', 'TYL', 'TSN', 'UDR', 'ULTA', 'USB', 'UAA', 'UA', 'UNP', 'UAL', 'UNH', 'UPS', 'URI', 'UHS', 'UNM', 'VFC', 'VLO', 'VAR', 'VTR', 'VRSN', 'VRSK', 'VZ', 'VRTX', 'VIAC', 'V', 'VNO', 'VMC', 'WAB', 'WMT', 'WBA', 'DIS', 'WM', 'WAT', 'WEC', 'WFC', 'WELL', 'WST', 'WDC', 'WU', 'WRK', 'WY', 'WHR', 'WMB', 'WLTW', 'WYNN', 'XEL', 'XRX', 'XLNX', 'XYL', 'YUM', 'ZBRA', 'ZBH', 'ZION']\n"
     ]
    }
   ],
   "source": [
    "target_index = list(np.random.choice(np.arange(n_assets), target_index_size, replace=False))\n",
    "train_index = []\n",
    "for i in range(n_assets-1):\n",
    "    if i not in target_index:\n",
    "        train_index.append(i)\n",
    "        \n",
    "tickers_target = list(tickers.iloc[target_index, 0]) \n",
    "tickers_train = list(tickers.iloc[train_index, 0])\n",
    "        \n",
    "print('타겟 자산 수 : {}'.format(len(target_index)))\n",
    "print('타겟 자산 인덱스 : {}'.format(target_index))\n",
    "print('타겟 티커 : {}'.format(tickers_target), end='\\n\\n')\n",
    "\n",
    "print('트래인 자산 수 : {}'.format(len(train_index)))\n",
    "print('트래인 자산 인덱스 : {}'.format(train_index))\n",
    "print('트래인 티커 : {}'.format(tickers_train))"
   ]
  },
  {
   "cell_type": "code",
   "execution_count": 5,
   "metadata": {},
   "outputs": [
    {
     "name": "stdout",
     "output_type": "stream",
     "text": [
      "(14765, 505)\n"
     ]
    }
   ],
   "source": [
    "df_pct_change = pd.read_csv('../data/sp500/Pct_Change.csv', index_col='Date', parse_dates=True)\n",
    "n_days = df_pct_change.shape[0] \n",
    "print(df_pct_change.shape)"
   ]
  },
  {
   "cell_type": "code",
   "execution_count": 6,
   "metadata": {},
   "outputs": [],
   "source": [
    "def give_me_x_y():\n",
    "    \n",
    "    x = []\n",
    "    y = []\n",
    "\n",
    "    for i in range(batch_size):\n",
    "\n",
    "        while True: \n",
    "\n",
    "    #         target_index_size = 20 # 포트폴리오 자산 갯수\n",
    "    #         n_days_train = 21*6    # 6개월 트래인 기간\n",
    "    #         n_days_test = 21       # 1개월 테스트 기간\n",
    "    #         batch_size = 1000      # 한번 트래인시 필요한 데이터 갯수\n",
    "            start_day_x = np.random.choice(np.arange(n_days-n_days_train-n_days_test), 1)[0] \n",
    "            end_day_x = start_day_x + n_days_train - 1 \n",
    "            start_day_y = start_day_x + n_days_train\n",
    "            end_day_y = start_day_x + n_days_train + n_days_test - 1 \n",
    "\n",
    "            asset_index = list(np.random.choice(train_index, target_index_size, replace=False))\n",
    "\n",
    "            data_x = df_pct_change.iloc[start_day_x:end_day_x+1,asset_index]\n",
    "            data_y = df_pct_change.iloc[start_day_y:end_day_y+1,asset_index]\n",
    "\n",
    "            if not data_x.isnull().any().any():\n",
    "                if not data_y.isnull().any().any():\n",
    "                    try:\n",
    "                        x.append(data_x.values.reshape((-1,)))\n",
    "                        y.append(data_y.values.reshape((-1,)))\n",
    "                        break\n",
    "                    except:\n",
    "                        pass\n",
    "\n",
    "    x = np.array(x)\n",
    "    y = np.array(y)\n",
    "    print(f'트래인 셋 인풋 사이즈 : {x.shape}')\n",
    "    print(f'트래인 셋 아웃풋 사이즈 : {y.shape}')\n",
    "    \n",
    "    return x, y"
   ]
  },
  {
   "cell_type": "code",
   "execution_count": 7,
   "metadata": {},
   "outputs": [
    {
     "name": "stdout",
     "output_type": "stream",
     "text": [
      "트래인 셋 인풋 사이즈 : (1000, 1260)\n",
      "트래인 셋 아웃풋 사이즈 : (1000, 210)\n",
      "첫번째 트래인 셋 인풋 : [ 0.00330993  0.00727584 -0.0041795  ...  0.01477833  0.03571429\n",
      "  0.00130399]\n",
      "첫번째 트래인 셋 아웃풋 : [-9.27459937e-03 -1.82778229e-03 -1.05923044e-02  1.22125989e-02\n",
      "  2.28937729e-03  7.28818706e-03  1.62187210e-03  8.46047157e-03\n",
      " -4.48275862e-01  8.46491942e-03 -2.81311537e-04 -2.03458800e-04\n",
      "  0.00000000e+00  5.72483841e-03 -5.25354043e-03  1.74856798e-02\n",
      "  1.65008867e-02  7.28923119e-03 -8.12500000e-01  5.48829701e-03\n",
      " -2.62631316e-03  6.10500611e-03  1.48568932e-02  1.46896805e-03\n",
      "  6.88863375e-04  2.07407407e-03  1.22126982e-02  1.13326051e-02\n",
      "  0.00000000e+00  2.18333601e-02  8.30721003e-04  1.82038835e-03\n",
      " -1.82992465e-02 -7.39518396e-03 -3.44194585e-03 -2.06978119e-03\n",
      " -2.69784173e-03  1.75509653e-03  0.00000000e+00  2.51374705e-03\n",
      "  1.43297887e-02 -4.84554815e-03 -2.01754386e-02  2.33975740e-03\n",
      "  8.28920101e-03 -2.37037037e-03 -5.25999399e-03  4.71698113e-03\n",
      "  4.33333333e+00 -8.61933866e-03 -7.85881917e-03  8.52099817e-03\n",
      "  2.08146822e-02  7.55574667e-03  5.25234072e-03  5.94000594e-04\n",
      "  8.61157275e-03  8.04828974e-03  0.00000000e+00 -3.31963326e-03\n",
      "  7.04959617e-03  4.82800241e-03  1.60052620e-02  1.08523351e-02\n",
      "  8.63243980e-03  1.42475512e-02  6.74056321e-03  8.38323353e-03\n",
      "  0.00000000e+00  9.67486122e-03  2.95153913e-03 -2.40240240e-03\n",
      "  1.94216659e-02 -6.51387214e-03 -1.80180180e-03 -4.09716125e-03\n",
      " -6.64335664e-02  7.91765637e-04  5.00000000e-01  7.85422557e-04\n",
      " -2.61929341e-04 -1.56532210e-02 -1.98983912e-02 -2.77440505e-02\n",
      "  1.30866426e-02 -2.05700852e-03  1.43437724e-02  2.63713080e-03\n",
      " -8.75000000e-01 -6.27844922e-04  1.20056715e-02 -7.13557594e-03\n",
      "  2.15982721e-03 -2.43521698e-03  2.89532294e-03  7.95053004e-03\n",
      "  3.00887737e-02 -4.99736981e-03  7.66666667e+00  1.88471808e-03\n",
      "  1.15738978e-02  1.41683778e-02 -3.44827586e-03  5.00751127e-03\n",
      " -3.77526094e-03 -4.96640374e-03  5.94874924e-03 -2.24689400e-03\n",
      " -3.84615385e-01  4.70293149e-04  9.78547234e-03 -4.33286090e-02\n",
      " -3.24394464e-02  5.60538117e-03 -6.01872492e-03  1.14503817e-02\n",
      "  8.41546626e-03 -2.38442178e-03  0.00000000e+00  1.33187089e-02\n",
      " -1.41632501e-03 -1.75661376e-02  6.25838176e-03  0.00000000e+00\n",
      "  3.36398296e-03  1.48040639e-02 -1.90211262e-02 -4.78024167e-03\n",
      "  5.62500000e-01  3.55651771e-03 -1.71394446e-02  4.35157260e-02\n",
      "  5.10884052e-03  2.33494364e-02 -1.45283862e-02  2.86041190e-04\n",
      "  1.24923360e-02 -1.46764510e-03 -3.60000000e-01  5.85516179e-03\n",
      " -3.49374165e-04 -4.33526012e-03  1.10497238e-03  2.80215457e-02\n",
      " -4.30936720e-03  1.83014012e-02  1.32465370e-02  1.73703902e-03\n",
      "  5.62500000e-01  3.93688725e-02  7.14188029e-04  2.07339830e-04\n",
      " -7.06401766e-03 -1.30107147e-02  2.96127563e-02 -1.03903398e-02\n",
      " -1.95726879e-02 -4.13498733e-03  0.00000000e+00  1.00368460e-01\n",
      "  6.48384354e-03  6.63349917e-03  2.53445976e-02 -3.22099612e-03\n",
      " -7.96460177e-03  2.83768445e-04 -2.66686986e-03 -1.60728636e-03\n",
      " -3.60000000e-01 -3.26814894e-02 -7.46797821e-03  3.29489292e-03\n",
      "  2.45013010e-02 -1.43617976e-03  1.02586976e-02 -5.67375887e-04\n",
      "  1.60440064e-03 -9.39093104e-04 -8.12500000e-01  2.04929382e-02\n",
      "  2.52325652e-03 -6.15763547e-04 -2.66666667e-02  1.29442081e-02\n",
      "  8.60927152e-03  9.93471473e-03  2.50953471e-02  1.30253793e-02\n",
      "  4.33333333e+00  3.18860244e-02 -7.03520636e-03  1.56089546e-02\n",
      " -3.84866275e-02 -1.57368514e-02 -8.53578464e-03  6.46430579e-03\n",
      " -1.54029318e-02  1.98833510e-03 -8.12500000e-01  3.81328074e-03\n",
      "  8.10810811e-03  1.03134479e-02 -2.19357757e-02  1.49666406e-02\n",
      "  6.62251656e-04 -3.35101927e-03 -1.43591294e-03 -1.05834105e-03\n",
      "  0.00000000e+00  2.48886560e-02]\n"
     ]
    }
   ],
   "source": [
    "x, y = give_me_x_y() \n",
    "print(f'첫번째 트래인 셋 인풋 : {x[0]}')\n",
    "print(f'첫번째 트래인 셋 아웃풋 : {y[0]}')"
   ]
  },
  {
   "cell_type": "code",
   "execution_count": 8,
   "metadata": {},
   "outputs": [
    {
     "name": "stdout",
     "output_type": "stream",
     "text": [
      "트래인 셋 인풋 사이즈 : (1000, 1260)\n",
      "트래인 셋 아웃풋 사이즈 : (1000, 210)\n",
      "트래인 셋 인풋 사이즈 : (1000, 1260)\n",
      "트래인 셋 아웃풋 사이즈 : (1000, 210)\n",
      "트래인 셋 인풋 사이즈 : (1000, 1260)\n",
      "트래인 셋 아웃풋 사이즈 : (1000, 210)\n"
     ]
    }
   ],
   "source": [
    "for i in range(3):\n",
    "    give_me_x_y() "
   ]
  },
  {
   "cell_type": "code",
   "execution_count": 10,
   "metadata": {},
   "outputs": [
    {
     "name": "stdout",
     "output_type": "stream",
     "text": [
      "트래인 셋 인풋 사이즈 : (1000, 126)\n",
      "트래인 셋 아웃풋 사이즈 : (1000, 21)\n",
      "1\n",
      "트래인 셋 인풋 사이즈 : (1000, 126)\n",
      "트래인 셋 아웃풋 사이즈 : (1000, 21)\n",
      "2\n",
      "트래인 셋 인풋 사이즈 : (1000, 126)\n",
      "트래인 셋 아웃풋 사이즈 : (1000, 21)\n",
      "3\n",
      "트래인 셋 인풋 사이즈 : (1000, 126)\n",
      "트래인 셋 아웃풋 사이즈 : (1000, 21)\n",
      "3\n",
      "트래인 셋 인풋 사이즈 : (1000, 126)\n",
      "트래인 셋 아웃풋 사이즈 : (1000, 21)\n",
      "3\n",
      "트래인 셋 인풋 사이즈 : (1000, 126)\n",
      "트래인 셋 아웃풋 사이즈 : (1000, 21)\n",
      "3\n",
      "트래인 셋 인풋 사이즈 : (1000, 126)\n",
      "트래인 셋 아웃풋 사이즈 : (1000, 21)\n",
      "3\n",
      "트래인 셋 인풋 사이즈 : (1000, 126)\n",
      "트래인 셋 아웃풋 사이즈 : (1000, 21)\n",
      "3\n",
      "트래인 셋 인풋 사이즈 : (1000, 126)\n",
      "트래인 셋 아웃풋 사이즈 : (1000, 21)\n",
      "3\n",
      "트래인 셋 인풋 사이즈 : (1000, 126)\n",
      "트래인 셋 아웃풋 사이즈 : (1000, 21)\n",
      "3\n"
     ]
    }
   ],
   "source": [
    "buffer = deque(maxlen=3)\n",
    "for i in range(10):\n",
    "    buffer.append(give_me_x_y())\n",
    "    #print(buffer)\n",
    "    print(len(list(buffer)))"
   ]
  },
  {
   "cell_type": "code",
   "execution_count": null,
   "metadata": {},
   "outputs": [],
   "source": []
  }
 ],
 "metadata": {
  "kernelspec": {
   "display_name": "Python 3",
   "language": "python",
   "name": "python3"
  },
  "language_info": {
   "codemirror_mode": {
    "name": "ipython",
    "version": 3
   },
   "file_extension": ".py",
   "mimetype": "text/x-python",
   "name": "python",
   "nbconvert_exporter": "python",
   "pygments_lexer": "ipython3",
   "version": "3.7.7"
  }
 },
 "nbformat": 4,
 "nbformat_minor": 4
}
