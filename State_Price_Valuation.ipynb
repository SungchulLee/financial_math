{
 "cells": [
  {
   "cell_type": "code",
   "execution_count": 8,
   "metadata": {},
   "outputs": [
    {
     "name": "stdout",
     "output_type": "stream",
     "text": [
      "Call option price :  28.57967803604119\n",
      "Put option price  :  13.191197925291307\n"
     ]
    }
   ],
   "source": [
    "# State price valuation - Call and Put\n",
    "\n",
    "import numpy as np\n",
    "from scipy.special import comb\n",
    "\n",
    "S=258; K=250; T=1; r=0.03; v=0.20;\n",
    "\n",
    "M = 12*21; \n",
    "t = np.linspace(0, T, num=M+1, endpoint=True);\n",
    "dt = t[2]-t[1];\n",
    "\n",
    "# Choose a parametrization\n",
    "if 0:\n",
    "    # Wilmott parametrization\n",
    "    U=1+v*np.sqrt(dt); \n",
    "    D=1-v*np.sqrt(dt); \n",
    "    q_u=0.5+r*np.sqrt(dt)/(2*v); \n",
    "    q_d=1-q_u; \n",
    "elif 0:\n",
    "    # CRR parametrization\n",
    "    U=exp(v*np.sqrt(dt)); \n",
    "    D=exp(-v*np.sqrt(dt)); \n",
    "    q_u=(np.exp(r*dt)-D)/(U-D); \n",
    "    q_d=1-q_u; \n",
    "elif 1:\n",
    "    # JR parametrization\n",
    "    U=np.exp((r-0.5*v**2)*dt+v*np.sqrt(dt)); \n",
    "    D=np.exp((r-0.5*v**2)*dt-v*np.sqrt(dt)); \n",
    "    q_u=0.5; \n",
    "    q_d=1-q_u; \n",
    "\n",
    "# Option value at maturity\n",
    "Stock = S * D**np.arange(0,M+1) * U**np.arange(M,-1,-1);\n",
    "V1 = np.maximum(Stock-K,0); # Call at maturity \n",
    "V2 = np.maximum(K-Stock,0); # Put at maturity\n",
    "\n",
    "# State price valuation\n",
    "pi_u = np.exp(-r*dt) * q_u;\n",
    "pi_d = np.exp(-r*dt) * q_d;\n",
    "call_SP = np.sum(V1 * pi_d**np.arange(M,-1,-1) * pi_u**np.arange(0,M+1) * comb(M,np.arange(M,-1,-1))) \n",
    "put_SP  = np.sum(V2 * pi_d**np.arange(M,-1,-1) * pi_u**np.arange(0,M+1) * comb(M,np.arange(M,-1,-1))) \n",
    "print('Call option price : ', call_SP)\n",
    "print('Put option price  : ', put_SP)"
   ]
  },
  {
   "cell_type": "code",
   "execution_count": null,
   "metadata": {},
   "outputs": [],
   "source": []
  }
 ],
 "metadata": {
  "kernelspec": {
   "display_name": "Python [conda env:anaconda]",
   "language": "python",
   "name": "conda-env-anaconda-py"
  },
  "language_info": {
   "codemirror_mode": {
    "name": "ipython",
    "version": 3
   },
   "file_extension": ".py",
   "mimetype": "text/x-python",
   "name": "python",
   "nbconvert_exporter": "python",
   "pygments_lexer": "ipython3",
   "version": "3.5.5"
  }
 },
 "nbformat": 4,
 "nbformat_minor": 2
}
