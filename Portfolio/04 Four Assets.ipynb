{
 "cells": [
  {
   "cell_type": "markdown",
   "metadata": {},
   "source": [
    "# Many Assets\n",
    "\n",
    "<a href=\"#Read-CSV-File\">Read CSV File</a>\n",
    "\n",
    "<a href=\"#Plot-Adj-Close\">Plot Adj Close</a>\n",
    "\n",
    "<a href=\"#Plot-Normalized-Adj-Close\">Plot Normalized Adj Close</a>\n",
    "\n",
    "<a href=\"#Compute-Daily-Return\">Compute Daily Return</a>\n",
    "\n",
    "<a href=\"#Compute-Annualized-Expected-Return,-Volatility,-and-Covariance-Matrix\">Compute Annualized Expected Return, Volatility, and Covariance Matrix</a>\n",
    "\n",
    "<a href=\"#Risk-Return-Plot\">Risk Return Plot</a>"
   ]
  },
  {
   "cell_type": "markdown",
   "metadata": {},
   "source": [
    "# Read CSV Fle"
   ]
  },
  {
   "cell_type": "code",
   "execution_count": 1,
   "metadata": {
    "collapsed": true
   },
   "outputs": [],
   "source": [
    "import os\n",
    "import numpy as np\n",
    "import matplotlib.pyplot as plt\n",
    "import pandas as pd\n",
    "%matplotlib inline"
   ]
  },
  {
   "cell_type": "code",
   "execution_count": 2,
   "metadata": {
    "collapsed": true
   },
   "outputs": [],
   "source": [
    "start = \"2017-01-01\"\n",
    "end   = \"2017-12-31\"\n",
    "dates = pd.date_range(start, end)"
   ]
  },
  {
   "cell_type": "code",
   "execution_count": 3,
   "metadata": {
    "collapsed": true
   },
   "outputs": [],
   "source": [
    "df_adj_close = pd.DataFrame(index=dates) \n",
    "df_temp      = pd.read_csv(\"../data/finance/python_for_finance/stocks.csv\", index_col=\"Date\") \n",
    "df_adj_close = df_adj_close.join(df_temp).dropna()"
   ]
  },
  {
   "cell_type": "code",
   "execution_count": 4,
   "metadata": {},
   "outputs": [
    {
     "data": {
      "text/html": [
       "<div>\n",
       "<style>\n",
       "    .dataframe thead tr:only-child th {\n",
       "        text-align: right;\n",
       "    }\n",
       "\n",
       "    .dataframe thead th {\n",
       "        text-align: left;\n",
       "    }\n",
       "\n",
       "    .dataframe tbody tr th {\n",
       "        vertical-align: top;\n",
       "    }\n",
       "</style>\n",
       "<table border=\"1\" class=\"dataframe\">\n",
       "  <thead>\n",
       "    <tr style=\"text-align: right;\">\n",
       "      <th></th>\n",
       "      <th>KO</th>\n",
       "      <th>MS</th>\n",
       "      <th>005930.KS</th>\n",
       "      <th>000660.KS</th>\n",
       "    </tr>\n",
       "  </thead>\n",
       "  <tbody>\n",
       "    <tr>\n",
       "      <th>2017-01-02</th>\n",
       "      <td>41.459999</td>\n",
       "      <td>42.250000</td>\n",
       "      <td>36100.0</td>\n",
       "      <td>45800.0</td>\n",
       "    </tr>\n",
       "    <tr>\n",
       "      <th>2017-01-03</th>\n",
       "      <td>41.799999</td>\n",
       "      <td>43.049999</td>\n",
       "      <td>36480.0</td>\n",
       "      <td>47250.0</td>\n",
       "    </tr>\n",
       "    <tr>\n",
       "      <th>2017-01-04</th>\n",
       "      <td>41.650002</td>\n",
       "      <td>43.619999</td>\n",
       "      <td>36160.0</td>\n",
       "      <td>46500.0</td>\n",
       "    </tr>\n",
       "    <tr>\n",
       "      <th>2017-01-05</th>\n",
       "      <td>41.750000</td>\n",
       "      <td>43.220001</td>\n",
       "      <td>35560.0</td>\n",
       "      <td>46950.0</td>\n",
       "    </tr>\n",
       "    <tr>\n",
       "      <th>2017-01-06</th>\n",
       "      <td>41.740002</td>\n",
       "      <td>43.849998</td>\n",
       "      <td>36200.0</td>\n",
       "      <td>48000.0</td>\n",
       "    </tr>\n",
       "  </tbody>\n",
       "</table>\n",
       "</div>"
      ],
      "text/plain": [
       "                   KO         MS  005930.KS  000660.KS\n",
       "2017-01-02  41.459999  42.250000    36100.0    45800.0\n",
       "2017-01-03  41.799999  43.049999    36480.0    47250.0\n",
       "2017-01-04  41.650002  43.619999    36160.0    46500.0\n",
       "2017-01-05  41.750000  43.220001    35560.0    46950.0\n",
       "2017-01-06  41.740002  43.849998    36200.0    48000.0"
      ]
     },
     "execution_count": 4,
     "metadata": {},
     "output_type": "execute_result"
    }
   ],
   "source": [
    "df_adj_close.head()"
   ]
  },
  {
   "cell_type": "code",
   "execution_count": 5,
   "metadata": {},
   "outputs": [
    {
     "data": {
      "text/html": [
       "<div>\n",
       "<style>\n",
       "    .dataframe thead tr:only-child th {\n",
       "        text-align: right;\n",
       "    }\n",
       "\n",
       "    .dataframe thead th {\n",
       "        text-align: left;\n",
       "    }\n",
       "\n",
       "    .dataframe tbody tr th {\n",
       "        vertical-align: top;\n",
       "    }\n",
       "</style>\n",
       "<table border=\"1\" class=\"dataframe\">\n",
       "  <thead>\n",
       "    <tr style=\"text-align: right;\">\n",
       "      <th></th>\n",
       "      <th>KO</th>\n",
       "      <th>MS</th>\n",
       "      <th>005930.KS</th>\n",
       "      <th>000660.KS</th>\n",
       "    </tr>\n",
       "  </thead>\n",
       "  <tbody>\n",
       "    <tr>\n",
       "      <th>2017-12-22</th>\n",
       "      <td>45.590000</td>\n",
       "      <td>52.720001</td>\n",
       "      <td>49700.0</td>\n",
       "      <td>76700.0</td>\n",
       "    </tr>\n",
       "    <tr>\n",
       "      <th>2017-12-26</th>\n",
       "      <td>45.810001</td>\n",
       "      <td>52.470001</td>\n",
       "      <td>48200.0</td>\n",
       "      <td>74000.0</td>\n",
       "    </tr>\n",
       "    <tr>\n",
       "      <th>2017-12-27</th>\n",
       "      <td>45.930000</td>\n",
       "      <td>52.570000</td>\n",
       "      <td>49360.0</td>\n",
       "      <td>75100.0</td>\n",
       "    </tr>\n",
       "    <tr>\n",
       "      <th>2017-12-28</th>\n",
       "      <td>45.720001</td>\n",
       "      <td>52.650002</td>\n",
       "      <td>50960.0</td>\n",
       "      <td>76500.0</td>\n",
       "    </tr>\n",
       "    <tr>\n",
       "      <th>2017-12-29</th>\n",
       "      <td>45.880001</td>\n",
       "      <td>52.470001</td>\n",
       "      <td>50960.0</td>\n",
       "      <td>76500.0</td>\n",
       "    </tr>\n",
       "  </tbody>\n",
       "</table>\n",
       "</div>"
      ],
      "text/plain": [
       "                   KO         MS  005930.KS  000660.KS\n",
       "2017-12-22  45.590000  52.720001    49700.0    76700.0\n",
       "2017-12-26  45.810001  52.470001    48200.0    74000.0\n",
       "2017-12-27  45.930000  52.570000    49360.0    75100.0\n",
       "2017-12-28  45.720001  52.650002    50960.0    76500.0\n",
       "2017-12-29  45.880001  52.470001    50960.0    76500.0"
      ]
     },
     "execution_count": 5,
     "metadata": {},
     "output_type": "execute_result"
    }
   ],
   "source": [
    "df_adj_close.tail()"
   ]
  },
  {
   "cell_type": "markdown",
   "metadata": {},
   "source": [
    "[<a href=\"#Many-Assets\">Back to top</a>]"
   ]
  },
  {
   "cell_type": "markdown",
   "metadata": {},
   "source": [
    "# Plot Adj Close"
   ]
  },
  {
   "cell_type": "code",
   "execution_count": 6,
   "metadata": {},
   "outputs": [
    {
     "data": {
      "text/plain": [
       "<matplotlib.axes._subplots.AxesSubplot at 0x112b717f0>"
      ]
     },
     "execution_count": 6,
     "metadata": {},
     "output_type": "execute_result"
    },
    {
     "data": {
      "image/png": "[encoded data removed]",
      "text/plain": [
       "<matplotlib.figure.Figure at 0x112786978>"
      ]
     },
     "metadata": {},
     "output_type": "display_data"
    }
   ],
   "source": [
    "df_adj_close.plot()"
   ]
  },
  {
   "cell_type": "markdown",
   "metadata": {},
   "source": [
    "[<a href=\"#Many-Assets\">Back to top</a>]"
   ]
  },
  {
   "cell_type": "markdown",
   "metadata": {},
   "source": [
    "# Plot Normalized Adj Close"
   ]
  },
  {
   "cell_type": "code",
   "execution_count": 7,
   "metadata": {
    "collapsed": true
   },
   "outputs": [],
   "source": [
    "df_normalized_prices = df_adj_close / df_adj_close.iloc[0,:]  "
   ]
  },
  {
   "cell_type": "code",
   "execution_count": 8,
   "metadata": {},
   "outputs": [
    {
     "data": {
      "text/plain": [
       "<matplotlib.axes._subplots.AxesSubplot at 0x112b20390>"
      ]
     },
     "execution_count": 8,
     "metadata": {},
     "output_type": "execute_result"
    },
    {
     "data": {
      "image/png": "[encoded data removed]",
      "text/plain": [
       "<matplotlib.figure.Figure at 0x112b1bdd8>"
      ]
     },
     "metadata": {},
     "output_type": "display_data"
    }
   ],
   "source": [
    "df_normalized_prices.plot()"
   ]
  },
  {
   "cell_type": "markdown",
   "metadata": {},
   "source": [
    "[<a href=\"#Many-Assets\">Back to top</a>]"
   ]
  },
  {
   "cell_type": "markdown",
   "metadata": {},
   "source": [
    "# Compute Daily Return"
   ]
  },
  {
   "cell_type": "code",
   "execution_count": 9,
   "metadata": {},
   "outputs": [
    {
     "data": {
      "text/html": [
       "<div>\n",
       "<style>\n",
       "    .dataframe thead tr:only-child th {\n",
       "        text-align: right;\n",
       "    }\n",
       "\n",
       "    .dataframe thead th {\n",
       "        text-align: left;\n",
       "    }\n",
       "\n",
       "    .dataframe tbody tr th {\n",
       "        vertical-align: top;\n",
       "    }\n",
       "</style>\n",
       "<table border=\"1\" class=\"dataframe\">\n",
       "  <thead>\n",
       "    <tr style=\"text-align: right;\">\n",
       "      <th></th>\n",
       "      <th>KO</th>\n",
       "      <th>MS</th>\n",
       "      <th>005930.KS</th>\n",
       "      <th>000660.KS</th>\n",
       "    </tr>\n",
       "  </thead>\n",
       "  <tbody>\n",
       "    <tr>\n",
       "      <th>2017-01-02</th>\n",
       "      <td>NaN</td>\n",
       "      <td>NaN</td>\n",
       "      <td>NaN</td>\n",
       "      <td>NaN</td>\n",
       "    </tr>\n",
       "    <tr>\n",
       "      <th>2017-01-03</th>\n",
       "      <td>0.008201</td>\n",
       "      <td>0.018935</td>\n",
       "      <td>0.010526</td>\n",
       "      <td>0.031659</td>\n",
       "    </tr>\n",
       "    <tr>\n",
       "      <th>2017-01-04</th>\n",
       "      <td>-0.003588</td>\n",
       "      <td>0.013240</td>\n",
       "      <td>-0.008772</td>\n",
       "      <td>-0.015873</td>\n",
       "    </tr>\n",
       "    <tr>\n",
       "      <th>2017-01-05</th>\n",
       "      <td>0.002401</td>\n",
       "      <td>-0.009170</td>\n",
       "      <td>-0.016593</td>\n",
       "      <td>0.009677</td>\n",
       "    </tr>\n",
       "    <tr>\n",
       "      <th>2017-01-06</th>\n",
       "      <td>-0.000239</td>\n",
       "      <td>0.014577</td>\n",
       "      <td>0.017998</td>\n",
       "      <td>0.022364</td>\n",
       "    </tr>\n",
       "  </tbody>\n",
       "</table>\n",
       "</div>"
      ],
      "text/plain": [
       "                  KO        MS  005930.KS  000660.KS\n",
       "2017-01-02       NaN       NaN        NaN        NaN\n",
       "2017-01-03  0.008201  0.018935   0.010526   0.031659\n",
       "2017-01-04 -0.003588  0.013240  -0.008772  -0.015873\n",
       "2017-01-05  0.002401 -0.009170  -0.016593   0.009677\n",
       "2017-01-06 -0.000239  0.014577   0.017998   0.022364"
      ]
     },
     "execution_count": 9,
     "metadata": {},
     "output_type": "execute_result"
    }
   ],
   "source": [
    "df_daily_return = df_adj_close.pct_change()\n",
    "df_daily_return.head()"
   ]
  },
  {
   "cell_type": "code",
   "execution_count": 10,
   "metadata": {},
   "outputs": [
    {
     "data": {
      "text/html": [
       "<div>\n",
       "<style>\n",
       "    .dataframe thead tr:only-child th {\n",
       "        text-align: right;\n",
       "    }\n",
       "\n",
       "    .dataframe thead th {\n",
       "        text-align: left;\n",
       "    }\n",
       "\n",
       "    .dataframe tbody tr th {\n",
       "        vertical-align: top;\n",
       "    }\n",
       "</style>\n",
       "<table border=\"1\" class=\"dataframe\">\n",
       "  <thead>\n",
       "    <tr style=\"text-align: right;\">\n",
       "      <th></th>\n",
       "      <th>KO</th>\n",
       "      <th>MS</th>\n",
       "      <th>005930.KS</th>\n",
       "      <th>000660.KS</th>\n",
       "    </tr>\n",
       "  </thead>\n",
       "  <tbody>\n",
       "    <tr>\n",
       "      <th>count</th>\n",
       "      <td>258.000000</td>\n",
       "      <td>258.000000</td>\n",
       "      <td>258.000000</td>\n",
       "      <td>258.000000</td>\n",
       "    </tr>\n",
       "    <tr>\n",
       "      <th>mean</th>\n",
       "      <td>0.000409</td>\n",
       "      <td>0.000924</td>\n",
       "      <td>0.001445</td>\n",
       "      <td>0.002215</td>\n",
       "    </tr>\n",
       "    <tr>\n",
       "      <th>std</th>\n",
       "      <td>0.005669</td>\n",
       "      <td>0.013004</td>\n",
       "      <td>0.014699</td>\n",
       "      <td>0.021225</td>\n",
       "    </tr>\n",
       "    <tr>\n",
       "      <th>min</th>\n",
       "      <td>-0.020408</td>\n",
       "      <td>-0.055556</td>\n",
       "      <td>-0.050847</td>\n",
       "      <td>-0.067961</td>\n",
       "    </tr>\n",
       "    <tr>\n",
       "      <th>25%</th>\n",
       "      <td>-0.002615</td>\n",
       "      <td>-0.006107</td>\n",
       "      <td>-0.005569</td>\n",
       "      <td>-0.009114</td>\n",
       "    </tr>\n",
       "    <tr>\n",
       "      <th>50%</th>\n",
       "      <td>0.000655</td>\n",
       "      <td>0.000000</td>\n",
       "      <td>0.000000</td>\n",
       "      <td>0.000503</td>\n",
       "    </tr>\n",
       "    <tr>\n",
       "      <th>75%</th>\n",
       "      <td>0.003990</td>\n",
       "      <td>0.008364</td>\n",
       "      <td>0.010104</td>\n",
       "      <td>0.016429</td>\n",
       "    </tr>\n",
       "    <tr>\n",
       "      <th>max</th>\n",
       "      <td>0.018793</td>\n",
       "      <td>0.054593</td>\n",
       "      <td>0.041270</td>\n",
       "      <td>0.069964</td>\n",
       "    </tr>\n",
       "  </tbody>\n",
       "</table>\n",
       "</div>"
      ],
      "text/plain": [
       "               KO          MS   005930.KS   000660.KS\n",
       "count  258.000000  258.000000  258.000000  258.000000\n",
       "mean     0.000409    0.000924    0.001445    0.002215\n",
       "std      0.005669    0.013004    0.014699    0.021225\n",
       "min     -0.020408   -0.055556   -0.050847   -0.067961\n",
       "25%     -0.002615   -0.006107   -0.005569   -0.009114\n",
       "50%      0.000655    0.000000    0.000000    0.000503\n",
       "75%      0.003990    0.008364    0.010104    0.016429\n",
       "max      0.018793    0.054593    0.041270    0.069964"
      ]
     },
     "execution_count": 10,
     "metadata": {},
     "output_type": "execute_result"
    }
   ],
   "source": [
    "df_daily_return.describe()"
   ]
  },
  {
   "cell_type": "markdown",
   "metadata": {},
   "source": [
    "[<a href=\"#Many-Assets\">Back to top</a>]"
   ]
  },
  {
   "cell_type": "markdown",
   "metadata": {},
   "source": [
    "# Compute Annualized Expected Return, Volatility, and Covariance Matrix"
   ]
  },
  {
   "cell_type": "code",
   "execution_count": 11,
   "metadata": {
    "collapsed": true
   },
   "outputs": [],
   "source": [
    "def compute_expected_return(df_daily_return):\n",
    "    return 252 * df_daily_return.mean() "
   ]
  },
  {
   "cell_type": "code",
   "execution_count": 12,
   "metadata": {},
   "outputs": [
    {
     "data": {
      "text/plain": [
       "KO           0.103004\n",
       "MS           0.232919\n",
       "005930.KS    0.364126\n",
       "000660.KS    0.558234\n",
       "dtype: float64"
      ]
     },
     "execution_count": 12,
     "metadata": {},
     "output_type": "execute_result"
    }
   ],
   "source": [
    "df_mu = compute_expected_return(df_daily_return)\n",
    "df_mu"
   ]
  },
  {
   "cell_type": "code",
   "execution_count": 13,
   "metadata": {
    "collapsed": true
   },
   "outputs": [],
   "source": [
    "def compute_volatility(df_daily_return):\n",
    "    return np.sqrt(252 * df_daily_return.var())"
   ]
  },
  {
   "cell_type": "code",
   "execution_count": 14,
   "metadata": {},
   "outputs": [
    {
     "data": {
      "text/plain": [
       "KO           0.089987\n",
       "MS           0.206439\n",
       "005930.KS    0.233347\n",
       "000660.KS    0.336944\n",
       "dtype: float64"
      ]
     },
     "execution_count": 14,
     "metadata": {},
     "output_type": "execute_result"
    }
   ],
   "source": [
    "df_vol = compute_volatility(df_daily_return)\n",
    "df_vol"
   ]
  },
  {
   "cell_type": "code",
   "execution_count": 15,
   "metadata": {
    "collapsed": true
   },
   "outputs": [],
   "source": [
    "def compute_covariance_matrix(df_daily_return):\n",
    "    return 252 * df_daily_return.cov()"
   ]
  },
  {
   "cell_type": "code",
   "execution_count": 16,
   "metadata": {},
   "outputs": [
    {
     "data": {
      "text/html": [
       "<div>\n",
       "<style>\n",
       "    .dataframe thead tr:only-child th {\n",
       "        text-align: right;\n",
       "    }\n",
       "\n",
       "    .dataframe thead th {\n",
       "        text-align: left;\n",
       "    }\n",
       "\n",
       "    .dataframe tbody tr th {\n",
       "        vertical-align: top;\n",
       "    }\n",
       "</style>\n",
       "<table border=\"1\" class=\"dataframe\">\n",
       "  <thead>\n",
       "    <tr style=\"text-align: right;\">\n",
       "      <th></th>\n",
       "      <th>KO</th>\n",
       "      <th>MS</th>\n",
       "      <th>005930.KS</th>\n",
       "      <th>000660.KS</th>\n",
       "    </tr>\n",
       "  </thead>\n",
       "  <tbody>\n",
       "    <tr>\n",
       "      <th>KO</th>\n",
       "      <td>0.008098</td>\n",
       "      <td>-0.001581</td>\n",
       "      <td>0.000666</td>\n",
       "      <td>0.002877</td>\n",
       "    </tr>\n",
       "    <tr>\n",
       "      <th>MS</th>\n",
       "      <td>-0.001581</td>\n",
       "      <td>0.042617</td>\n",
       "      <td>0.000291</td>\n",
       "      <td>0.001657</td>\n",
       "    </tr>\n",
       "    <tr>\n",
       "      <th>005930.KS</th>\n",
       "      <td>0.000666</td>\n",
       "      <td>0.000291</td>\n",
       "      <td>0.054451</td>\n",
       "      <td>0.043340</td>\n",
       "    </tr>\n",
       "    <tr>\n",
       "      <th>000660.KS</th>\n",
       "      <td>0.002877</td>\n",
       "      <td>0.001657</td>\n",
       "      <td>0.043340</td>\n",
       "      <td>0.113531</td>\n",
       "    </tr>\n",
       "  </tbody>\n",
       "</table>\n",
       "</div>"
      ],
      "text/plain": [
       "                 KO        MS  005930.KS  000660.KS\n",
       "KO         0.008098 -0.001581   0.000666   0.002877\n",
       "MS        -0.001581  0.042617   0.000291   0.001657\n",
       "005930.KS  0.000666  0.000291   0.054451   0.043340\n",
       "000660.KS  0.002877  0.001657   0.043340   0.113531"
      ]
     },
     "execution_count": 16,
     "metadata": {},
     "output_type": "execute_result"
    }
   ],
   "source": [
    "df_cov = compute_covariance_matrix(df_daily_return)\n",
    "df_cov"
   ]
  },
  {
   "cell_type": "markdown",
   "metadata": {},
   "source": [
    "[<a href=\"#Many-Assets\">Back to top</a>]"
   ]
  },
  {
   "cell_type": "markdown",
   "metadata": {},
   "source": [
    "# Risk Return Plot"
   ]
  },
  {
   "cell_type": "code",
   "execution_count": 17,
   "metadata": {},
   "outputs": [
    {
     "data": {
      "image/png": "[encoded data removed]",
      "text/plain": [
       "<matplotlib.figure.Figure at 0x11312a940>"
      ]
     },
     "metadata": {},
     "output_type": "display_data"
    }
   ],
   "source": [
    "ticker_list = ['KO', 'MS', 'SAMSUNG', 'HYNIX']\n",
    "\n",
    "fig, ax = plt.subplots()\n",
    "     \n",
    "for i, ticker in enumerate(ticker_list):\n",
    "    ax.scatter(df_vol[i], df_mu[i], alpha=0.5)\n",
    "    ax.annotate(ticker, (df_vol[i],df_mu[i]))"
   ]
  },
  {
   "cell_type": "markdown",
   "metadata": {},
   "source": [
    "[<a href=\"#Many-Assets\">Back to top</a>]"
   ]
  }
 ],
 "metadata": {
  "kernelspec": {
   "display_name": "Python [default]",
   "language": "python",
   "name": "python3"
  },
  "language_info": {
   "codemirror_mode": {
    "name": "ipython",
    "version": 3
   },
   "file_extension": ".py",
   "mimetype": "text/x-python",
   "name": "python",
   "nbconvert_exporter": "python",
   "pygments_lexer": "ipython3",
   "version": "3.5.3"
  }
 },
 "nbformat": 4,
 "nbformat_minor": 2
}
