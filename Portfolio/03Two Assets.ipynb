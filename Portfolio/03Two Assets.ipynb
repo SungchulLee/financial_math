{
 "cells": [
  {
   "cell_type": "markdown",
   "metadata": {},
   "source": [
    "# Two Assets"
   ]
  },
  {
   "cell_type": "markdown",
   "metadata": {},
   "source": [
    "1 Portfolio Choice with Multiple Assets - Financial Engineering by Simon Benninga [youtube](https://www.youtube.com/watch?v=f6slIClVSXw&list=PL49E8B0672C047CE1)"
   ]
  },
  {
   "cell_type": "markdown",
   "metadata": {},
   "source": [
    "# Basic Statistics of Two Assets"
   ]
  },
  {
   "cell_type": "markdown",
   "metadata": {},
   "source": [
    "$$\\begin{array}{llllll}\n",
    "\\mbox{Daily Return}&&\\displaystyle\n",
    "{\\bf r}_t\n",
    "=\n",
    "\\left[\\begin{array}{c}\n",
    "r^{(1)}_t\\\\r^{(2)}_t\n",
    "\\end{array}\\right]\n",
    "=\n",
    "\\left[\\begin{array}{c}\n",
    "\\frac{S^{(1)}_t-S^{(1)}_{t-1}}{S^{(1)}_{t-1}}\\\\\\frac{S^{(2)}_t-S^{(2)}_{t-1}}{S^{(2)}_{t-1}}\n",
    "\\end{array}\\right]\n",
    "\\nonumber\\\\\n",
    "\\\\\n",
    "\\mbox{Expected return}&&\\displaystyle\n",
    "\\mu=252*E{\\bf r}_t=\n",
    "\\left[\\begin{array}{c}\n",
    "\\mu_1\\\\\\mu_2\n",
    "\\end{array}\\right]\\nonumber\\\\\n",
    "\\\\\n",
    "\\mbox{Covariance}&&\\displaystyle\n",
    "\\Sigma\n",
    "=\n",
    "252*E({\\bf r}_t-E{\\bf r}_t)({\\bf r}_t-{\\bf r}_t)^T\n",
    "=\n",
    "\\left[\\begin{array}{cc}\n",
    "\\sigma_1^2&\\sigma_{12}\\\\\n",
    "\\sigma_{21}&\\sigma_{2}^2\n",
    "\\end{array}\\right]\\nonumber\n",
    "\\end{array}$$"
   ]
  },
  {
   "cell_type": "markdown",
   "metadata": {},
   "source": [
    "# Basic Statistics of Portfolio"
   ]
  },
  {
   "cell_type": "markdown",
   "metadata": {},
   "source": [
    "$$\\begin{array}{llll}\n",
    "\\mbox{Portfolio}&&\\displaystyle\n",
    "{\\bf x}\n",
    "=\n",
    "\\left[\\begin{array}{c}\n",
    "x_1\\\\x_2\n",
    "\\end{array}\\right]\n",
    "\\quad\\mbox{with}\\quad\n",
    "{\\bf 1}^T{\\bf x}=1\\nonumber\\\\\n",
    "\\\\\n",
    "\\mbox{Return}&&\\displaystyle\n",
    "r_{{\\bf x}}\n",
    "=\n",
    "{\\bf r}^T{\\bf x}\\nonumber\\\\\n",
    "\\\\\n",
    "\\mbox{Expected return}&&\\displaystyle\n",
    "\\mu_{{\\bf x}}\n",
    "=\n",
    "\\mu^T{\\bf x}\\nonumber\\\\\n",
    "\\\\\n",
    "\\mbox{Variance}&&\\displaystyle\n",
    "\\sigma_{{\\bf x}}^2\n",
    "=\n",
    "{\\bf x}^T\\Sigma{\\bf x}\\nonumber\n",
    "\\end{array}$$"
   ]
  },
  {
   "cell_type": "code",
   "execution_count": 1,
   "metadata": {
    "collapsed": true
   },
   "outputs": [],
   "source": [
    "# import modules\n",
    "import os\n",
    "import numpy as np\n",
    "import matplotlib.pyplot as plt\n",
    "import pandas as pd\n",
    "from sklearn.linear_model import LinearRegression\n",
    "%matplotlib inline"
   ]
  },
  {
   "cell_type": "code",
   "execution_count": 2,
   "metadata": {
    "collapsed": true
   },
   "outputs": [],
   "source": [
    "# make directory if not exist\n",
    "if not os.path.isdir(\"img\"):\n",
    "    os.mkdir('img')"
   ]
  },
  {
   "cell_type": "code",
   "execution_count": 3,
   "metadata": {
    "collapsed": true
   },
   "outputs": [],
   "source": [
    "# read csv file\n",
    "start = \"2017-01-01\"\n",
    "end   = \"2017-12-31\"\n",
    "dates = pd.date_range(start, end)\n",
    "\n",
    "benchmark   = \"SPY\" \n",
    "ticker_list = [\"WMT\", benchmark]\n",
    "\n",
    "data_dir = \"../data/finance/dow30\"\n",
    "\n",
    "for data_type in [\"Open\", \"High\", \"Low\", \"Close\", \"Adj Close\", \"Volume\"]:\n",
    "        \n",
    "    df = pd.DataFrame(index=dates) \n",
    "    for ticker in ticker_list: \n",
    "        csv_file_path = os.path.join(data_dir, ticker + \".CSV\") \n",
    "            \n",
    "        df_temp = pd.read_csv(csv_file_path,\n",
    "                              index_col=\"Date\",\n",
    "                              parse_dates=True,\n",
    "                              usecols=[\"Date\", data_type],\n",
    "                              na_values=[\"null\"]) \n",
    "            \n",
    "        df_temp = df_temp.rename(columns={data_type: ticker})\n",
    "        df = df.join(df_temp)\n",
    "\n",
    "        if ticker == benchmark:\n",
    "            df = df.dropna(subset=[benchmark])\n",
    "\n",
    "    if data_type == \"Open\":\n",
    "        df_open = df\n",
    "    if data_type == \"High\":\n",
    "        df_high = df   \n",
    "    if data_type == \"Low\":\n",
    "        df_low = df    \n",
    "    if data_type == \"Close\":\n",
    "        df_close = df\n",
    "    if data_type == \"Adj Close\":\n",
    "        df_adj_close = df\n",
    "    if data_type == \"Volume\":\n",
    "        df_volume = df   "
   ]
  },
  {
   "cell_type": "code",
   "execution_count": 4,
   "metadata": {},
   "outputs": [
    {
     "data": {
      "text/html": [
       "<div>\n",
       "<style>\n",
       "    .dataframe thead tr:only-child th {\n",
       "        text-align: right;\n",
       "    }\n",
       "\n",
       "    .dataframe thead th {\n",
       "        text-align: left;\n",
       "    }\n",
       "\n",
       "    .dataframe tbody tr th {\n",
       "        vertical-align: top;\n",
       "    }\n",
       "</style>\n",
       "<table border=\"1\" class=\"dataframe\">\n",
       "  <thead>\n",
       "    <tr style=\"text-align: right;\">\n",
       "      <th></th>\n",
       "      <th>WMT</th>\n",
       "      <th>SPY</th>\n",
       "    </tr>\n",
       "  </thead>\n",
       "  <tbody>\n",
       "    <tr>\n",
       "      <th>2017-01-03</th>\n",
       "      <td>66.929802</td>\n",
       "      <td>220.944565</td>\n",
       "    </tr>\n",
       "    <tr>\n",
       "      <th>2017-01-04</th>\n",
       "      <td>67.319717</td>\n",
       "      <td>222.259018</td>\n",
       "    </tr>\n",
       "    <tr>\n",
       "      <th>2017-01-05</th>\n",
       "      <td>67.465942</td>\n",
       "      <td>222.082443</td>\n",
       "    </tr>\n",
       "    <tr>\n",
       "      <th>2017-01-06</th>\n",
       "      <td>66.539886</td>\n",
       "      <td>222.876999</td>\n",
       "    </tr>\n",
       "    <tr>\n",
       "      <th>2017-01-09</th>\n",
       "      <td>66.978539</td>\n",
       "      <td>222.141312</td>\n",
       "    </tr>\n",
       "  </tbody>\n",
       "</table>\n",
       "</div>"
      ],
      "text/plain": [
       "                  WMT         SPY\n",
       "2017-01-03  66.929802  220.944565\n",
       "2017-01-04  67.319717  222.259018\n",
       "2017-01-05  67.465942  222.082443\n",
       "2017-01-06  66.539886  222.876999\n",
       "2017-01-09  66.978539  222.141312"
      ]
     },
     "execution_count": 4,
     "metadata": {},
     "output_type": "execute_result"
    }
   ],
   "source": [
    "df_adj_close.head()"
   ]
  },
  {
   "cell_type": "code",
   "execution_count": 5,
   "metadata": {},
   "outputs": [
    {
     "data": {
      "text/html": [
       "<div>\n",
       "<style>\n",
       "    .dataframe thead tr:only-child th {\n",
       "        text-align: right;\n",
       "    }\n",
       "\n",
       "    .dataframe thead th {\n",
       "        text-align: left;\n",
       "    }\n",
       "\n",
       "    .dataframe tbody tr th {\n",
       "        vertical-align: top;\n",
       "    }\n",
       "</style>\n",
       "<table border=\"1\" class=\"dataframe\">\n",
       "  <thead>\n",
       "    <tr style=\"text-align: right;\">\n",
       "      <th></th>\n",
       "      <th>WMT</th>\n",
       "      <th>SPY</th>\n",
       "    </tr>\n",
       "  </thead>\n",
       "  <tbody>\n",
       "    <tr>\n",
       "      <th>2017-12-22</th>\n",
       "      <td>98.209999</td>\n",
       "      <td>267.510010</td>\n",
       "    </tr>\n",
       "    <tr>\n",
       "      <th>2017-12-26</th>\n",
       "      <td>99.160004</td>\n",
       "      <td>267.190002</td>\n",
       "    </tr>\n",
       "    <tr>\n",
       "      <th>2017-12-27</th>\n",
       "      <td>99.260002</td>\n",
       "      <td>267.320007</td>\n",
       "    </tr>\n",
       "    <tr>\n",
       "      <th>2017-12-28</th>\n",
       "      <td>99.400002</td>\n",
       "      <td>267.869995</td>\n",
       "    </tr>\n",
       "    <tr>\n",
       "      <th>2017-12-29</th>\n",
       "      <td>98.750000</td>\n",
       "      <td>266.859985</td>\n",
       "    </tr>\n",
       "  </tbody>\n",
       "</table>\n",
       "</div>"
      ],
      "text/plain": [
       "                  WMT         SPY\n",
       "2017-12-22  98.209999  267.510010\n",
       "2017-12-26  99.160004  267.190002\n",
       "2017-12-27  99.260002  267.320007\n",
       "2017-12-28  99.400002  267.869995\n",
       "2017-12-29  98.750000  266.859985"
      ]
     },
     "execution_count": 5,
     "metadata": {},
     "output_type": "execute_result"
    }
   ],
   "source": [
    "df_adj_close.tail()"
   ]
  },
  {
   "cell_type": "code",
   "execution_count": 6,
   "metadata": {},
   "outputs": [
    {
     "data": {
      "text/plain": [
       "<matplotlib.axes._subplots.AxesSubplot at 0x1154e88d0>"
      ]
     },
     "execution_count": 6,
     "metadata": {},
     "output_type": "execute_result"
    },
    {
     "data": {
      "image/png": "[encoded data removed]",
      "text/plain": [
       "<matplotlib.figure.Figure at 0x1154cddd8>"
      ]
     },
     "metadata": {},
     "output_type": "display_data"
    }
   ],
   "source": [
    "df_adj_close.plot()"
   ]
  },
  {
   "cell_type": "code",
   "execution_count": 7,
   "metadata": {
    "collapsed": true
   },
   "outputs": [],
   "source": [
    "# normalize price\n",
    "df_normalized_adj_close = df_adj_close / df_adj_close.iloc[0,:]  "
   ]
  },
  {
   "cell_type": "code",
   "execution_count": 8,
   "metadata": {},
   "outputs": [
    {
     "data": {
      "image/png": "[encoded data removed]",
      "text/plain": [
       "<matplotlib.figure.Figure at 0x11552bb70>"
      ]
     },
     "metadata": {},
     "output_type": "display_data"
    }
   ],
   "source": [
    "df_normalized_adj_close.plot()\n",
    "plt.savefig('img/two asset normalized adj close.png')"
   ]
  },
  {
   "cell_type": "code",
   "execution_count": 9,
   "metadata": {
    "collapsed": true
   },
   "outputs": [],
   "source": [
    "# compute daily return\n",
    "df_daily_return = df_adj_close.pct_change()"
   ]
  },
  {
   "cell_type": "code",
   "execution_count": 10,
   "metadata": {},
   "outputs": [
    {
     "data": {
      "text/html": [
       "<div>\n",
       "<style>\n",
       "    .dataframe thead tr:only-child th {\n",
       "        text-align: right;\n",
       "    }\n",
       "\n",
       "    .dataframe thead th {\n",
       "        text-align: left;\n",
       "    }\n",
       "\n",
       "    .dataframe tbody tr th {\n",
       "        vertical-align: top;\n",
       "    }\n",
       "</style>\n",
       "<table border=\"1\" class=\"dataframe\">\n",
       "  <thead>\n",
       "    <tr style=\"text-align: right;\">\n",
       "      <th></th>\n",
       "      <th>WMT</th>\n",
       "      <th>SPY</th>\n",
       "    </tr>\n",
       "  </thead>\n",
       "  <tbody>\n",
       "    <tr>\n",
       "      <th>2017-01-03</th>\n",
       "      <td>NaN</td>\n",
       "      <td>NaN</td>\n",
       "    </tr>\n",
       "    <tr>\n",
       "      <th>2017-01-04</th>\n",
       "      <td>0.005826</td>\n",
       "      <td>0.005949</td>\n",
       "    </tr>\n",
       "    <tr>\n",
       "      <th>2017-01-05</th>\n",
       "      <td>0.002172</td>\n",
       "      <td>-0.000794</td>\n",
       "    </tr>\n",
       "    <tr>\n",
       "      <th>2017-01-06</th>\n",
       "      <td>-0.013726</td>\n",
       "      <td>0.003578</td>\n",
       "    </tr>\n",
       "    <tr>\n",
       "      <th>2017-01-09</th>\n",
       "      <td>0.006592</td>\n",
       "      <td>-0.003301</td>\n",
       "    </tr>\n",
       "  </tbody>\n",
       "</table>\n",
       "</div>"
      ],
      "text/plain": [
       "                 WMT       SPY\n",
       "2017-01-03       NaN       NaN\n",
       "2017-01-04  0.005826  0.005949\n",
       "2017-01-05  0.002172 -0.000794\n",
       "2017-01-06 -0.013726  0.003578\n",
       "2017-01-09  0.006592 -0.003301"
      ]
     },
     "execution_count": 10,
     "metadata": {},
     "output_type": "execute_result"
    }
   ],
   "source": [
    "df_daily_return.head()"
   ]
  },
  {
   "cell_type": "code",
   "execution_count": 11,
   "metadata": {},
   "outputs": [
    {
     "data": {
      "text/html": [
       "<div>\n",
       "<style>\n",
       "    .dataframe thead tr:only-child th {\n",
       "        text-align: right;\n",
       "    }\n",
       "\n",
       "    .dataframe thead th {\n",
       "        text-align: left;\n",
       "    }\n",
       "\n",
       "    .dataframe tbody tr th {\n",
       "        vertical-align: top;\n",
       "    }\n",
       "</style>\n",
       "<table border=\"1\" class=\"dataframe\">\n",
       "  <thead>\n",
       "    <tr style=\"text-align: right;\">\n",
       "      <th></th>\n",
       "      <th>WMT</th>\n",
       "      <th>SPY</th>\n",
       "    </tr>\n",
       "  </thead>\n",
       "  <tbody>\n",
       "    <tr>\n",
       "      <th>count</th>\n",
       "      <td>250.000000</td>\n",
       "      <td>250.000000</td>\n",
       "    </tr>\n",
       "    <tr>\n",
       "      <th>mean</th>\n",
       "      <td>0.001621</td>\n",
       "      <td>0.000764</td>\n",
       "    </tr>\n",
       "    <tr>\n",
       "      <th>std</th>\n",
       "      <td>0.011484</td>\n",
       "      <td>0.004234</td>\n",
       "    </tr>\n",
       "    <tr>\n",
       "      <th>min</th>\n",
       "      <td>-0.046509</td>\n",
       "      <td>-0.017744</td>\n",
       "    </tr>\n",
       "    <tr>\n",
       "      <th>25%</th>\n",
       "      <td>-0.003651</td>\n",
       "      <td>-0.001206</td>\n",
       "    </tr>\n",
       "    <tr>\n",
       "      <th>50%</th>\n",
       "      <td>0.001470</td>\n",
       "      <td>0.000517</td>\n",
       "    </tr>\n",
       "    <tr>\n",
       "      <th>75%</th>\n",
       "      <td>0.006166</td>\n",
       "      <td>0.002498</td>\n",
       "    </tr>\n",
       "    <tr>\n",
       "      <th>max</th>\n",
       "      <td>0.108984</td>\n",
       "      <td>0.013997</td>\n",
       "    </tr>\n",
       "  </tbody>\n",
       "</table>\n",
       "</div>"
      ],
      "text/plain": [
       "              WMT         SPY\n",
       "count  250.000000  250.000000\n",
       "mean     0.001621    0.000764\n",
       "std      0.011484    0.004234\n",
       "min     -0.046509   -0.017744\n",
       "25%     -0.003651   -0.001206\n",
       "50%      0.001470    0.000517\n",
       "75%      0.006166    0.002498\n",
       "max      0.108984    0.013997"
      ]
     },
     "execution_count": 11,
     "metadata": {},
     "output_type": "execute_result"
    }
   ],
   "source": [
    "df_daily_return.describe()"
   ]
  },
  {
   "cell_type": "code",
   "execution_count": 12,
   "metadata": {},
   "outputs": [
    {
     "data": {
      "image/png": "[encoded data removed]",
      "text/plain": [
       "<matplotlib.figure.Figure at 0x10a9544e0>"
      ]
     },
     "metadata": {},
     "output_type": "display_data"
    }
   ],
   "source": [
    "df_daily_return.WMT.plot()\n",
    "plt.grid()"
   ]
  },
  {
   "cell_type": "code",
   "execution_count": 13,
   "metadata": {},
   "outputs": [
    {
     "data": {
      "image/png": "[encoded data removed]",
      "text/plain": [
       "<matplotlib.figure.Figure at 0x10a96f9b0>"
      ]
     },
     "metadata": {},
     "output_type": "display_data"
    }
   ],
   "source": [
    "df_daily_return.SPY.plot()\n",
    "plt.grid()"
   ]
  },
  {
   "cell_type": "code",
   "execution_count": 14,
   "metadata": {},
   "outputs": [
    {
     "data": {
      "image/png": "[encoded data removed]",
      "text/plain": [
       "<matplotlib.figure.Figure at 0x11586a6a0>"
      ]
     },
     "metadata": {},
     "output_type": "display_data"
    }
   ],
   "source": [
    "plt.plot(df_daily_return.SPY, df_daily_return.WMT, '.')\n",
    "plt.grid()"
   ]
  },
  {
   "cell_type": "code",
   "execution_count": 15,
   "metadata": {},
   "outputs": [
    {
     "data": {
      "text/plain": [
       "<matplotlib.axes._subplots.AxesSubplot at 0x115cb99e8>"
      ]
     },
     "execution_count": 15,
     "metadata": {},
     "output_type": "execute_result"
    },
    {
     "data": {
      "image/png": "[encoded data removed]",
      "text/plain": [
       "<matplotlib.figure.Figure at 0x115ccc358>"
      ]
     },
     "metadata": {},
     "output_type": "display_data"
    }
   ],
   "source": [
    "df_daily_return.WMT.plot(kind=\"hist\", bins=20)"
   ]
  },
  {
   "cell_type": "code",
   "execution_count": 16,
   "metadata": {},
   "outputs": [
    {
     "data": {
      "text/plain": [
       "<matplotlib.axes._subplots.AxesSubplot at 0x115d82cf8>"
      ]
     },
     "execution_count": 16,
     "metadata": {},
     "output_type": "execute_result"
    },
    {
     "data": {
      "image/png": "[encoded data removed]",
      "text/plain": [
       "<matplotlib.figure.Figure at 0x115897a90>"
      ]
     },
     "metadata": {},
     "output_type": "display_data"
    }
   ],
   "source": [
    "df_daily_return.SPY.plot(kind=\"hist\", bins=20)"
   ]
  },
  {
   "cell_type": "code",
   "execution_count": 17,
   "metadata": {
    "collapsed": true
   },
   "outputs": [],
   "source": [
    "# compute expected return\n",
    "def compute_expected_return(df_daily_return):\n",
    "    return 252 * df_daily_return.mean() \n",
    "df_mu = compute_expected_return(df_daily_return)"
   ]
  },
  {
   "cell_type": "code",
   "execution_count": 18,
   "metadata": {},
   "outputs": [
    {
     "data": {
      "text/plain": [
       "WMT    0.408517\n",
       "SPY    0.192646\n",
       "dtype: float64"
      ]
     },
     "execution_count": 18,
     "metadata": {},
     "output_type": "execute_result"
    }
   ],
   "source": [
    "df_mu"
   ]
  },
  {
   "cell_type": "code",
   "execution_count": 19,
   "metadata": {
    "collapsed": true
   },
   "outputs": [],
   "source": [
    "# compute volatility \n",
    "def compute_volatility(df_daily_return):\n",
    "    return np.sqrt(252) * df_daily_return.std()\n",
    "df_vol = compute_volatility(df_daily_return)"
   ]
  },
  {
   "cell_type": "code",
   "execution_count": 20,
   "metadata": {},
   "outputs": [
    {
     "data": {
      "text/plain": [
       "WMT    0.182298\n",
       "SPY    0.067219\n",
       "dtype: float64"
      ]
     },
     "execution_count": 20,
     "metadata": {},
     "output_type": "execute_result"
    }
   ],
   "source": [
    "df_vol"
   ]
  },
  {
   "cell_type": "code",
   "execution_count": 21,
   "metadata": {
    "collapsed": true
   },
   "outputs": [],
   "source": [
    "# compute covariance matrix\n",
    "def compute_covariance_matrix(df_daily_return):\n",
    "    return 252 * df_daily_return.cov()\n",
    "df_cov = compute_covariance_matrix(df_daily_return)"
   ]
  },
  {
   "cell_type": "code",
   "execution_count": 22,
   "metadata": {},
   "outputs": [
    {
     "data": {
      "text/html": [
       "<div>\n",
       "<style>\n",
       "    .dataframe thead tr:only-child th {\n",
       "        text-align: right;\n",
       "    }\n",
       "\n",
       "    .dataframe thead th {\n",
       "        text-align: left;\n",
       "    }\n",
       "\n",
       "    .dataframe tbody tr th {\n",
       "        vertical-align: top;\n",
       "    }\n",
       "</style>\n",
       "<table border=\"1\" class=\"dataframe\">\n",
       "  <thead>\n",
       "    <tr style=\"text-align: right;\">\n",
       "      <th></th>\n",
       "      <th>WMT</th>\n",
       "      <th>SPY</th>\n",
       "    </tr>\n",
       "  </thead>\n",
       "  <tbody>\n",
       "    <tr>\n",
       "      <th>WMT</th>\n",
       "      <td>0.033232</td>\n",
       "      <td>0.002313</td>\n",
       "    </tr>\n",
       "    <tr>\n",
       "      <th>SPY</th>\n",
       "      <td>0.002313</td>\n",
       "      <td>0.004518</td>\n",
       "    </tr>\n",
       "  </tbody>\n",
       "</table>\n",
       "</div>"
      ],
      "text/plain": [
       "          WMT       SPY\n",
       "WMT  0.033232  0.002313\n",
       "SPY  0.002313  0.004518"
      ]
     },
     "execution_count": 22,
     "metadata": {},
     "output_type": "execute_result"
    }
   ],
   "source": [
    "df_cov"
   ]
  },
  {
   "cell_type": "code",
   "execution_count": 23,
   "metadata": {},
   "outputs": [
    {
     "data": {
      "image/png": "[encoded data removed]",
      "text/plain": [
       "<matplotlib.figure.Figure at 0x115efa2b0>"
      ]
     },
     "metadata": {},
     "output_type": "display_data"
    }
   ],
   "source": [
    "# plot risk-return plot\n",
    "fig, ax = plt.subplots()\n",
    "for i, ticker in enumerate(ticker_list):\n",
    "    ax.scatter(df_vol[i], df_mu[i], alpha=0.5)\n",
    "    ax.annotate(ticker, (df_vol[i],df_mu[i]))\n",
    "plt.savefig('img/two asset risk-return plot.png')"
   ]
  },
  {
   "cell_type": "code",
   "execution_count": 24,
   "metadata": {},
   "outputs": [
    {
     "data": {
      "image/png": "[encoded data removed]",
      "text/plain": [
       "<matplotlib.figure.Figure at 0x1158b5f60>"
      ]
     },
     "metadata": {},
     "output_type": "display_data"
    }
   ],
   "source": [
    "# linear regression\n",
    "x =  df_daily_return.SPY[1:]\n",
    "y =  df_daily_return.WMT[1:]\n",
    "\n",
    "model = LinearRegression(fit_intercept=True)\n",
    "model.fit(x[:, np.newaxis], y)\n",
    "y_pred = model.predict(x[:, np.newaxis])\n",
    "\n",
    "xfit = np.linspace(x.min(), x.max(), 2)\n",
    "yfit = model.predict(xfit[:, np.newaxis])\n",
    "\n",
    "plt.plot(x, y, '.')\n",
    "plt.plot(xfit, yfit)\n",
    "plt.grid()\n",
    "\n",
    "plt.savefig('img/two asset linear regression.png')"
   ]
  },
  {
   "cell_type": "code",
   "execution_count": 25,
   "metadata": {
    "collapsed": true
   },
   "outputs": [],
   "source": [
    "model?"
   ]
  },
  {
   "cell_type": "code",
   "execution_count": 26,
   "metadata": {},
   "outputs": [
    {
     "data": {
      "text/plain": [
       "array([0.51190786])"
      ]
     },
     "execution_count": 26,
     "metadata": {},
     "output_type": "execute_result"
    }
   ],
   "source": [
    "model.coef_"
   ]
  },
  {
   "cell_type": "code",
   "execution_count": 27,
   "metadata": {},
   "outputs": [
    {
     "data": {
      "text/plain": [
       "0.5119078567482339"
      ]
     },
     "execution_count": 27,
     "metadata": {},
     "output_type": "execute_result"
    }
   ],
   "source": [
    "beta = model.coef_[0]\n",
    "beta"
   ]
  },
  {
   "cell_type": "code",
   "execution_count": 28,
   "metadata": {},
   "outputs": [
    {
     "data": {
      "text/plain": [
       "0.0012297635581712898"
      ]
     },
     "execution_count": 28,
     "metadata": {},
     "output_type": "execute_result"
    }
   ],
   "source": [
    "model.intercept_"
   ]
  },
  {
   "cell_type": "code",
   "execution_count": 29,
   "metadata": {},
   "outputs": [
    {
     "data": {
      "text/plain": [
       "0.0012297635581712898"
      ]
     },
     "execution_count": 29,
     "metadata": {},
     "output_type": "execute_result"
    }
   ],
   "source": [
    "alpha = model.intercept_\n",
    "alpha"
   ]
  },
  {
   "cell_type": "code",
   "execution_count": 30,
   "metadata": {},
   "outputs": [
    {
     "name": "stderr",
     "output_type": "stream",
     "text": [
      "/Users/sungchul/anaconda/lib/python3.5/site-packages/sklearn/utils/deprecation.py:70: DeprecationWarning: Function residues_ is deprecated; ``residues_`` is deprecated and will be removed in 0.19\n",
      "  warnings.warn(msg, category=DeprecationWarning)\n"
     ]
    },
    {
     "data": {
      "text/plain": [
       "0.0316668189953595"
      ]
     },
     "execution_count": 30,
     "metadata": {},
     "output_type": "execute_result"
    }
   ],
   "source": [
    "model.residues_"
   ]
  },
  {
   "cell_type": "code",
   "execution_count": 31,
   "metadata": {},
   "outputs": [
    {
     "data": {
      "text/plain": [
       "0.03166681899535948"
      ]
     },
     "execution_count": 31,
     "metadata": {},
     "output_type": "execute_result"
    }
   ],
   "source": [
    "np.sum((y-y_pred)**2)"
   ]
  },
  {
   "cell_type": "code",
   "execution_count": 32,
   "metadata": {},
   "outputs": [
    {
     "data": {
      "text/plain": [
       "0.03562920714140039"
      ]
     },
     "execution_count": 32,
     "metadata": {},
     "output_type": "execute_result"
    }
   ],
   "source": [
    "R_square = 1 - (np.sum((y-y_pred)**2) / np.sum((y-y.mean())**2))\n",
    "R_square"
   ]
  },
  {
   "cell_type": "code",
   "execution_count": 33,
   "metadata": {
    "collapsed": true
   },
   "outputs": [],
   "source": [
    "# performance of linear regression\n",
    "alpha = model.intercept_\n",
    "beta = model.coef_[0]\n",
    "R_square = 1 - (np.sum((y-y_pred)**2) / np.sum((y-y.mean())**2))"
   ]
  },
  {
   "cell_type": "code",
   "execution_count": 34,
   "metadata": {},
   "outputs": [
    {
     "data": {
      "text/html": [
       "<div>\n",
       "<style>\n",
       "    .dataframe thead tr:only-child th {\n",
       "        text-align: right;\n",
       "    }\n",
       "\n",
       "    .dataframe thead th {\n",
       "        text-align: left;\n",
       "    }\n",
       "\n",
       "    .dataframe tbody tr th {\n",
       "        vertical-align: top;\n",
       "    }\n",
       "</style>\n",
       "<table border=\"1\" class=\"dataframe\">\n",
       "  <thead>\n",
       "    <tr style=\"text-align: right;\">\n",
       "      <th></th>\n",
       "      <th>WMT</th>\n",
       "      <th>SPY</th>\n",
       "    </tr>\n",
       "  </thead>\n",
       "  <tbody>\n",
       "    <tr>\n",
       "      <th>2017-01-03</th>\n",
       "      <td>1.000000</td>\n",
       "      <td>1.000000</td>\n",
       "    </tr>\n",
       "    <tr>\n",
       "      <th>2017-01-04</th>\n",
       "      <td>1.005826</td>\n",
       "      <td>1.005949</td>\n",
       "    </tr>\n",
       "    <tr>\n",
       "      <th>2017-01-05</th>\n",
       "      <td>1.008010</td>\n",
       "      <td>1.005150</td>\n",
       "    </tr>\n",
       "    <tr>\n",
       "      <th>2017-01-06</th>\n",
       "      <td>0.994174</td>\n",
       "      <td>1.008746</td>\n",
       "    </tr>\n",
       "    <tr>\n",
       "      <th>2017-01-09</th>\n",
       "      <td>1.000728</td>\n",
       "      <td>1.005417</td>\n",
       "    </tr>\n",
       "  </tbody>\n",
       "</table>\n",
       "</div>"
      ],
      "text/plain": [
       "                 WMT       SPY\n",
       "2017-01-03  1.000000  1.000000\n",
       "2017-01-04  1.005826  1.005949\n",
       "2017-01-05  1.008010  1.005150\n",
       "2017-01-06  0.994174  1.008746\n",
       "2017-01-09  1.000728  1.005417"
      ]
     },
     "execution_count": 34,
     "metadata": {},
     "output_type": "execute_result"
    }
   ],
   "source": [
    "df_normalized_adj_close.head()"
   ]
  },
  {
   "cell_type": "code",
   "execution_count": 35,
   "metadata": {
    "collapsed": true
   },
   "outputs": [],
   "source": [
    "# construction of equal portfolio\n",
    "portfolio_weight = [0.5, 0.5]\n",
    "df_portfolio = df_normalized_adj_close.copy()\n",
    "df_portfolio['Portfolio'] = (portfolio_weight * df_normalized_adj_close).sum(axis=1) "
   ]
  },
  {
   "cell_type": "code",
   "execution_count": 36,
   "metadata": {},
   "outputs": [
    {
     "data": {
      "text/html": [
       "<div>\n",
       "<style>\n",
       "    .dataframe thead tr:only-child th {\n",
       "        text-align: right;\n",
       "    }\n",
       "\n",
       "    .dataframe thead th {\n",
       "        text-align: left;\n",
       "    }\n",
       "\n",
       "    .dataframe tbody tr th {\n",
       "        vertical-align: top;\n",
       "    }\n",
       "</style>\n",
       "<table border=\"1\" class=\"dataframe\">\n",
       "  <thead>\n",
       "    <tr style=\"text-align: right;\">\n",
       "      <th></th>\n",
       "      <th>WMT</th>\n",
       "      <th>SPY</th>\n",
       "    </tr>\n",
       "  </thead>\n",
       "  <tbody>\n",
       "    <tr>\n",
       "      <th>2017-01-03</th>\n",
       "      <td>1.000000</td>\n",
       "      <td>1.000000</td>\n",
       "    </tr>\n",
       "    <tr>\n",
       "      <th>2017-01-04</th>\n",
       "      <td>1.005826</td>\n",
       "      <td>1.005949</td>\n",
       "    </tr>\n",
       "    <tr>\n",
       "      <th>2017-01-05</th>\n",
       "      <td>1.008010</td>\n",
       "      <td>1.005150</td>\n",
       "    </tr>\n",
       "    <tr>\n",
       "      <th>2017-01-06</th>\n",
       "      <td>0.994174</td>\n",
       "      <td>1.008746</td>\n",
       "    </tr>\n",
       "    <tr>\n",
       "      <th>2017-01-09</th>\n",
       "      <td>1.000728</td>\n",
       "      <td>1.005417</td>\n",
       "    </tr>\n",
       "  </tbody>\n",
       "</table>\n",
       "</div>"
      ],
      "text/plain": [
       "                 WMT       SPY\n",
       "2017-01-03  1.000000  1.000000\n",
       "2017-01-04  1.005826  1.005949\n",
       "2017-01-05  1.008010  1.005150\n",
       "2017-01-06  0.994174  1.008746\n",
       "2017-01-09  1.000728  1.005417"
      ]
     },
     "execution_count": 36,
     "metadata": {},
     "output_type": "execute_result"
    }
   ],
   "source": [
    "df_normalized_adj_close.head()"
   ]
  },
  {
   "cell_type": "code",
   "execution_count": 37,
   "metadata": {},
   "outputs": [
    {
     "data": {
      "text/html": [
       "<div>\n",
       "<style>\n",
       "    .dataframe thead tr:only-child th {\n",
       "        text-align: right;\n",
       "    }\n",
       "\n",
       "    .dataframe thead th {\n",
       "        text-align: left;\n",
       "    }\n",
       "\n",
       "    .dataframe tbody tr th {\n",
       "        vertical-align: top;\n",
       "    }\n",
       "</style>\n",
       "<table border=\"1\" class=\"dataframe\">\n",
       "  <thead>\n",
       "    <tr style=\"text-align: right;\">\n",
       "      <th></th>\n",
       "      <th>WMT</th>\n",
       "      <th>SPY</th>\n",
       "      <th>Portfolio</th>\n",
       "    </tr>\n",
       "  </thead>\n",
       "  <tbody>\n",
       "    <tr>\n",
       "      <th>2017-01-03</th>\n",
       "      <td>1.000000</td>\n",
       "      <td>1.000000</td>\n",
       "      <td>1.000000</td>\n",
       "    </tr>\n",
       "    <tr>\n",
       "      <th>2017-01-04</th>\n",
       "      <td>1.005826</td>\n",
       "      <td>1.005949</td>\n",
       "      <td>1.005887</td>\n",
       "    </tr>\n",
       "    <tr>\n",
       "      <th>2017-01-05</th>\n",
       "      <td>1.008010</td>\n",
       "      <td>1.005150</td>\n",
       "      <td>1.006580</td>\n",
       "    </tr>\n",
       "    <tr>\n",
       "      <th>2017-01-06</th>\n",
       "      <td>0.994174</td>\n",
       "      <td>1.008746</td>\n",
       "      <td>1.001460</td>\n",
       "    </tr>\n",
       "    <tr>\n",
       "      <th>2017-01-09</th>\n",
       "      <td>1.000728</td>\n",
       "      <td>1.005417</td>\n",
       "      <td>1.003072</td>\n",
       "    </tr>\n",
       "  </tbody>\n",
       "</table>\n",
       "</div>"
      ],
      "text/plain": [
       "                 WMT       SPY  Portfolio\n",
       "2017-01-03  1.000000  1.000000   1.000000\n",
       "2017-01-04  1.005826  1.005949   1.005887\n",
       "2017-01-05  1.008010  1.005150   1.006580\n",
       "2017-01-06  0.994174  1.008746   1.001460\n",
       "2017-01-09  1.000728  1.005417   1.003072"
      ]
     },
     "execution_count": 37,
     "metadata": {},
     "output_type": "execute_result"
    }
   ],
   "source": [
    "df_portfolio.head()"
   ]
  },
  {
   "cell_type": "code",
   "execution_count": 38,
   "metadata": {},
   "outputs": [
    {
     "data": {
      "text/html": [
       "<div>\n",
       "<style>\n",
       "    .dataframe thead tr:only-child th {\n",
       "        text-align: right;\n",
       "    }\n",
       "\n",
       "    .dataframe thead th {\n",
       "        text-align: left;\n",
       "    }\n",
       "\n",
       "    .dataframe tbody tr th {\n",
       "        vertical-align: top;\n",
       "    }\n",
       "</style>\n",
       "<table border=\"1\" class=\"dataframe\">\n",
       "  <thead>\n",
       "    <tr style=\"text-align: right;\">\n",
       "      <th></th>\n",
       "      <th>WMT</th>\n",
       "      <th>SPY</th>\n",
       "    </tr>\n",
       "  </thead>\n",
       "  <tbody>\n",
       "    <tr>\n",
       "      <th>2017-01-03</th>\n",
       "      <td>1.000000</td>\n",
       "      <td>1.000000</td>\n",
       "    </tr>\n",
       "    <tr>\n",
       "      <th>2017-01-04</th>\n",
       "      <td>1.005826</td>\n",
       "      <td>1.005949</td>\n",
       "    </tr>\n",
       "    <tr>\n",
       "      <th>2017-01-05</th>\n",
       "      <td>1.008010</td>\n",
       "      <td>1.005150</td>\n",
       "    </tr>\n",
       "    <tr>\n",
       "      <th>2017-01-06</th>\n",
       "      <td>0.994174</td>\n",
       "      <td>1.008746</td>\n",
       "    </tr>\n",
       "    <tr>\n",
       "      <th>2017-01-09</th>\n",
       "      <td>1.000728</td>\n",
       "      <td>1.005417</td>\n",
       "    </tr>\n",
       "  </tbody>\n",
       "</table>\n",
       "</div>"
      ],
      "text/plain": [
       "                 WMT       SPY\n",
       "2017-01-03  1.000000  1.000000\n",
       "2017-01-04  1.005826  1.005949\n",
       "2017-01-05  1.008010  1.005150\n",
       "2017-01-06  0.994174  1.008746\n",
       "2017-01-09  1.000728  1.005417"
      ]
     },
     "execution_count": 38,
     "metadata": {},
     "output_type": "execute_result"
    }
   ],
   "source": [
    "df_normalized_adj_close.head()"
   ]
  },
  {
   "cell_type": "code",
   "execution_count": 39,
   "metadata": {
    "collapsed": true
   },
   "outputs": [],
   "source": [
    "# compute statistics\n",
    "df_daily_return = df_portfolio.pct_change() \n",
    "df_mu = compute_expected_return(df_daily_return)\n",
    "df_vol = compute_volatility(df_daily_return)\n",
    "df_cov = compute_covariance_matrix(df_daily_return)"
   ]
  },
  {
   "cell_type": "code",
   "execution_count": 40,
   "metadata": {},
   "outputs": [
    {
     "data": {
      "text/html": [
       "<div>\n",
       "<style>\n",
       "    .dataframe thead tr:only-child th {\n",
       "        text-align: right;\n",
       "    }\n",
       "\n",
       "    .dataframe thead th {\n",
       "        text-align: left;\n",
       "    }\n",
       "\n",
       "    .dataframe tbody tr th {\n",
       "        vertical-align: top;\n",
       "    }\n",
       "</style>\n",
       "<table border=\"1\" class=\"dataframe\">\n",
       "  <thead>\n",
       "    <tr style=\"text-align: right;\">\n",
       "      <th></th>\n",
       "      <th>WMT</th>\n",
       "      <th>SPY</th>\n",
       "      <th>Portfolio</th>\n",
       "    </tr>\n",
       "  </thead>\n",
       "  <tbody>\n",
       "    <tr>\n",
       "      <th>2017-01-03</th>\n",
       "      <td>NaN</td>\n",
       "      <td>NaN</td>\n",
       "      <td>NaN</td>\n",
       "    </tr>\n",
       "    <tr>\n",
       "      <th>2017-01-04</th>\n",
       "      <td>0.005826</td>\n",
       "      <td>0.005949</td>\n",
       "      <td>0.005887</td>\n",
       "    </tr>\n",
       "    <tr>\n",
       "      <th>2017-01-05</th>\n",
       "      <td>0.002172</td>\n",
       "      <td>-0.000794</td>\n",
       "      <td>0.000689</td>\n",
       "    </tr>\n",
       "    <tr>\n",
       "      <th>2017-01-06</th>\n",
       "      <td>-0.013726</td>\n",
       "      <td>0.003578</td>\n",
       "      <td>-0.005087</td>\n",
       "    </tr>\n",
       "    <tr>\n",
       "      <th>2017-01-09</th>\n",
       "      <td>0.006592</td>\n",
       "      <td>-0.003301</td>\n",
       "      <td>0.001610</td>\n",
       "    </tr>\n",
       "    <tr>\n",
       "      <th>2017-01-10</th>\n",
       "      <td>-0.006986</td>\n",
       "      <td>0.000000</td>\n",
       "      <td>-0.003485</td>\n",
       "    </tr>\n",
       "    <tr>\n",
       "      <th>2017-01-11</th>\n",
       "      <td>0.004397</td>\n",
       "      <td>0.002826</td>\n",
       "      <td>0.003607</td>\n",
       "    </tr>\n",
       "    <tr>\n",
       "      <th>2017-01-12</th>\n",
       "      <td>-0.008172</td>\n",
       "      <td>-0.002510</td>\n",
       "      <td>-0.005326</td>\n",
       "    </tr>\n",
       "    <tr>\n",
       "      <th>2017-01-13</th>\n",
       "      <td>-0.012358</td>\n",
       "      <td>0.002296</td>\n",
       "      <td>-0.004974</td>\n",
       "    </tr>\n",
       "    <tr>\n",
       "      <th>2017-01-17</th>\n",
       "      <td>0.019216</td>\n",
       "      <td>-0.003524</td>\n",
       "      <td>0.007673</td>\n",
       "    </tr>\n",
       "    <tr>\n",
       "      <th>2017-01-18</th>\n",
       "      <td>-0.004531</td>\n",
       "      <td>0.002210</td>\n",
       "      <td>-0.001147</td>\n",
       "    </tr>\n",
       "    <tr>\n",
       "      <th>2017-01-19</th>\n",
       "      <td>-0.007194</td>\n",
       "      <td>-0.003704</td>\n",
       "      <td>-0.005437</td>\n",
       "    </tr>\n",
       "    <tr>\n",
       "      <th>2017-01-20</th>\n",
       "      <td>-0.006507</td>\n",
       "      <td>0.003674</td>\n",
       "      <td>-0.001370</td>\n",
       "    </tr>\n",
       "    <tr>\n",
       "      <th>2017-01-23</th>\n",
       "      <td>-0.007889</td>\n",
       "      <td>-0.002602</td>\n",
       "      <td>-0.005208</td>\n",
       "    </tr>\n",
       "    <tr>\n",
       "      <th>2017-01-24</th>\n",
       "      <td>0.011253</td>\n",
       "      <td>0.006412</td>\n",
       "      <td>0.008791</td>\n",
       "    </tr>\n",
       "    <tr>\n",
       "      <th>2017-01-25</th>\n",
       "      <td>-0.007567</td>\n",
       "      <td>0.008656</td>\n",
       "      <td>0.000662</td>\n",
       "    </tr>\n",
       "    <tr>\n",
       "      <th>2017-01-26</th>\n",
       "      <td>-0.002392</td>\n",
       "      <td>-0.001045</td>\n",
       "      <td>-0.001704</td>\n",
       "    </tr>\n",
       "    <tr>\n",
       "      <th>2017-01-27</th>\n",
       "      <td>-0.016035</td>\n",
       "      <td>-0.001570</td>\n",
       "      <td>-0.008634</td>\n",
       "    </tr>\n",
       "    <tr>\n",
       "      <th>2017-01-30</th>\n",
       "      <td>0.011575</td>\n",
       "      <td>-0.006202</td>\n",
       "      <td>0.002415</td>\n",
       "    </tr>\n",
       "    <tr>\n",
       "      <th>2017-01-31</th>\n",
       "      <td>0.004818</td>\n",
       "      <td>-0.000088</td>\n",
       "      <td>0.002312</td>\n",
       "    </tr>\n",
       "    <tr>\n",
       "      <th>2017-02-01</th>\n",
       "      <td>-0.007641</td>\n",
       "      <td>0.000396</td>\n",
       "      <td>-0.003546</td>\n",
       "    </tr>\n",
       "    <tr>\n",
       "      <th>2017-02-02</th>\n",
       "      <td>0.007096</td>\n",
       "      <td>0.000659</td>\n",
       "      <td>0.003803</td>\n",
       "    </tr>\n",
       "    <tr>\n",
       "      <th>2017-02-03</th>\n",
       "      <td>-0.002998</td>\n",
       "      <td>0.006893</td>\n",
       "      <td>0.002046</td>\n",
       "    </tr>\n",
       "    <tr>\n",
       "      <th>2017-02-06</th>\n",
       "      <td>-0.001504</td>\n",
       "      <td>-0.001788</td>\n",
       "      <td>-0.001649</td>\n",
       "    </tr>\n",
       "    <tr>\n",
       "      <th>2017-02-07</th>\n",
       "      <td>0.007380</td>\n",
       "      <td>0.000044</td>\n",
       "      <td>0.003620</td>\n",
       "    </tr>\n",
       "    <tr>\n",
       "      <th>2017-02-08</th>\n",
       "      <td>0.013754</td>\n",
       "      <td>0.001310</td>\n",
       "      <td>0.007400</td>\n",
       "    </tr>\n",
       "    <tr>\n",
       "      <th>2017-02-09</th>\n",
       "      <td>0.018729</td>\n",
       "      <td>0.005933</td>\n",
       "      <td>0.012235</td>\n",
       "    </tr>\n",
       "    <tr>\n",
       "      <th>2017-02-10</th>\n",
       "      <td>-0.015345</td>\n",
       "      <td>0.003946</td>\n",
       "      <td>-0.005615</td>\n",
       "    </tr>\n",
       "    <tr>\n",
       "      <th>2017-02-13</th>\n",
       "      <td>-0.003675</td>\n",
       "      <td>0.005443</td>\n",
       "      <td>0.000968</td>\n",
       "    </tr>\n",
       "    <tr>\n",
       "      <th>2017-02-14</th>\n",
       "      <td>0.013133</td>\n",
       "      <td>0.003995</td>\n",
       "      <td>0.008459</td>\n",
       "    </tr>\n",
       "    <tr>\n",
       "      <th>...</th>\n",
       "      <td>...</td>\n",
       "      <td>...</td>\n",
       "      <td>...</td>\n",
       "    </tr>\n",
       "    <tr>\n",
       "      <th>2017-11-16</th>\n",
       "      <td>0.108984</td>\n",
       "      <td>0.008501</td>\n",
       "      <td>0.062382</td>\n",
       "    </tr>\n",
       "    <tr>\n",
       "      <th>2017-11-17</th>\n",
       "      <td>-0.021582</td>\n",
       "      <td>-0.002939</td>\n",
       "      <td>-0.013374</td>\n",
       "    </tr>\n",
       "    <tr>\n",
       "      <th>2017-11-20</th>\n",
       "      <td>0.000103</td>\n",
       "      <td>0.001706</td>\n",
       "      <td>0.000816</td>\n",
       "    </tr>\n",
       "    <tr>\n",
       "      <th>2017-11-21</th>\n",
       "      <td>-0.009848</td>\n",
       "      <td>0.006543</td>\n",
       "      <td>-0.002549</td>\n",
       "    </tr>\n",
       "    <tr>\n",
       "      <th>2017-11-22</th>\n",
       "      <td>-0.001140</td>\n",
       "      <td>-0.000885</td>\n",
       "      <td>-0.001025</td>\n",
       "    </tr>\n",
       "    <tr>\n",
       "      <th>2017-11-24</th>\n",
       "      <td>0.002178</td>\n",
       "      <td>0.002310</td>\n",
       "      <td>0.002237</td>\n",
       "    </tr>\n",
       "    <tr>\n",
       "      <th>2017-11-27</th>\n",
       "      <td>0.000000</td>\n",
       "      <td>-0.000499</td>\n",
       "      <td>-0.000224</td>\n",
       "    </tr>\n",
       "    <tr>\n",
       "      <th>2017-11-28</th>\n",
       "      <td>0.001552</td>\n",
       "      <td>0.010145</td>\n",
       "      <td>0.005413</td>\n",
       "    </tr>\n",
       "    <tr>\n",
       "      <th>2017-11-29</th>\n",
       "      <td>0.008164</td>\n",
       "      <td>-0.000609</td>\n",
       "      <td>0.004203</td>\n",
       "    </tr>\n",
       "    <tr>\n",
       "      <th>2017-11-30</th>\n",
       "      <td>-0.003382</td>\n",
       "      <td>0.008755</td>\n",
       "      <td>0.002071</td>\n",
       "    </tr>\n",
       "    <tr>\n",
       "      <th>2017-12-01</th>\n",
       "      <td>0.001234</td>\n",
       "      <td>-0.002076</td>\n",
       "      <td>-0.000263</td>\n",
       "    </tr>\n",
       "    <tr>\n",
       "      <th>2017-12-04</th>\n",
       "      <td>-0.003492</td>\n",
       "      <td>-0.001210</td>\n",
       "      <td>-0.002462</td>\n",
       "    </tr>\n",
       "    <tr>\n",
       "      <th>2017-12-05</th>\n",
       "      <td>0.008453</td>\n",
       "      <td>-0.003597</td>\n",
       "      <td>0.003006</td>\n",
       "    </tr>\n",
       "    <tr>\n",
       "      <th>2017-12-06</th>\n",
       "      <td>-0.005622</td>\n",
       "      <td>0.000190</td>\n",
       "      <td>-0.003012</td>\n",
       "    </tr>\n",
       "    <tr>\n",
       "      <th>2017-12-07</th>\n",
       "      <td>0.000103</td>\n",
       "      <td>0.003153</td>\n",
       "      <td>0.001477</td>\n",
       "    </tr>\n",
       "    <tr>\n",
       "      <th>2017-12-08</th>\n",
       "      <td>-0.002376</td>\n",
       "      <td>0.005453</td>\n",
       "      <td>0.001157</td>\n",
       "    </tr>\n",
       "    <tr>\n",
       "      <th>2017-12-11</th>\n",
       "      <td>0.003936</td>\n",
       "      <td>0.003013</td>\n",
       "      <td>0.003518</td>\n",
       "    </tr>\n",
       "    <tr>\n",
       "      <th>2017-12-12</th>\n",
       "      <td>-0.002373</td>\n",
       "      <td>0.001765</td>\n",
       "      <td>-0.000499</td>\n",
       "    </tr>\n",
       "    <tr>\n",
       "      <th>2017-12-13</th>\n",
       "      <td>0.010962</td>\n",
       "      <td>-0.000112</td>\n",
       "      <td>0.005934</td>\n",
       "    </tr>\n",
       "    <tr>\n",
       "      <th>2017-12-14</th>\n",
       "      <td>-0.006444</td>\n",
       "      <td>-0.004086</td>\n",
       "      <td>-0.005380</td>\n",
       "    </tr>\n",
       "    <tr>\n",
       "      <th>2017-12-15</th>\n",
       "      <td>-0.000206</td>\n",
       "      <td>0.008327</td>\n",
       "      <td>0.003650</td>\n",
       "    </tr>\n",
       "    <tr>\n",
       "      <th>2017-12-18</th>\n",
       "      <td>0.008135</td>\n",
       "      <td>0.006341</td>\n",
       "      <td>0.007321</td>\n",
       "    </tr>\n",
       "    <tr>\n",
       "      <th>2017-12-19</th>\n",
       "      <td>0.009193</td>\n",
       "      <td>-0.003840</td>\n",
       "      <td>0.003282</td>\n",
       "    </tr>\n",
       "    <tr>\n",
       "      <th>2017-12-20</th>\n",
       "      <td>-0.000506</td>\n",
       "      <td>-0.000524</td>\n",
       "      <td>-0.000514</td>\n",
       "    </tr>\n",
       "    <tr>\n",
       "      <th>2017-12-21</th>\n",
       "      <td>-0.006987</td>\n",
       "      <td>0.002060</td>\n",
       "      <td>-0.002914</td>\n",
       "    </tr>\n",
       "    <tr>\n",
       "      <th>2017-12-22</th>\n",
       "      <td>0.001530</td>\n",
       "      <td>-0.000262</td>\n",
       "      <td>0.000719</td>\n",
       "    </tr>\n",
       "    <tr>\n",
       "      <th>2017-12-26</th>\n",
       "      <td>0.009673</td>\n",
       "      <td>-0.001196</td>\n",
       "      <td>0.004759</td>\n",
       "    </tr>\n",
       "    <tr>\n",
       "      <th>2017-12-27</th>\n",
       "      <td>0.001008</td>\n",
       "      <td>0.000487</td>\n",
       "      <td>0.000774</td>\n",
       "    </tr>\n",
       "    <tr>\n",
       "      <th>2017-12-28</th>\n",
       "      <td>0.001410</td>\n",
       "      <td>0.002057</td>\n",
       "      <td>0.001701</td>\n",
       "    </tr>\n",
       "    <tr>\n",
       "      <th>2017-12-29</th>\n",
       "      <td>-0.006539</td>\n",
       "      <td>-0.003771</td>\n",
       "      <td>-0.005295</td>\n",
       "    </tr>\n",
       "  </tbody>\n",
       "</table>\n",
       "<p>251 rows × 3 columns</p>\n",
       "</div>"
      ],
      "text/plain": [
       "                 WMT       SPY  Portfolio\n",
       "2017-01-03       NaN       NaN        NaN\n",
       "2017-01-04  0.005826  0.005949   0.005887\n",
       "2017-01-05  0.002172 -0.000794   0.000689\n",
       "2017-01-06 -0.013726  0.003578  -0.005087\n",
       "2017-01-09  0.006592 -0.003301   0.001610\n",
       "2017-01-10 -0.006986  0.000000  -0.003485\n",
       "2017-01-11  0.004397  0.002826   0.003607\n",
       "2017-01-12 -0.008172 -0.002510  -0.005326\n",
       "2017-01-13 -0.012358  0.002296  -0.004974\n",
       "2017-01-17  0.019216 -0.003524   0.007673\n",
       "2017-01-18 -0.004531  0.002210  -0.001147\n",
       "2017-01-19 -0.007194 -0.003704  -0.005437\n",
       "2017-01-20 -0.006507  0.003674  -0.001370\n",
       "2017-01-23 -0.007889 -0.002602  -0.005208\n",
       "2017-01-24  0.011253  0.006412   0.008791\n",
       "2017-01-25 -0.007567  0.008656   0.000662\n",
       "2017-01-26 -0.002392 -0.001045  -0.001704\n",
       "2017-01-27 -0.016035 -0.001570  -0.008634\n",
       "2017-01-30  0.011575 -0.006202   0.002415\n",
       "2017-01-31  0.004818 -0.000088   0.002312\n",
       "2017-02-01 -0.007641  0.000396  -0.003546\n",
       "2017-02-02  0.007096  0.000659   0.003803\n",
       "2017-02-03 -0.002998  0.006893   0.002046\n",
       "2017-02-06 -0.001504 -0.001788  -0.001649\n",
       "2017-02-07  0.007380  0.000044   0.003620\n",
       "2017-02-08  0.013754  0.001310   0.007400\n",
       "2017-02-09  0.018729  0.005933   0.012235\n",
       "2017-02-10 -0.015345  0.003946  -0.005615\n",
       "2017-02-13 -0.003675  0.005443   0.000968\n",
       "2017-02-14  0.013133  0.003995   0.008459\n",
       "...              ...       ...        ...\n",
       "2017-11-16  0.108984  0.008501   0.062382\n",
       "2017-11-17 -0.021582 -0.002939  -0.013374\n",
       "2017-11-20  0.000103  0.001706   0.000816\n",
       "2017-11-21 -0.009848  0.006543  -0.002549\n",
       "2017-11-22 -0.001140 -0.000885  -0.001025\n",
       "2017-11-24  0.002178  0.002310   0.002237\n",
       "2017-11-27  0.000000 -0.000499  -0.000224\n",
       "2017-11-28  0.001552  0.010145   0.005413\n",
       "2017-11-29  0.008164 -0.000609   0.004203\n",
       "2017-11-30 -0.003382  0.008755   0.002071\n",
       "2017-12-01  0.001234 -0.002076  -0.000263\n",
       "2017-12-04 -0.003492 -0.001210  -0.002462\n",
       "2017-12-05  0.008453 -0.003597   0.003006\n",
       "2017-12-06 -0.005622  0.000190  -0.003012\n",
       "2017-12-07  0.000103  0.003153   0.001477\n",
       "2017-12-08 -0.002376  0.005453   0.001157\n",
       "2017-12-11  0.003936  0.003013   0.003518\n",
       "2017-12-12 -0.002373  0.001765  -0.000499\n",
       "2017-12-13  0.010962 -0.000112   0.005934\n",
       "2017-12-14 -0.006444 -0.004086  -0.005380\n",
       "2017-12-15 -0.000206  0.008327   0.003650\n",
       "2017-12-18  0.008135  0.006341   0.007321\n",
       "2017-12-19  0.009193 -0.003840   0.003282\n",
       "2017-12-20 -0.000506 -0.000524  -0.000514\n",
       "2017-12-21 -0.006987  0.002060  -0.002914\n",
       "2017-12-22  0.001530 -0.000262   0.000719\n",
       "2017-12-26  0.009673 -0.001196   0.004759\n",
       "2017-12-27  0.001008  0.000487   0.000774\n",
       "2017-12-28  0.001410  0.002057   0.001701\n",
       "2017-12-29 -0.006539 -0.003771  -0.005295\n",
       "\n",
       "[251 rows x 3 columns]"
      ]
     },
     "execution_count": 40,
     "metadata": {},
     "output_type": "execute_result"
    }
   ],
   "source": [
    "df_daily_return"
   ]
  },
  {
   "cell_type": "code",
   "execution_count": 41,
   "metadata": {},
   "outputs": [
    {
     "data": {
      "text/plain": [
       "WMT          0.408517\n",
       "SPY          0.192646\n",
       "Portfolio    0.301929\n",
       "dtype: float64"
      ]
     },
     "execution_count": 41,
     "metadata": {},
     "output_type": "execute_result"
    }
   ],
   "source": [
    "df_mu"
   ]
  },
  {
   "cell_type": "code",
   "execution_count": 42,
   "metadata": {},
   "outputs": [
    {
     "data": {
      "text/plain": [
       "WMT          0.182298\n",
       "SPY          0.067219\n",
       "Portfolio    0.106061\n",
       "dtype: float64"
      ]
     },
     "execution_count": 42,
     "metadata": {},
     "output_type": "execute_result"
    }
   ],
   "source": [
    "df_vol"
   ]
  },
  {
   "cell_type": "code",
   "execution_count": 43,
   "metadata": {},
   "outputs": [
    {
     "data": {
      "text/html": [
       "<div>\n",
       "<style>\n",
       "    .dataframe thead tr:only-child th {\n",
       "        text-align: right;\n",
       "    }\n",
       "\n",
       "    .dataframe thead th {\n",
       "        text-align: left;\n",
       "    }\n",
       "\n",
       "    .dataframe tbody tr th {\n",
       "        vertical-align: top;\n",
       "    }\n",
       "</style>\n",
       "<table border=\"1\" class=\"dataframe\">\n",
       "  <thead>\n",
       "    <tr style=\"text-align: right;\">\n",
       "      <th></th>\n",
       "      <th>WMT</th>\n",
       "      <th>SPY</th>\n",
       "      <th>Portfolio</th>\n",
       "    </tr>\n",
       "  </thead>\n",
       "  <tbody>\n",
       "    <tr>\n",
       "      <th>WMT</th>\n",
       "      <td>0.033232</td>\n",
       "      <td>0.002313</td>\n",
       "      <td>0.018409</td>\n",
       "    </tr>\n",
       "    <tr>\n",
       "      <th>SPY</th>\n",
       "      <td>0.002313</td>\n",
       "      <td>0.004518</td>\n",
       "      <td>0.003411</td>\n",
       "    </tr>\n",
       "    <tr>\n",
       "      <th>Portfolio</th>\n",
       "      <td>0.018409</td>\n",
       "      <td>0.003411</td>\n",
       "      <td>0.011249</td>\n",
       "    </tr>\n",
       "  </tbody>\n",
       "</table>\n",
       "</div>"
      ],
      "text/plain": [
       "                WMT       SPY  Portfolio\n",
       "WMT        0.033232  0.002313   0.018409\n",
       "SPY        0.002313  0.004518   0.003411\n",
       "Portfolio  0.018409  0.003411   0.011249"
      ]
     },
     "execution_count": 43,
     "metadata": {},
     "output_type": "execute_result"
    }
   ],
   "source": [
    "df_cov"
   ]
  },
  {
   "cell_type": "code",
   "execution_count": 44,
   "metadata": {},
   "outputs": [
    {
     "data": {
      "image/png": "[encoded data removed]",
      "text/plain": [
       "<matplotlib.figure.Figure at 0x10a9543c8>"
      ]
     },
     "metadata": {},
     "output_type": "display_data"
    }
   ],
   "source": [
    "# plot risk-return plot\n",
    "ticker_list = ['WMT', 'SPY', 'Portfolio']\n",
    "fig, ax = plt.subplots()\n",
    "for i, ticker in enumerate(ticker_list):\n",
    "    ax.scatter(df_vol[i], df_mu[i], alpha=0.5)\n",
    "    ax.annotate(ticker, (df_vol[i],df_mu[i]))\n",
    "plt.savefig('img/two asset with portfolio risk-return plot.png')"
   ]
  },
  {
   "cell_type": "code",
   "execution_count": 45,
   "metadata": {},
   "outputs": [
    {
     "data": {
      "text/plain": [
       "(251, 2)"
      ]
     },
     "execution_count": 45,
     "metadata": {},
     "output_type": "execute_result"
    }
   ],
   "source": [
    "df_normalized_adj_close.shape"
   ]
  },
  {
   "cell_type": "code",
   "execution_count": 46,
   "metadata": {
    "collapsed": true
   },
   "outputs": [],
   "source": [
    "# compute statistics of many random portfolios\n",
    "num_assets     = df_normalized_adj_close.shape[1]\n",
    "num_portfolios = 25000 \n",
    "mc_results     = np.zeros((num_portfolios, 3 + num_assets))\n",
    "\n",
    "for i in range(num_portfolios):\n",
    "    portfolio_weight  = np.random.random(num_assets)\n",
    "    portfolio_weight /= np.sum(portfolio_weight) \n",
    "    \n",
    "    df_portfolio    = (portfolio_weight * df_normalized_adj_close).sum(axis=1)\n",
    "    df_daily_return = df_portfolio.pct_change()\n",
    "    \n",
    "    df_mu  = compute_expected_return(df_daily_return)\n",
    "    df_vol = compute_volatility(df_daily_return) \n",
    "\n",
    "    mc_results[i,0] = df_mu\n",
    "    mc_results[i,1] = df_vol\n",
    "    mc_results[i,2] = df_mu / df_vol\n",
    "\n",
    "    for j in range(num_assets):           \n",
    "        mc_results[i, j+3] = portfolio_weight[j]\n",
    "        \n",
    "columns = ['mu','vol','sharpe']\n",
    "for j in range(num_assets):           \n",
    "    columns.append(df_normalized_adj_close.columns[j] + '_weight')\n",
    "    \n",
    "pd_mc_results = pd.DataFrame(mc_results, columns=columns)"
   ]
  },
  {
   "cell_type": "code",
   "execution_count": 47,
   "metadata": {},
   "outputs": [
    {
     "data": {
      "text/html": [
       "<div>\n",
       "<style>\n",
       "    .dataframe thead tr:only-child th {\n",
       "        text-align: right;\n",
       "    }\n",
       "\n",
       "    .dataframe thead th {\n",
       "        text-align: left;\n",
       "    }\n",
       "\n",
       "    .dataframe tbody tr th {\n",
       "        vertical-align: top;\n",
       "    }\n",
       "</style>\n",
       "<table border=\"1\" class=\"dataframe\">\n",
       "  <thead>\n",
       "    <tr style=\"text-align: right;\">\n",
       "      <th></th>\n",
       "      <th>mu</th>\n",
       "      <th>vol</th>\n",
       "      <th>sharpe</th>\n",
       "      <th>WMT_weight</th>\n",
       "      <th>SPY_weight</th>\n",
       "    </tr>\n",
       "  </thead>\n",
       "  <tbody>\n",
       "    <tr>\n",
       "      <th>0</th>\n",
       "      <td>0.228182</td>\n",
       "      <td>0.069192</td>\n",
       "      <td>3.297805</td>\n",
       "      <td>0.161221</td>\n",
       "      <td>0.838779</td>\n",
       "    </tr>\n",
       "    <tr>\n",
       "      <th>1</th>\n",
       "      <td>0.405823</td>\n",
       "      <td>0.180295</td>\n",
       "      <td>2.250880</td>\n",
       "      <td>0.987209</td>\n",
       "      <td>0.012791</td>\n",
       "    </tr>\n",
       "    <tr>\n",
       "      <th>2</th>\n",
       "      <td>0.216374</td>\n",
       "      <td>0.066954</td>\n",
       "      <td>3.231682</td>\n",
       "      <td>0.107509</td>\n",
       "      <td>0.892491</td>\n",
       "    </tr>\n",
       "    <tr>\n",
       "      <th>3</th>\n",
       "      <td>0.371076</td>\n",
       "      <td>0.154640</td>\n",
       "      <td>2.399607</td>\n",
       "      <td>0.822971</td>\n",
       "      <td>0.177029</td>\n",
       "    </tr>\n",
       "    <tr>\n",
       "      <th>4</th>\n",
       "      <td>0.274974</td>\n",
       "      <td>0.089467</td>\n",
       "      <td>3.073476</td>\n",
       "      <td>0.375501</td>\n",
       "      <td>0.624499</td>\n",
       "    </tr>\n",
       "  </tbody>\n",
       "</table>\n",
       "</div>"
      ],
      "text/plain": [
       "         mu       vol    sharpe  WMT_weight  SPY_weight\n",
       "0  0.228182  0.069192  3.297805    0.161221    0.838779\n",
       "1  0.405823  0.180295  2.250880    0.987209    0.012791\n",
       "2  0.216374  0.066954  3.231682    0.107509    0.892491\n",
       "3  0.371076  0.154640  2.399607    0.822971    0.177029\n",
       "4  0.274974  0.089467  3.073476    0.375501    0.624499"
      ]
     },
     "execution_count": 47,
     "metadata": {},
     "output_type": "execute_result"
    }
   ],
   "source": [
    "pd_mc_results.head()"
   ]
  },
  {
   "cell_type": "code",
   "execution_count": 48,
   "metadata": {},
   "outputs": [
    {
     "data": {
      "text/plain": [
       "(25000, 5)"
      ]
     },
     "execution_count": 48,
     "metadata": {},
     "output_type": "execute_result"
    }
   ],
   "source": [
    "pd_mc_results.shape"
   ]
  },
  {
   "cell_type": "code",
   "execution_count": 49,
   "metadata": {},
   "outputs": [
    {
     "data": {
      "image/png": "[encoded data removed]",
      "text/plain": [
       "<matplotlib.figure.Figure at 0x115762cf8>"
      ]
     },
     "metadata": {},
     "output_type": "display_data"
    }
   ],
   "source": [
    "# plot risk-return plot\n",
    "plt.figure(figsize=(12,6))\n",
    "plt.scatter(pd_mc_results.vol, \n",
    "            pd_mc_results.mu,  \n",
    "            c=pd_mc_results.sharpe)\n",
    "plt.grid()\n",
    "plt.savefig('img/many random portfolios risk-return plot.png')"
   ]
  },
  {
   "cell_type": "code",
   "execution_count": 50,
   "metadata": {},
   "outputs": [
    {
     "data": {
      "text/html": [
       "<div>\n",
       "<style>\n",
       "    .dataframe thead tr:only-child th {\n",
       "        text-align: right;\n",
       "    }\n",
       "\n",
       "    .dataframe thead th {\n",
       "        text-align: left;\n",
       "    }\n",
       "\n",
       "    .dataframe tbody tr th {\n",
       "        vertical-align: top;\n",
       "    }\n",
       "</style>\n",
       "<table border=\"1\" class=\"dataframe\">\n",
       "  <thead>\n",
       "    <tr style=\"text-align: right;\">\n",
       "      <th></th>\n",
       "      <th>mu</th>\n",
       "      <th>vol</th>\n",
       "      <th>sharpe</th>\n",
       "      <th>WMT_weight</th>\n",
       "      <th>SPY_weight</th>\n",
       "    </tr>\n",
       "  </thead>\n",
       "  <tbody>\n",
       "    <tr>\n",
       "      <th>0</th>\n",
       "      <td>0.228182</td>\n",
       "      <td>0.069192</td>\n",
       "      <td>3.297805</td>\n",
       "      <td>0.161221</td>\n",
       "      <td>0.838779</td>\n",
       "    </tr>\n",
       "    <tr>\n",
       "      <th>1</th>\n",
       "      <td>0.405823</td>\n",
       "      <td>0.180295</td>\n",
       "      <td>2.250880</td>\n",
       "      <td>0.987209</td>\n",
       "      <td>0.012791</td>\n",
       "    </tr>\n",
       "    <tr>\n",
       "      <th>2</th>\n",
       "      <td>0.216374</td>\n",
       "      <td>0.066954</td>\n",
       "      <td>3.231682</td>\n",
       "      <td>0.107509</td>\n",
       "      <td>0.892491</td>\n",
       "    </tr>\n",
       "    <tr>\n",
       "      <th>3</th>\n",
       "      <td>0.371076</td>\n",
       "      <td>0.154640</td>\n",
       "      <td>2.399607</td>\n",
       "      <td>0.822971</td>\n",
       "      <td>0.177029</td>\n",
       "    </tr>\n",
       "    <tr>\n",
       "      <th>4</th>\n",
       "      <td>0.274974</td>\n",
       "      <td>0.089467</td>\n",
       "      <td>3.073476</td>\n",
       "      <td>0.375501</td>\n",
       "      <td>0.624499</td>\n",
       "    </tr>\n",
       "  </tbody>\n",
       "</table>\n",
       "</div>"
      ],
      "text/plain": [
       "         mu       vol    sharpe  WMT_weight  SPY_weight\n",
       "0  0.228182  0.069192  3.297805    0.161221    0.838779\n",
       "1  0.405823  0.180295  2.250880    0.987209    0.012791\n",
       "2  0.216374  0.066954  3.231682    0.107509    0.892491\n",
       "3  0.371076  0.154640  2.399607    0.822971    0.177029\n",
       "4  0.274974  0.089467  3.073476    0.375501    0.624499"
      ]
     },
     "execution_count": 50,
     "metadata": {},
     "output_type": "execute_result"
    }
   ],
   "source": [
    "pd_mc_results.head()"
   ]
  },
  {
   "cell_type": "code",
   "execution_count": 51,
   "metadata": {},
   "outputs": [
    {
     "data": {
      "text/plain": [
       "21236"
      ]
     },
     "execution_count": 51,
     "metadata": {},
     "output_type": "execute_result"
    }
   ],
   "source": [
    "pd_mc_results.sharpe.idxmax()"
   ]
  },
  {
   "cell_type": "code",
   "execution_count": 52,
   "metadata": {},
   "outputs": [
    {
     "data": {
      "text/plain": [
       "mu            0.233639\n",
       "vol           0.070704\n",
       "sharpe        3.304483\n",
       "WMT_weight    0.186093\n",
       "SPY_weight    0.813907\n",
       "Name: 21236, dtype: float64"
      ]
     },
     "execution_count": 52,
     "metadata": {},
     "output_type": "execute_result"
    }
   ],
   "source": [
    "pd_mc_results.iloc[pd_mc_results.sharpe.idxmax(), :]"
   ]
  },
  {
   "cell_type": "code",
   "execution_count": 53,
   "metadata": {
    "collapsed": true
   },
   "outputs": [],
   "source": [
    "# portfolio with highest sharpe ratio\n",
    "max_sharpe_port = pd_mc_results.iloc[pd_mc_results.sharpe.idxmax()]"
   ]
  },
  {
   "cell_type": "code",
   "execution_count": 54,
   "metadata": {},
   "outputs": [
    {
     "data": {
      "text/plain": [
       "mu            0.233639\n",
       "vol           0.070704\n",
       "sharpe        3.304483\n",
       "WMT_weight    0.186093\n",
       "SPY_weight    0.813907\n",
       "Name: 21236, dtype: float64"
      ]
     },
     "execution_count": 54,
     "metadata": {},
     "output_type": "execute_result"
    }
   ],
   "source": [
    "max_sharpe_port"
   ]
  },
  {
   "cell_type": "code",
   "execution_count": 55,
   "metadata": {
    "collapsed": true
   },
   "outputs": [],
   "source": [
    "# GMVP\n",
    "min_vol_port = pd_mc_results.iloc[pd_mc_results.vol.idxmin()] "
   ]
  },
  {
   "cell_type": "code",
   "execution_count": 56,
   "metadata": {},
   "outputs": [
    {
     "data": {
      "text/plain": [
       "mu            0.205408\n",
       "vol           0.066259\n",
       "sharpe        3.100083\n",
       "WMT_weight    0.057755\n",
       "SPY_weight    0.942245\n",
       "Name: 22424, dtype: float64"
      ]
     },
     "execution_count": 56,
     "metadata": {},
     "output_type": "execute_result"
    }
   ],
   "source": [
    "min_vol_port "
   ]
  },
  {
   "cell_type": "code",
   "execution_count": 57,
   "metadata": {},
   "outputs": [
    {
     "data": {
      "image/png": "[encoded data removed]",
      "text/plain": [
       "<matplotlib.figure.Figure at 0x1157ae390>"
      ]
     },
     "metadata": {},
     "output_type": "display_data"
    }
   ],
   "source": [
    "# plot risk-return plot with GMVP and portfolio with highest sharpe ratio \n",
    "plt.figure(figsize=(12,6))\n",
    "plt.scatter(pd_mc_results.vol, \n",
    "            pd_mc_results.mu, \n",
    "            c=pd_mc_results.sharpe)\n",
    "plt.colorbar()\n",
    "plt.grid()\n",
    "\n",
    "plt.xlabel('Volatility')\n",
    "plt.ylabel('Returns')\n",
    "\n",
    "plt.scatter(max_sharpe_port[1], max_sharpe_port[0], c='r',\n",
    "            marker='*', s=500)\n",
    "plt.scatter(min_vol_port[1],  min_vol_port[0], c='g',\n",
    "            marker='*', s=500)\n",
    "\n",
    "plt.savefig('img/two asset efficient frontier.png')"
   ]
  }
 ],
 "metadata": {
  "kernelspec": {
   "display_name": "Python 3",
   "language": "python",
   "name": "python3"
  },
  "language_info": {
   "codemirror_mode": {
    "name": "ipython",
    "version": 3
   },
   "file_extension": ".py",
   "mimetype": "text/x-python",
   "name": "python",
   "nbconvert_exporter": "python",
   "pygments_lexer": "ipython3",
   "version": "3.7.7"
  }
 },
 "nbformat": 4,
 "nbformat_minor": 2
}
