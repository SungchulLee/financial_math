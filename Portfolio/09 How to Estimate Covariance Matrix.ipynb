{
 "cells": [
  {
   "cell_type": "markdown",
   "metadata": {},
   "source": [
    "# How to Estimate Covariance Matrix"
   ]
  },
  {
   "cell_type": "markdown",
   "metadata": {},
   "source": [
    "Tutorial to estimate inverse covariance matrices using the skggm package [github](https://github.com/neuroquant/jf2016-skggm) [slide](https://dx.doi.org/10.6084/m9.figshare.4003380)\n",
    "\n",
    "High dimensional covariance matrix estimation using a factor model [pdf](http://localhost:8888/notebooks/Dropbox/Paper/High dimensional covariance matrix estimation using a factor model.pdf)\n",
    "\n",
    "A well-conditioned estimator for large-dimensional covariance matrices [pdf](http://localhost:8888/notebooks/Dropbox/Paper/A well-conditioned estimator for large-dimensional covariance matrices.pdf)\n",
    "\n",
    "Honey, I shrunk the sample covariance matrix [pdf](http://localhost:8888/notebooks/Dropbox/Paper/Honey, I shrunk the sample covariance matrix.pdf)\n",
    "\n",
    "Improved estimation of the covariance matrix of stock returns with an application to portfolio selection [pdf](http://localhost:8888/notebooks/Dropbox/Paper/Improved estimation of the covariance matrix of stock returns with an application to portfolio selection.pdf)\n",
    "\n",
    "Shrinkage estimation of high-dimensional factor models with structural instabilities [pdf](http://localhost:8888/notebooks/Dropbox/Paper/Shrinkage estimation of high-dimensional factor models with structural instabilities.pdf)\n",
    "\n",
    "Comparison among high dimensional covariance matrix estimation methods [pdf](http://localhost:8888/notebooks/Dropbox/Paper/Comparison among high dimensional covariance matrix estimation methods.pdf)\n",
    "\n",
    "Forecasting vast dimensional covariances using a dynamic multi-scale realized spectral components model [pdf](http://localhost:8888/notebooks/Dropbox/Paper/Forecasting vast dimensional covariances using a dynamic multi-scale realized spectral components model.pdf)"
   ]
  },
  {
   "cell_type": "markdown",
   "metadata": {},
   "source": [
    "# sklearn.covariance"
   ]
  },
  {
   "cell_type": "markdown",
   "metadata": {},
   "source": [
    "```python\n",
    "covariance.EmpiricalCovariance\n",
    "covariance.EllipticEnvelope\n",
    "covariance.GraphLasso\n",
    "covariance.GraphLassoCV\n",
    "covariance.LedoitWolf\n",
    "covariance.MinCovDet\n",
    "covariance.OAS\n",
    "covariance.ShrunkCovariance\n",
    "covariance.empirical_covariance\n",
    "```\n",
    "\n",
    "http://scikit-learn.org/stable/modules/classes.html#module-sklearn.covariance"
   ]
  },
  {
   "cell_type": "code",
   "execution_count": 1,
   "metadata": {
    "collapsed": true
   },
   "outputs": [],
   "source": [
    "# import modules\n",
    "import numpy as np\n",
    "from sklearn.covariance import EmpiricalCovariance\n",
    "from sklearn.covariance import EllipticEnvelope\n",
    "from sklearn.covariance import GraphLasso\n",
    "from sklearn.covariance import GraphLassoCV\n",
    "from sklearn.covariance import LedoitWolf\n",
    "from sklearn.covariance import MinCovDet\n",
    "from sklearn.covariance import OAS\n",
    "from sklearn.covariance import ShrunkCovariance\n",
    "%matplotlib inline"
   ]
  },
  {
   "cell_type": "code",
   "execution_count": 2,
   "metadata": {
    "collapsed": true
   },
   "outputs": [],
   "source": [
    "# generate date\n",
    "z = np.random.normal(size=(1000,3))\n",
    "A = np.random.random((3,3))\n",
    "x = np.dot(z, A)"
   ]
  },
  {
   "cell_type": "code",
   "execution_count": 3,
   "metadata": {},
   "outputs": [
    {
     "data": {
      "text/plain": [
       "array([[1.55148428, 1.56384989, 0.81916523],\n",
       "       [1.56384989, 1.9789029 , 0.99332917],\n",
       "       [0.81916523, 0.99332917, 0.72686097]])"
      ]
     },
     "execution_count": 3,
     "metadata": {},
     "output_type": "execute_result"
    }
   ],
   "source": [
    "# true sigma\n",
    "S = np.dot(A.T,A)\n",
    "S"
   ]
  },
  {
   "cell_type": "code",
   "execution_count": 6,
   "metadata": {},
   "outputs": [
    {
     "data": {
      "text/plain": [
       "array([[1.45727016, 1.44597146, 0.76599229],\n",
       "       [1.44597146, 1.84342788, 0.94413826],\n",
       "       [0.76599229, 0.94413826, 0.72159152]])"
      ]
     },
     "execution_count": 6,
     "metadata": {},
     "output_type": "execute_result"
    }
   ],
   "source": [
    "if 1:\n",
    "    c = EmpiricalCovariance()\n",
    "elif 0:\n",
    "    c = EllipticEnvelope()\n",
    "elif 0:\n",
    "    c = GraphLasso()\n",
    "elif 0:\n",
    "    c = GraphLassoCV()\n",
    "elif 0:\n",
    "    c = LedoitWolf()\n",
    "elif 1:\n",
    "    c = MinCovDet()\n",
    "elif 1:\n",
    "    c = OAS()\n",
    "elif 1:\n",
    "    c = ShrunkCovariance()\n",
    "    \n",
    "S1 = c.fit(x).covariance_\n",
    "S1"
   ]
  },
  {
   "cell_type": "code",
   "execution_count": null,
   "metadata": {
    "collapsed": true
   },
   "outputs": [],
   "source": []
  }
 ],
 "metadata": {
  "kernelspec": {
   "display_name": "Python [default]",
   "language": "python",
   "name": "python3"
  },
  "language_info": {
   "codemirror_mode": {
    "name": "ipython",
    "version": 3
   },
   "file_extension": ".py",
   "mimetype": "text/x-python",
   "name": "python",
   "nbconvert_exporter": "python",
   "pygments_lexer": "ipython3",
   "version": "3.5.3"
  }
 },
 "nbformat": 4,
 "nbformat_minor": 2
}
