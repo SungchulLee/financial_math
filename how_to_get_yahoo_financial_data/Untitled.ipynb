{
 "cells": [
  {
   "cell_type": "markdown",
   "metadata": {},
   "source": [
    "[youtube](https://youtu.be/pVYATzSoZVA)\n",
    "[github](https://github.com/SungchulLee/financial_math/tree/master/how%20to%20get%20yahoo%20financial%20data)\n",
    "[ppt](https://github.com/SungchulLee/financial_math/blob/master/%E1%84%8B%E1%85%A3%E1%84%92%E1%85%AE%20%E1%84%91%E1%85%A1%E1%84%8B%E1%85%B5%E1%84%82%E1%85%A2%E1%86%AB%E1%84%89%E1%85%B3%20%E1%84%83%E1%85%A6%E1%84%8B%E1%85%B5%E1%84%90%E1%85%A1%20%E1%84%92%E1%85%AC%E1%86%A8%E1%84%83%E1%85%B3%E1%86%A8%E1%84%92%E1%85%A1%E1%84%80%E1%85%B5.pptx)"
   ]
  },
  {
   "cell_type": "code",
   "execution_count": null,
   "metadata": {},
   "outputs": [],
   "source": [
    "from pandas_datareader import data as pdr\n",
    "data = pdr.get_data_yahoo(\"SPY\", start=\"2017-01-01\", end=\"2017-04-30\")\n",
    "print(data.head())"
   ]
  },
  {
   "cell_type": "code",
   "execution_count": null,
   "metadata": {},
   "outputs": [],
   "source": [
    "from pandas_datareader import data as pdr\n",
    "import yfinance as yf; yf.pdr_override() # <== that's all it takes :-)\n",
    "data = pdr.get_data_yahoo(\"SPY\", start=\"2017-01-01\", end=\"2017-04-30\")\n",
    "print(data.head())"
   ]
  },
  {
   "cell_type": "code",
   "execution_count": null,
   "metadata": {},
   "outputs": [],
   "source": [
    "import yfinance as yf\n",
    "msft = yf.Ticker(\"MSFT\")\n",
    "hist = msft.history(period=\"max\") # get historical market data\n",
    "print(hist.tail())\n",
    "# opt = msft.option_chain('2019-11-29') # get option chain for specific expiration \n",
    "# print(opt.calls.tail()) # data available via: opt.calls, opt.puts"
   ]
  },
  {
   "cell_type": "code",
   "execution_count": null,
   "metadata": {},
   "outputs": [],
   "source": [
    "import yfinance as yf\n",
    "msft = yf.Ticker(\"MSFT\")\n",
    "# hist = msft.history(period=\"max\") # get historical market data\n",
    "# print(hist.tail())\n",
    "opt = msft.option_chain('2019-11-29') # get option chain for specific expiration \n",
    "print(opt.calls.tail()) # data available via: opt.calls, opt.puts"
   ]
  },
  {
   "cell_type": "code",
   "execution_count": 1,
   "metadata": {},
   "outputs": [
    {
     "name": "stdout",
     "output_type": "stream",
     "text": [
      "                                    2019-09-30    2019-06-30    2019-03-31  \\\n",
      "Intangible Assets                 7.508000e+09  7.750000e+09  8.103000e+09   \n",
      "Total Liab                        1.728940e+11  1.842260e+11  1.684170e+11   \n",
      "Total Stockholder Equity          1.060610e+11  1.023300e+11  9.486400e+10   \n",
      "Other Current Liab                3.989600e+10  4.586000e+10  3.229500e+10   \n",
      "Total Assets                      2.789550e+11  2.865560e+11  2.632810e+11   \n",
      "Common Stock                      7.888200e+10  7.852000e+10  7.779100e+10   \n",
      "Other Current Assets              7.578000e+09  1.013300e+10  7.131000e+09   \n",
      "Retained Earnings                 2.724000e+10  2.415000e+10  1.833800e+10   \n",
      "Other Liab                        3.417800e+10  3.569900e+10  3.647100e+10   \n",
      "Good Will                         4.211300e+10  4.202600e+10  4.186100e+10   \n",
      "Treasury Stock                   -6.100000e+07 -3.400000e+08 -1.265000e+09   \n",
      "Other Assets                      1.445500e+10  1.472300e+10  1.025800e+10   \n",
      "Cash                              1.311700e+10  1.135600e+10  1.121200e+10   \n",
      "Total Current Liabilities         5.811800e+10  6.942000e+10  5.386100e+10   \n",
      "Short Long Term Debt              3.017000e+09  5.516000e+09  6.515000e+09   \n",
      "Other Stockholder Equity         -6.100000e+07 -3.400000e+08 -1.265000e+09   \n",
      "Property Plant Equipment          4.629900e+10  4.385600e+10  4.076900e+10   \n",
      "Total Current Assets              1.658960e+11  1.755520e+11  1.598870e+11   \n",
      "Long Term Investments             2.684000e+09  2.649000e+09  2.403000e+09   \n",
      "Net Tangible Assets               5.644000e+10  5.255400e+10  4.490000e+10   \n",
      "Short Term Investments            1.234920e+11  1.224760e+11  1.203240e+11   \n",
      "Net Receivables                   1.908700e+10  2.952400e+10  1.926900e+10   \n",
      "Long Term Debt                    6.647800e+10  6.666200e+10  6.658500e+10   \n",
      "Inventory                         2.622000e+09  2.063000e+09  1.951000e+09   \n",
      "Accounts Payable                  8.574000e+09  9.382000e+09  7.544000e+09   \n",
      "Deferred Long Term Asset Charges           NaN  7.536000e+09           NaN   \n",
      "\n",
      "                                    2018-12-31  \n",
      "Intangible Assets                 8.482000e+09  \n",
      "Total Liab                        1.667310e+11  \n",
      "Total Stockholder Equity          9.212800e+10  \n",
      "Other Current Liab                3.294900e+10  \n",
      "Total Assets                      2.588590e+11  \n",
      "Common Stock                      7.755600e+10  \n",
      "Other Current Assets              7.560000e+09  \n",
      "Retained Earnings                 1.658500e+10  \n",
      "Other Liab                        3.611200e+10  \n",
      "Good Will                         4.157700e+10  \n",
      "Treasury Stock                   -2.013000e+09  \n",
      "Other Assets                      1.012900e+10  \n",
      "Cash                              6.638000e+09  \n",
      "Total Current Liabilities         5.031800e+10  \n",
      "Short Long Term Debt              3.516000e+09  \n",
      "Other Stockholder Equity         -2.013000e+09  \n",
      "Property Plant Equipment          3.952300e+10  \n",
      "Total Current Assets              1.568740e+11  \n",
      "Long Term Investments             2.274000e+09  \n",
      "Net Tangible Assets               4.206900e+10  \n",
      "Short Term Investments            1.210350e+11  \n",
      "Net Receivables                   1.968000e+10  \n",
      "Long Term Debt                    6.965300e+10  \n",
      "Inventory                         1.961000e+09  \n",
      "Accounts Payable                  7.563000e+09  \n",
      "Deferred Long Term Asset Charges           NaN  \n"
     ]
    }
   ],
   "source": [
    "import yfinance as yf\n",
    "msft = yf.Ticker(\"MSFT\")\n",
    "# print(msft.info) # get stock info\n",
    "# print(msft.actions) # show actions (dividends, splits)\n",
    "# print(msft.dividends) # show dividends\n",
    "# print(msft.splits) # show splits\n",
    "# print(msft.financials) # show financials\n",
    "# print(msft.quarterly_financials) # show financials\n",
    "# print(msft.balance_sheet) # show balance heet\n",
    "print(msft.quarterly_balance_sheet) # show balance heet\n",
    "# print(msft.cashflow) # show cashflow\n",
    "# print(msft.quarterly_cashflow) # show cashflow\n",
    "# print(msft.earnings) # show earnings\n",
    "# print(msft.quarterly_earnings) # show earnings\n",
    "# print(msft.sustainability) # show sustainability\n",
    "# print(msft.recommendations) # show analysts recommendations\n",
    "# print(msft.calendar) # show next event (earnings, etc)\n",
    "#print(msft.options) # show options expirations"
   ]
  },
  {
   "cell_type": "code",
   "execution_count": null,
   "metadata": {},
   "outputs": [],
   "source": []
  }
 ],
 "metadata": {
  "kernelspec": {
   "display_name": "Python 3",
   "language": "python",
   "name": "python3"
  },
  "language_info": {
   "codemirror_mode": {
    "name": "ipython",
    "version": 3
   },
   "file_extension": ".py",
   "mimetype": "text/x-python",
   "name": "python",
   "nbconvert_exporter": "python",
   "pygments_lexer": "ipython3",
   "version": "3.6.9"
  }
 },
 "nbformat": 4,
 "nbformat_minor": 2
}
