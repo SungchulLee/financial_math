{
 "cells": [
  {
   "cell_type": "code",
   "execution_count": 1,
   "metadata": {},
   "outputs": [],
   "source": [
    "import numpy as np\n",
    "import matplotlib.pyplot as plt; plt.style.use('seaborn')\n",
    "import pandas as pd\n",
    "import yfinance as yf"
   ]
  },
  {
   "cell_type": "code",
   "execution_count": 2,
   "metadata": {},
   "outputs": [],
   "source": [
    "def download(ticker, start=None, end=None):\n",
    "    if start is None:\n",
    "        return yf.Ticker(ticker).history(period=\"max\")\n",
    "    else:\n",
    "        return yf.Ticker(ticker).history(start=start, end=end)"
   ]
  },
  {
   "cell_type": "markdown",
   "metadata": {},
   "source": [
    "$$\\begin{array}{cccccccc}\n",
    "r_D&=&\\frac{S_1}{S_0}-1\\\\\n",
    "r_C&=&\\log\\frac{S_1}{S_0}&\\approx&\\frac{S_1}{S_0}-1&=&r_D\\\\\n",
    "\\end{array}$$"
   ]
  },
  {
   "cell_type": "code",
   "execution_count": 3,
   "metadata": {},
   "outputs": [
    {
     "data": {
      "text/html": [
       "<div>\n",
       "<style scoped>\n",
       "    .dataframe tbody tr th:only-of-type {\n",
       "        vertical-align: middle;\n",
       "    }\n",
       "\n",
       "    .dataframe tbody tr th {\n",
       "        vertical-align: top;\n",
       "    }\n",
       "\n",
       "    .dataframe thead th {\n",
       "        text-align: right;\n",
       "    }\n",
       "</style>\n",
       "<table border=\"1\" class=\"dataframe\">\n",
       "  <thead>\n",
       "    <tr style=\"text-align: right;\">\n",
       "      <th></th>\n",
       "      <th>Open</th>\n",
       "      <th>High</th>\n",
       "      <th>Low</th>\n",
       "      <th>Close</th>\n",
       "      <th>Volume</th>\n",
       "      <th>Dividends</th>\n",
       "      <th>Stock Splits</th>\n",
       "      <th>C_Return</th>\n",
       "      <th>D_Return</th>\n",
       "    </tr>\n",
       "    <tr>\n",
       "      <th>Date</th>\n",
       "      <th></th>\n",
       "      <th></th>\n",
       "      <th></th>\n",
       "      <th></th>\n",
       "      <th></th>\n",
       "      <th></th>\n",
       "      <th></th>\n",
       "      <th></th>\n",
       "      <th></th>\n",
       "    </tr>\n",
       "  </thead>\n",
       "  <tbody>\n",
       "    <tr>\n",
       "      <th>2012-05-18</th>\n",
       "      <td>42.05</td>\n",
       "      <td>45.00</td>\n",
       "      <td>38.00</td>\n",
       "      <td>38.23</td>\n",
       "      <td>573576400</td>\n",
       "      <td>0</td>\n",
       "      <td>0</td>\n",
       "      <td>NaN</td>\n",
       "      <td>NaN</td>\n",
       "    </tr>\n",
       "    <tr>\n",
       "      <th>2012-05-21</th>\n",
       "      <td>36.53</td>\n",
       "      <td>36.66</td>\n",
       "      <td>33.00</td>\n",
       "      <td>34.03</td>\n",
       "      <td>168192700</td>\n",
       "      <td>0</td>\n",
       "      <td>0</td>\n",
       "      <td>-0.116378</td>\n",
       "      <td>-0.109861</td>\n",
       "    </tr>\n",
       "    <tr>\n",
       "      <th>2012-05-22</th>\n",
       "      <td>32.61</td>\n",
       "      <td>33.59</td>\n",
       "      <td>30.94</td>\n",
       "      <td>31.00</td>\n",
       "      <td>101786600</td>\n",
       "      <td>0</td>\n",
       "      <td>0</td>\n",
       "      <td>-0.093255</td>\n",
       "      <td>-0.089039</td>\n",
       "    </tr>\n",
       "    <tr>\n",
       "      <th>2012-05-23</th>\n",
       "      <td>31.37</td>\n",
       "      <td>32.50</td>\n",
       "      <td>31.36</td>\n",
       "      <td>32.00</td>\n",
       "      <td>73600000</td>\n",
       "      <td>0</td>\n",
       "      <td>0</td>\n",
       "      <td>0.031749</td>\n",
       "      <td>0.032258</td>\n",
       "    </tr>\n",
       "    <tr>\n",
       "      <th>2012-05-24</th>\n",
       "      <td>32.95</td>\n",
       "      <td>33.21</td>\n",
       "      <td>31.77</td>\n",
       "      <td>33.03</td>\n",
       "      <td>50237200</td>\n",
       "      <td>0</td>\n",
       "      <td>0</td>\n",
       "      <td>0.031680</td>\n",
       "      <td>0.032188</td>\n",
       "    </tr>\n",
       "    <tr>\n",
       "      <th>...</th>\n",
       "      <td>...</td>\n",
       "      <td>...</td>\n",
       "      <td>...</td>\n",
       "      <td>...</td>\n",
       "      <td>...</td>\n",
       "      <td>...</td>\n",
       "      <td>...</td>\n",
       "      <td>...</td>\n",
       "      <td>...</td>\n",
       "    </tr>\n",
       "    <tr>\n",
       "      <th>2020-12-30</th>\n",
       "      <td>277.95</td>\n",
       "      <td>278.08</td>\n",
       "      <td>271.71</td>\n",
       "      <td>271.87</td>\n",
       "      <td>11803800</td>\n",
       "      <td>0</td>\n",
       "      <td>0</td>\n",
       "      <td>-0.017899</td>\n",
       "      <td>-0.017740</td>\n",
       "    </tr>\n",
       "    <tr>\n",
       "      <th>2020-12-31</th>\n",
       "      <td>272.00</td>\n",
       "      <td>277.09</td>\n",
       "      <td>269.81</td>\n",
       "      <td>273.16</td>\n",
       "      <td>12892900</td>\n",
       "      <td>0</td>\n",
       "      <td>0</td>\n",
       "      <td>0.004734</td>\n",
       "      <td>0.004745</td>\n",
       "    </tr>\n",
       "    <tr>\n",
       "      <th>2021-01-04</th>\n",
       "      <td>274.78</td>\n",
       "      <td>275.00</td>\n",
       "      <td>265.20</td>\n",
       "      <td>268.94</td>\n",
       "      <td>15106100</td>\n",
       "      <td>0</td>\n",
       "      <td>0</td>\n",
       "      <td>-0.015569</td>\n",
       "      <td>-0.015449</td>\n",
       "    </tr>\n",
       "    <tr>\n",
       "      <th>2021-01-05</th>\n",
       "      <td>268.29</td>\n",
       "      <td>272.40</td>\n",
       "      <td>268.21</td>\n",
       "      <td>270.97</td>\n",
       "      <td>9855800</td>\n",
       "      <td>0</td>\n",
       "      <td>0</td>\n",
       "      <td>0.007520</td>\n",
       "      <td>0.007548</td>\n",
       "    </tr>\n",
       "    <tr>\n",
       "      <th>2021-01-06</th>\n",
       "      <td>262.00</td>\n",
       "      <td>267.75</td>\n",
       "      <td>260.01</td>\n",
       "      <td>263.31</td>\n",
       "      <td>23302984</td>\n",
       "      <td>0</td>\n",
       "      <td>0</td>\n",
       "      <td>-0.028676</td>\n",
       "      <td>-0.028269</td>\n",
       "    </tr>\n",
       "  </tbody>\n",
       "</table>\n",
       "<p>2173 rows × 9 columns</p>\n",
       "</div>"
      ],
      "text/plain": [
       "              Open    High     Low   Close     Volume  Dividends  \\\n",
       "Date                                                               \n",
       "2012-05-18   42.05   45.00   38.00   38.23  573576400          0   \n",
       "2012-05-21   36.53   36.66   33.00   34.03  168192700          0   \n",
       "2012-05-22   32.61   33.59   30.94   31.00  101786600          0   \n",
       "2012-05-23   31.37   32.50   31.36   32.00   73600000          0   \n",
       "2012-05-24   32.95   33.21   31.77   33.03   50237200          0   \n",
       "...            ...     ...     ...     ...        ...        ...   \n",
       "2020-12-30  277.95  278.08  271.71  271.87   11803800          0   \n",
       "2020-12-31  272.00  277.09  269.81  273.16   12892900          0   \n",
       "2021-01-04  274.78  275.00  265.20  268.94   15106100          0   \n",
       "2021-01-05  268.29  272.40  268.21  270.97    9855800          0   \n",
       "2021-01-06  262.00  267.75  260.01  263.31   23302984          0   \n",
       "\n",
       "            Stock Splits  C_Return  D_Return  \n",
       "Date                                          \n",
       "2012-05-18             0       NaN       NaN  \n",
       "2012-05-21             0 -0.116378 -0.109861  \n",
       "2012-05-22             0 -0.093255 -0.089039  \n",
       "2012-05-23             0  0.031749  0.032258  \n",
       "2012-05-24             0  0.031680  0.032188  \n",
       "...                  ...       ...       ...  \n",
       "2020-12-30             0 -0.017899 -0.017740  \n",
       "2020-12-31             0  0.004734  0.004745  \n",
       "2021-01-04             0 -0.015569 -0.015449  \n",
       "2021-01-05             0  0.007520  0.007548  \n",
       "2021-01-06             0 -0.028676 -0.028269  \n",
       "\n",
       "[2173 rows x 9 columns]"
      ]
     },
     "execution_count": 3,
     "metadata": {},
     "output_type": "execute_result"
    }
   ],
   "source": [
    "df = download('FB')\n",
    "df['C_Return'] = np.log(df.Close / df.Close.shift(1))\n",
    "df['D_Return'] = (df.Close / df.Close.shift(1)) - 1\n",
    "df"
   ]
  },
  {
   "cell_type": "code",
   "execution_count": 6,
   "metadata": {},
   "outputs": [
    {
     "name": "stdout",
     "output_type": "stream",
     "text": [
      "Annualized (Continuous) Mean Return : 22.39%\n",
      "Annualized (Discrete)   Mean Return : 29.32%\n"
     ]
    }
   ],
   "source": [
    "mu_C = df['C_Return'].mean() * 12 * 21 \n",
    "mu_D = df['D_Return'].mean() * 12 * 21 \n",
    "print(f'Annualized (Continuous) Mean Return : {mu_C:.2%}')\n",
    "print(f'Annualized (Discrete)   Mean Return : {mu_D:.2%}')"
   ]
  },
  {
   "cell_type": "code",
   "execution_count": 7,
   "metadata": {},
   "outputs": [
    {
     "name": "stdout",
     "output_type": "stream",
     "text": [
      "Annualized (Continuous) Volatility : 37.13%\n",
      "Annualized (Discrete)   Volatility : 37.42%\n"
     ]
    }
   ],
   "source": [
    "sigma_C = df['C_Return'].std() * np.sqrt(12 * 21) \n",
    "sigma_D = df['D_Return'].std() * np.sqrt(12 * 21) \n",
    "print(f'Annualized (Continuous) Volatility : {sigma_C:.2%}')\n",
    "print(f'Annualized (Discrete)   Volatility : {sigma_D:.2%}')"
   ]
  },
  {
   "cell_type": "markdown",
   "metadata": {},
   "source": [
    "$$\\begin{array}{cccccccccccc}\n",
    "\\frac{ds}{s}&=&\\mu_D &dt&+&\\sigma_D &db\\\\\n",
    "d\\log s&=&\\mu_C&dt&+&\\sigma_C&db&=&\\left(\\mu_D-\\frac{1}{2}\\sigma_D^2\\right)&dt&+&\\sigma_D &db\\\\\n",
    "\\end{array}$$"
   ]
  },
  {
   "cell_type": "code",
   "execution_count": 8,
   "metadata": {},
   "outputs": [
    {
     "name": "stdout",
     "output_type": "stream",
     "text": [
      "Annualized (Continuous)     Mean Return : 22.39%\n",
      "Annualized (Ito-Continuous) Mean Return : 22.32%\n"
     ]
    }
   ],
   "source": [
    "mu_C_Ito = mu_D - 0.5 * sigma_D**2\n",
    "print(f'Annualized (Continuous)     Mean Return : {mu_C:.2%}')\n",
    "print(f'Annualized (Ito-Continuous) Mean Return : {mu_C_Ito:.2%}')"
   ]
  },
  {
   "cell_type": "code",
   "execution_count": null,
   "metadata": {},
   "outputs": [],
   "source": []
  }
 ],
 "metadata": {
  "kernelspec": {
   "display_name": "Python 3",
   "language": "python",
   "name": "python3"
  },
  "language_info": {
   "codemirror_mode": {
    "name": "ipython",
    "version": 3
   },
   "file_extension": ".py",
   "mimetype": "text/x-python",
   "name": "python",
   "nbconvert_exporter": "python",
   "pygments_lexer": "ipython3",
   "version": "3.7.7"
  }
 },
 "nbformat": 4,
 "nbformat_minor": 4
}
