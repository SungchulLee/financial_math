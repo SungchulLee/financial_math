{
 "cells": [
  {
   "cell_type": "code",
   "execution_count": 1,
   "metadata": {},
   "outputs": [],
   "source": [
    "import pandas as pd\n",
    "data = pd.read_csv('../data/etf/spy.csv', parse_dates=True, index_col=0)"
   ]
  },
  {
   "cell_type": "code",
   "execution_count": 2,
   "metadata": {},
   "outputs": [
    {
     "data": {
      "text/html": [
       "<div>\n",
       "<style scoped>\n",
       "    .dataframe tbody tr th:only-of-type {\n",
       "        vertical-align: middle;\n",
       "    }\n",
       "\n",
       "    .dataframe tbody tr th {\n",
       "        vertical-align: top;\n",
       "    }\n",
       "\n",
       "    .dataframe thead th {\n",
       "        text-align: right;\n",
       "    }\n",
       "</style>\n",
       "<table border=\"1\" class=\"dataframe\">\n",
       "  <thead>\n",
       "    <tr style=\"text-align: right;\">\n",
       "      <th></th>\n",
       "      <th>Open</th>\n",
       "      <th>High</th>\n",
       "      <th>Low</th>\n",
       "      <th>Close</th>\n",
       "      <th>Volume</th>\n",
       "      <th>Dividends</th>\n",
       "      <th>Stock Splits</th>\n",
       "    </tr>\n",
       "    <tr>\n",
       "      <th>Date</th>\n",
       "      <th></th>\n",
       "      <th></th>\n",
       "      <th></th>\n",
       "      <th></th>\n",
       "      <th></th>\n",
       "      <th></th>\n",
       "      <th></th>\n",
       "    </tr>\n",
       "  </thead>\n",
       "  <tbody>\n",
       "    <tr>\n",
       "      <th>2017-01-03</th>\n",
       "      <td>210.44</td>\n",
       "      <td>211.18</td>\n",
       "      <td>209.35</td>\n",
       "      <td>210.63</td>\n",
       "      <td>91366500</td>\n",
       "      <td>0.0</td>\n",
       "      <td>0</td>\n",
       "    </tr>\n",
       "    <tr>\n",
       "      <th>2017-01-04</th>\n",
       "      <td>210.98</td>\n",
       "      <td>212.04</td>\n",
       "      <td>210.97</td>\n",
       "      <td>211.88</td>\n",
       "      <td>78744400</td>\n",
       "      <td>0.0</td>\n",
       "      <td>0</td>\n",
       "    </tr>\n",
       "    <tr>\n",
       "      <th>2017-01-05</th>\n",
       "      <td>211.59</td>\n",
       "      <td>211.88</td>\n",
       "      <td>210.85</td>\n",
       "      <td>211.71</td>\n",
       "      <td>78379000</td>\n",
       "      <td>0.0</td>\n",
       "      <td>0</td>\n",
       "    </tr>\n",
       "    <tr>\n",
       "      <th>2017-01-06</th>\n",
       "      <td>211.83</td>\n",
       "      <td>212.97</td>\n",
       "      <td>211.24</td>\n",
       "      <td>212.47</td>\n",
       "      <td>71559900</td>\n",
       "      <td>0.0</td>\n",
       "      <td>0</td>\n",
       "    </tr>\n",
       "    <tr>\n",
       "      <th>2017-01-09</th>\n",
       "      <td>212.19</td>\n",
       "      <td>212.34</td>\n",
       "      <td>211.73</td>\n",
       "      <td>211.77</td>\n",
       "      <td>46939700</td>\n",
       "      <td>0.0</td>\n",
       "      <td>0</td>\n",
       "    </tr>\n",
       "    <tr>\n",
       "      <th>...</th>\n",
       "      <td>...</td>\n",
       "      <td>...</td>\n",
       "      <td>...</td>\n",
       "      <td>...</td>\n",
       "      <td>...</td>\n",
       "      <td>...</td>\n",
       "      <td>...</td>\n",
       "    </tr>\n",
       "    <tr>\n",
       "      <th>2017-04-24</th>\n",
       "      <td>222.76</td>\n",
       "      <td>222.97</td>\n",
       "      <td>220.30</td>\n",
       "      <td>222.75</td>\n",
       "      <td>119209900</td>\n",
       "      <td>0.0</td>\n",
       "      <td>0</td>\n",
       "    </tr>\n",
       "    <tr>\n",
       "      <th>2017-04-25</th>\n",
       "      <td>223.44</td>\n",
       "      <td>224.42</td>\n",
       "      <td>223.35</td>\n",
       "      <td>224.04</td>\n",
       "      <td>76698300</td>\n",
       "      <td>0.0</td>\n",
       "      <td>0</td>\n",
       "    </tr>\n",
       "    <tr>\n",
       "      <th>2017-04-26</th>\n",
       "      <td>224.00</td>\n",
       "      <td>224.96</td>\n",
       "      <td>223.85</td>\n",
       "      <td>223.90</td>\n",
       "      <td>84702500</td>\n",
       "      <td>0.0</td>\n",
       "      <td>0</td>\n",
       "    </tr>\n",
       "    <tr>\n",
       "      <th>2017-04-27</th>\n",
       "      <td>224.25</td>\n",
       "      <td>224.42</td>\n",
       "      <td>223.51</td>\n",
       "      <td>224.09</td>\n",
       "      <td>57410300</td>\n",
       "      <td>0.0</td>\n",
       "      <td>0</td>\n",
       "    </tr>\n",
       "    <tr>\n",
       "      <th>2017-04-28</th>\n",
       "      <td>224.37</td>\n",
       "      <td>224.40</td>\n",
       "      <td>223.46</td>\n",
       "      <td>223.60</td>\n",
       "      <td>63532800</td>\n",
       "      <td>0.0</td>\n",
       "      <td>0</td>\n",
       "    </tr>\n",
       "  </tbody>\n",
       "</table>\n",
       "<p>81 rows × 7 columns</p>\n",
       "</div>"
      ],
      "text/plain": [
       "              Open    High     Low   Close     Volume  Dividends  Stock Splits\n",
       "Date                                                                          \n",
       "2017-01-03  210.44  211.18  209.35  210.63   91366500        0.0             0\n",
       "2017-01-04  210.98  212.04  210.97  211.88   78744400        0.0             0\n",
       "2017-01-05  211.59  211.88  210.85  211.71   78379000        0.0             0\n",
       "2017-01-06  211.83  212.97  211.24  212.47   71559900        0.0             0\n",
       "2017-01-09  212.19  212.34  211.73  211.77   46939700        0.0             0\n",
       "...            ...     ...     ...     ...        ...        ...           ...\n",
       "2017-04-24  222.76  222.97  220.30  222.75  119209900        0.0             0\n",
       "2017-04-25  223.44  224.42  223.35  224.04   76698300        0.0             0\n",
       "2017-04-26  224.00  224.96  223.85  223.90   84702500        0.0             0\n",
       "2017-04-27  224.25  224.42  223.51  224.09   57410300        0.0             0\n",
       "2017-04-28  224.37  224.40  223.46  223.60   63532800        0.0             0\n",
       "\n",
       "[81 rows x 7 columns]"
      ]
     },
     "execution_count": 2,
     "metadata": {},
     "output_type": "execute_result"
    }
   ],
   "source": [
    "data"
   ]
  },
  {
   "cell_type": "code",
   "execution_count": 3,
   "metadata": {},
   "outputs": [
    {
     "data": {
      "text/plain": [
       "<matplotlib.axes._subplots.AxesSubplot at 0x7ffe7a388c90>"
      ]
     },
     "execution_count": 3,
     "metadata": {},
     "output_type": "execute_result"
    },
    {
     "data": {
      "image/png": "[encoded data removed]",
      "text/plain": [
       "<Figure size 432x288 with 1 Axes>"
      ]
     },
     "metadata": {
      "needs_background": "light"
     },
     "output_type": "display_data"
    }
   ],
   "source": [
    "data.plot()"
   ]
  },
  {
   "cell_type": "markdown",
   "metadata": {},
   "source": [
    "# Reference\n",
    "\n",
    "[Handling Data and Graphing - Python Programming for Finance p.2](https://www.youtube.com/watch?v=0e-lsstqCdY&list=PLQVvvaa0QuDcOdF96TBtRtuQksErCEBYZ&index=2)"
   ]
  }
 ],
 "metadata": {
  "kernelspec": {
   "display_name": "Python 3",
   "language": "python",
   "name": "python3"
  },
  "language_info": {
   "codemirror_mode": {
    "name": "ipython",
    "version": 3
   },
   "file_extension": ".py",
   "mimetype": "text/x-python",
   "name": "python",
   "nbconvert_exporter": "python",
   "pygments_lexer": "ipython3",
   "version": "3.7.7"
  }
 },
 "nbformat": 4,
 "nbformat_minor": 2
}
