{
 "cells": [
  {
   "cell_type": "code",
   "execution_count": 1,
   "metadata": {},
   "outputs": [],
   "source": [
    "import numpy as np\n",
    "import matplotlib.pyplot as plt\n",
    "import scipy.stats as stats\n",
    "\n",
    "def d1(S,K,T,r,sigma):\n",
    "    return (np.log(S/K)+(r+0.5*sigma**2)*T) / (sigma*np.sqrt(T))\n",
    "\n",
    "def d2(S,K,T,r,sigma):\n",
    "    return (np.log(S/K)+(r-0.5*sigma**2)*T) / (sigma*np.sqrt(T))\n",
    "\n",
    "def call(S,K,T,r,sigma):\n",
    "    d_1 = d1(S,K,T,r,sigma) \n",
    "    d_2 = d2(S,K,T,r,sigma) \n",
    "    return S*stats.norm.cdf(d_1) - K*np.exp(-r*T)*stats.norm.cdf(d_2)\n",
    "\n",
    "def put(S,K,T,r,sigma):\n",
    "    d_1 = d1(S,K,T,r,sigma) \n",
    "    d_2 = d2(S,K,T,r,sigma) \n",
    "    return -S*stats.norm.cdf(-d_1) + K*np.exp(-r*T)*stats.norm.cdf(-d_2)"
   ]
  },
  {
   "cell_type": "code",
   "execution_count": 2,
   "metadata": {},
   "outputs": [
    {
     "name": "stderr",
     "output_type": "stream",
     "text": [
      "/anaconda3/lib/python3.5/site-packages/scipy/sparse/linalg/dsolve/linsolve.py:133: SparseEfficiencyWarning: spsolve requires A be CSC or CSR matrix format\n",
      "  SparseEfficiencyWarning)\n",
      "/anaconda3/lib/python3.5/site-packages/ipykernel/__main__.py:6: RuntimeWarning: divide by zero encountered in log\n",
      "/anaconda3/lib/python3.5/site-packages/ipykernel/__main__.py:9: RuntimeWarning: divide by zero encountered in log\n"
     ]
    },
    {
     "data": {
      "image/png": "[encoded data removed]",
      "text/plain": [
       "<Figure size 432x288 with 1 Axes>"
      ]
     },
     "metadata": {
      "needs_background": "light"
     },
     "output_type": "display_data"
    }
   ],
   "source": [
    "# Implicit - Put\n",
    "\n",
    "import numpy as np\n",
    "import matplotlib.pyplot as plt\n",
    "from scipy.sparse import dia_matrix\n",
    "from scipy.interpolate import interp1d\n",
    "from scipy.sparse.linalg import spsolve\n",
    "\n",
    "S = 50; K = 50; T = 1; r = 0.1; v = 0.4;\n",
    " \n",
    "Smax = 100; Smin = 0;\n",
    "NS = 10; NT = 100; \n",
    "dS = (Smax-Smin)/(NS-1); dT = (T-0)/(NT-1);\n",
    "\n",
    "P = np.zeros((NS,NT));\n",
    "Stock = np.linspace(Smin,Smax,NS).reshape((NS,1));\n",
    "P[0,:]  = K-Smin;\n",
    "P[-1,:] = 0;\n",
    "P[:,-1] = np.maximum(K-Stock,0).reshape((NS,));\n",
    "\n",
    "span = np.arange(0,NS-2) \n",
    "a = -0.5*v**2*dT*((Smin/dS)+span)**2+0.5*r*dT*((Smin/dS)+span);\n",
    "b = 1+r*dT+v**2*dT*((Smin/dS)+span)**2;\n",
    "c = -0.5*v**2*dT*((Smin/dS)+span)**2-0.5*r*dT*((Smin/dS)+span);\n",
    "# https://docs.scipy.org/doc/scipy/reference/generated/scipy.sparse.dia_matrix.html#scipy.sparse.dia_matrix\n",
    "# dia_matrix((data, offsets), shape=(M, N))\n",
    "data = [a, b, c];\n",
    "offsets = [-1,0,1];\n",
    "A = dia_matrix((data, offsets), shape=(NS-2, NS-2));\n",
    "\n",
    "for t in range(NT-1,0,-1):\n",
    "    d = np.zeros(NS-2); d[0] = a[0]*P[0,t-1]; d[-1] = c[-1]*P[-1,t-1]\n",
    "    P[1:-1,t-1] = spsolve(A, P[1:-1,t].reshape(NS-2)-d);\n",
    "\n",
    "x = np.linspace(Smin,Smax,NS); \n",
    "f = interp1d(Stock.reshape((NS,)), P[:,0], kind='cubic');\n",
    "y = f(x)\n",
    "plt.plot(x,y,label='Put by Implicit');\n",
    "\n",
    "x1 = np.sort(np.append(x,K)); \n",
    "y1 = put(x1,K,r,v,T); \n",
    "plt.plot(x1,y1,'--r',label='Put by Black-Scholes'); \n",
    "\n",
    "y2 = np.maximum(K-x1,0);\n",
    "plt.plot(x1,y2,'--b',alpha=0.3);\n",
    "\n",
    "plt.legend()\n",
    "plt.grid(True);\n",
    "plt.xlabel('Stock price'); plt.ylabel('Put price')\n",
    "plt.show()"
   ]
  },
  {
   "cell_type": "code",
   "execution_count": null,
   "metadata": {},
   "outputs": [],
   "source": []
  }
 ],
 "metadata": {
  "kernelspec": {
   "display_name": "Python [conda env:anaconda3]",
   "language": "python",
   "name": "conda-env-anaconda3-py"
  },
  "language_info": {
   "codemirror_mode": {
    "name": "ipython",
    "version": 3
   },
   "file_extension": ".py",
   "mimetype": "text/x-python",
   "name": "python",
   "nbconvert_exporter": "python",
   "pygments_lexer": "ipython3",
   "version": "3.5.0"
  }
 },
 "nbformat": 4,
 "nbformat_minor": 2
}
