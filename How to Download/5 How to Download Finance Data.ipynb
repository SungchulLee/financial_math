{
 "cells": [
  {
   "cell_type": "code",
   "execution_count": 2,
   "metadata": {},
   "outputs": [
    {
     "name": "stdout",
     "output_type": "stream",
     "text": [
      "Empty DataFrame\n",
      "Columns: [Open, High, Low, Close, Adj Close, Volume]\n",
      "Index: []\n"
     ]
    }
   ],
   "source": [
    "import yfinance as yf\n",
    "msft = yf.Ticker(\"MSFT\")\n",
    "# print(msft.actions) # show actions (dividends, splits)\n",
    "# print(msft.balance_sheet) \n",
    "# print(msft.cashflow) \n",
    "# print(msft.calendar) \n",
    "# print(msft.dividends) \n",
    "# print(msft.earnings) \n",
    "# print(msft.financials) \n",
    "# print(msft.history) # stock price\n",
    "# print(msft.info) \n",
    "# print(msft.options) # options expirations\n",
    "# print(msft.option_chain) # option price\n",
    "# print(msft.quarterly_balance_sheet) \n",
    "# print(msft.quarterly_cashflow) \n",
    "# print(msft.quarterly_financials) \n",
    "# print(msft.quarterly_earnings) \n",
    "# print(msft.recommendations) \n",
    "# print(msft.splits) \n",
    "# print(msft.sustainability) "
   ]
  },
  {
   "cell_type": "markdown",
   "metadata": {},
   "source": [
    "# Reference\n",
    "\n",
    "[yfinance](https://pypi.org/project/yfinance/)"
   ]
  }
 ],
 "metadata": {
  "kernelspec": {
   "display_name": "Python 3",
   "language": "python",
   "name": "python3"
  },
  "language_info": {
   "codemirror_mode": {
    "name": "ipython",
    "version": 3
   },
   "file_extension": ".py",
   "mimetype": "text/x-python",
   "name": "python",
   "nbconvert_exporter": "python",
   "pygments_lexer": "ipython3",
   "version": "3.7.7"
  }
 },
 "nbformat": 4,
 "nbformat_minor": 2
}
