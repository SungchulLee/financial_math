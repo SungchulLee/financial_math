{
 "cells": [
  {
   "cell_type": "markdown",
   "metadata": {},
   "source": [
    "[Python for Finance](https://github.com/yhilpisch/py4fi)"
   ]
  },
  {
   "cell_type": "markdown",
   "metadata": {},
   "source": [
    "$$\n",
    "C(S,K,\\tau,r,\\sigma)=SN(d_1)-Ke^{-r\\tau}N(d_2)\n",
    "$$\n",
    "$$\n",
    "d_1=\\frac{\\log\\frac{S}{K}+\\left(r+\\frac{\\sigma^2}{2}\\right)\\tau}{\\sigma\\sqrt{\\tau}}\n",
    "$$\n",
    "$$\n",
    "d_2=\\frac{\\log\\frac{S}{K}+\\left(r-\\frac{\\sigma^2}{2}\\right)\\tau}{\\sigma\\sqrt{\\tau}}\n",
    "$$"
   ]
  },
  {
   "cell_type": "code",
   "execution_count": 1,
   "metadata": {},
   "outputs": [
    {
     "name": "stdout",
     "output_type": "stream",
     "text": [
      "8.021352235143176\n"
     ]
    }
   ],
   "source": [
    "def C(S, K, tau, r, sigma):\n",
    "    import numpy as np\n",
    "    import scipy.stats as stats\n",
    "    d1 = (np.log(S/K) + (r+sigma**2/2)*tau) / (sigma*np.sqrt(tau))\n",
    "    d2 = (np.log(S/K) + (r-sigma**2/2)*tau) / (sigma*np.sqrt(tau))\n",
    "    N = stats.norm().cdf \n",
    "    return S*N(d1) - K*np.exp(-r*tau)*N(d2)\n",
    "\n",
    "S0 = 100\n",
    "K = 105\n",
    "tau = 1.0\n",
    "r = 0.05\n",
    "sigma = 0.2\n",
    "print(C(S0, K, tau, r, sigma))"
   ]
  },
  {
   "cell_type": "markdown",
   "metadata": {},
   "source": [
    "$$\\begin{array}{lll}\n",
    "\\displaystyle\n",
    "\\frac{dS_t}{S_t}=rdt+\\sigma db\n",
    "&\\Rightarrow&\n",
    "\\displaystyle\n",
    "\\frac{S_{t+dt}-S_t}{S_t}=rdt+\\sigma db\\\\\n",
    "&\\Rightarrow&\n",
    "\\displaystyle\n",
    "S_{t+dt}=S_t\\left[1+(rdt+\\sigma db)\\right]\\\\\n",
    "&\\Rightarrow&\n",
    "\\displaystyle\n",
    "S_{t+dt}=S_t e^{\\left(r-\\frac{1}{2}\\sigma^2\\right)dt+\\sigma db}\\\\\n",
    "\\end{array}$$"
   ]
  },
  {
   "cell_type": "code",
   "execution_count": null,
   "metadata": {},
   "outputs": [],
   "source": [
    "import time \n",
    "import numpy as np\n",
    "S0 = 100; K = 105; tau = 1.0; r = 0.05; sigma = 0.2  \n",
    "M = 50  # number of time steps\n",
    "I = 250000  # number of paths\n",
    "tic = time.time()\n",
    "\n",
    "#\n",
    "# Main Simulation Code\n",
    "#\n",
    "\n",
    "toc = time.time() \n",
    "print(\"European Option Value : {}\".format(C_simulation))\n",
    "print(\"Duration in Seconds   : {}\".format(toc-tic))"
   ]
  },
  {
   "cell_type": "code",
   "execution_count": 1,
   "metadata": {},
   "outputs": [
    {
     "name": "stdout",
     "output_type": "stream",
     "text": [
      "European Option Value : 8.0065230502632\n",
      "Duration in Seconds   : 58.639920234680176\n"
     ]
    }
   ],
   "source": [
    "# Pure Python Simulation (Discrete Version)\n",
    "import time \n",
    "import numpy as np\n",
    "S0 = 100; K = 105; tau = 1.0; r = 0.05; sigma = 0.2  \n",
    "M = 50  # number of time steps\n",
    "I = 250000  # number of paths\n",
    "tic = time.time()\n",
    "\n",
    "# Pure Python Simulation (Discrete Version)\n",
    "paths = []\n",
    "for i in range(I):\n",
    "    path = []\n",
    "    for t in range(M + 1):\n",
    "        if t == 0:\n",
    "            path.append(S0)\n",
    "        else:\n",
    "            S_t = path[t-1]\n",
    "            dt = tau / M  \n",
    "            db = np.sqrt(dt) * np.random.normal()\n",
    "            path.append(S_t*(1+(r*dt+sigma*db)))\n",
    "    paths.append(path)\n",
    "C_simulation = np.exp(-r*tau) * sum([max(path[-1] - K, 0) for path in paths]) / I\n",
    "\n",
    "toc = time.time() \n",
    "print(\"European Option Value : {}\".format(C_simulation))\n",
    "print(\"Duration in Seconds   : {}\".format(toc-tic))"
   ]
  },
  {
   "cell_type": "code",
   "execution_count": 3,
   "metadata": {},
   "outputs": [
    {
     "name": "stdout",
     "output_type": "stream",
     "text": [
      "European Option Value : 8.042366493086094\n",
      "Duration in Seconds   : 60.05700898170471\n"
     ]
    }
   ],
   "source": [
    "# Pure Python Simulation (Continuous Version)\n",
    "import time \n",
    "import numpy as np\n",
    "S0 = 100; K = 105; tau = 1.0; r = 0.05; sigma = 0.2  \n",
    "M = 50  # number of time steps\n",
    "I = 250000  # number of paths\n",
    "tic = time.time()\n",
    "\n",
    "# Pure Python Simulation (Continuous Version)\n",
    "paths = []\n",
    "for i in range(I):\n",
    "    path = []\n",
    "    for t in range(M + 1):\n",
    "        if t == 0:\n",
    "            path.append(S0)\n",
    "        else:\n",
    "            S_t = path[t-1]\n",
    "            dt = tau / M \n",
    "            db = np.sqrt(dt) * np.random.normal()\n",
    "            exponent = (r-0.5*sigma**2)*dt + sigma*db\n",
    "            path.append(S_t*np.exp(exponent))\n",
    "    paths.append(path)\n",
    "C_simulation = np.exp(-r*tau) * sum([max(path[-1] - K, 0) for path in paths]) / I\n",
    "\n",
    "toc = time.time() \n",
    "print(\"European Option Value : {}\".format(C_simulation))\n",
    "print(\"Duration in Seconds   : {}\".format(toc-tic))"
   ]
  },
  {
   "cell_type": "code",
   "execution_count": 2,
   "metadata": {},
   "outputs": [
    {
     "name": "stdout",
     "output_type": "stream",
     "text": [
      "European Option Value : 8.071718856497474\n",
      "Duration in Seconds   : 0.4447610378265381\n"
     ]
    }
   ],
   "source": [
    "# Vectorization (Continuous Version)\n",
    "import time \n",
    "import numpy as np\n",
    "S0 = 100; K = 105; tau = 1.0; r = 0.05; sigma = 0.2  \n",
    "M = 50  # number of time steps\n",
    "I = 250000  # number of paths\n",
    "tic = time.time()\n",
    "\n",
    "# Vectorization (Continuous Version)\n",
    "S = np.zeros((M + 1, I))\n",
    "S[0] = S0\n",
    "for t in range(1, M + 1):\n",
    "    dt = tau / M \n",
    "    db = np.sqrt(dt) * np.random.normal(size=(I,)) \n",
    "    exponent = (r-0.5*sigma**2)*dt + sigma*db\n",
    "    S[t] = S[t - 1] * np.exp(exponent)\n",
    "C_simulation = np.exp(-r*tau) * np.sum(np.maximum(S[-1] - K, 0)) / I\n",
    "\n",
    "toc = time.time() \n",
    "print(\"European Option Value : {}\".format(C_simulation))\n",
    "print(\"Duration in Seconds   : {}\".format(toc-tic))"
   ]
  },
  {
   "cell_type": "code",
   "execution_count": 3,
   "metadata": {},
   "outputs": [
    {
     "name": "stdout",
     "output_type": "stream",
     "text": [
      "European Option Value : 7.999981658151316\n",
      "Duration in Seconds   : 0.592475175857544\n"
     ]
    }
   ],
   "source": [
    "# Full Vectorization (Continuous Version)\n",
    "import time \n",
    "import numpy as np\n",
    "S0 = 100; K = 105; tau = 1.0; r = 0.05; sigma = 0.2  \n",
    "M = 50  # number of time steps\n",
    "I = 250000  # number of paths\n",
    "tic = time.time()\n",
    "\n",
    "# Full Vectorization (Continuous Version)\n",
    "dt = tau / M \n",
    "db = np.sqrt(dt) * np.random.normal(size=(M+1, I)) \n",
    "exponent = (r-0.5*sigma**2)*dt + sigma*db\n",
    "exponent[0] = 0\n",
    "exponent = np.cumsum(exponent, axis=0)\n",
    "S = S0 * np.exp(exponent)\n",
    "C_simulation = np.exp(-r*tau) * np.sum(np.maximum(S[-1] - K, 0)) / I\n",
    "\n",
    "toc = time.time() \n",
    "print(\"European Option Value : {}\".format(C_simulation))\n",
    "print(\"Duration in Seconds   : {}\".format(toc-tic))"
   ]
  },
  {
   "cell_type": "code",
   "execution_count": null,
   "metadata": {},
   "outputs": [],
   "source": []
  }
 ],
 "metadata": {
  "kernelspec": {
   "display_name": "Python 3",
   "language": "python",
   "name": "python3"
  },
  "language_info": {
   "codemirror_mode": {
    "name": "ipython",
    "version": 3
   },
   "file_extension": ".py",
   "mimetype": "text/x-python",
   "name": "python",
   "nbconvert_exporter": "python",
   "pygments_lexer": "ipython3",
   "version": "3.6.9"
  }
 },
 "nbformat": 4,
 "nbformat_minor": 2
}
