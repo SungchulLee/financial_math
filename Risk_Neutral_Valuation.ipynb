{
 "cells": [
  {
   "cell_type": "markdown",
   "metadata": {},
   "source": [
    "[19. Black-Scholes Formula, Risk-neutral Valuation](https://www.youtube.com/watch?v=TnS8kI_KuJc)\n",
    "[Lecture 11 - Risk-Neutral Valuation](https://www.youtube.com/watch?v=Z5MXNdsLrxM)"
   ]
  },
  {
   "cell_type": "code",
   "execution_count": 1,
   "metadata": {},
   "outputs": [],
   "source": [
    "import numpy as np\n",
    "from scipy.stats import norm"
   ]
  },
  {
   "cell_type": "code",
   "execution_count": 2,
   "metadata": {},
   "outputs": [],
   "source": [
    "def Call(S,K,T,r,v,d=0):\n",
    "    \n",
    "    d1 = (np.log(S/K) + (r-d+0.5*v**2)*T) / (v*np.sqrt(T));\n",
    "    d2 = d1 - v*np.sqrt(T);\n",
    "\n",
    "    # https://docs.scipy.org/doc/scipy-0.16.1/reference/generated/scipy.stats.norm.html\n",
    "    return S*norm.cdf(d1) - K*np.exp(-r*T)*norm.cdf(d2)"
   ]
  },
  {
   "cell_type": "code",
   "execution_count": 3,
   "metadata": {},
   "outputs": [],
   "source": [
    "def Put(S,K,T,r,v,d=0):\n",
    "    \n",
    "    d1 = (np.log(S/K) + (r-d+0.5*v**2)*T) / (v*np.sqrt(T));\n",
    "    d2 = d1 - v*np.sqrt(T);\n",
    "\n",
    "    # https://docs.scipy.org/doc/scipy-0.16.1/reference/generated/scipy.stats.norm.html\n",
    "    return - S*norm.cdf(-d1) + K*np.exp(-r*T)*norm.cdf(-d2)"
   ]
  },
  {
   "cell_type": "code",
   "execution_count": 4,
   "metadata": {},
   "outputs": [],
   "source": [
    "S=258; K=250; T=1; r=0.03; v=0.20; B=190; # Barrier"
   ]
  },
  {
   "cell_type": "code",
   "execution_count": 5,
   "metadata": {},
   "outputs": [
    {
     "name": "stdout",
     "output_type": "stream",
     "text": [
      "Call option price by Black Scholes formula :  28.564342589288287\n",
      "Put option price by Black Scholes formula  :  13.175725976415308\n"
     ]
    }
   ],
   "source": [
    "Call_1 = Call(S,K,T,r,v); \n",
    "Put_1 = Put(S,K,T,r,v); \n",
    "\n",
    "print('Call option price by Black Scholes formula : ', Call_1)\n",
    "print('Put option price by Black Scholes formula  : ', Put_1)"
   ]
  },
  {
   "cell_type": "code",
   "execution_count": 6,
   "metadata": {},
   "outputs": [],
   "source": [
    "M = 12*21; \n",
    "t = np.linspace(0, T, num=M+1, endpoint=True);\n",
    "dt = t[2]-t[1];"
   ]
  },
  {
   "cell_type": "code",
   "execution_count": 7,
   "metadata": {},
   "outputs": [],
   "source": [
    "# Choose a parametrization\n",
    "if 0:\n",
    "    # Wilmott parametrization\n",
    "    U=1+v*np.sqrt(dt); \n",
    "    D=1-v*np.sqrt(dt); \n",
    "    q_u=0.5+r*np.sqrt(dt)/(2*v); \n",
    "    q_d=1-q_u; \n",
    "elif 0:\n",
    "    # CRR parametrization\n",
    "    U=exp(v*np.sqrt(dt)); \n",
    "    D=exp(-v*np.sqrt(dt)); \n",
    "    q_u=(np.exp(r*dt)-D)/(U-D); \n",
    "    q_d=1-q_u; \n",
    "elif 1:\n",
    "    # JR parametrization\n",
    "    U=np.exp((r-0.5*v**2)*dt+v*np.sqrt(dt)); \n",
    "    D=np.exp((r-0.5*v**2)*dt-v*np.sqrt(dt)); \n",
    "    q_u=0.5; \n",
    "    q_d=1-q_u; "
   ]
  },
  {
   "cell_type": "code",
   "execution_count": 8,
   "metadata": {},
   "outputs": [
    {
     "name": "stdout",
     "output_type": "stream",
     "text": [
      "Put option price by binomial model :  13.191197925291293\n"
     ]
    }
   ],
   "source": [
    "# put payoff at maturity\n",
    "Stock = S * D**np.arange(0,M+1) * U**np.arange(M,-1,-1);\n",
    "V = np.maximum(K-Stock,0);\n",
    "\n",
    "# risk-neutral valuation\n",
    "for i in range(M-1,-1,-1):\n",
    "    V = np.exp(-r*dt) * (q_u*V[:-1]+q_d*V[1:]) \n",
    "\n",
    "Put_2 = V[0];\n",
    "print('Put option price by binomial model : ',Put_2 )"
   ]
  },
  {
   "cell_type": "code",
   "execution_count": 9,
   "metadata": {},
   "outputs": [
    {
     "name": "stdout",
     "output_type": "stream",
     "text": [
      "Barrier put option price :  6.922756601110634\n"
     ]
    }
   ],
   "source": [
    "# knock-out barrier put payoff at maturity\n",
    "Stock = S * D**np.arange(0,M+1) * U**np.arange(M,-1,-1);\n",
    "V = np.maximum(K-Stock,0);\n",
    "\n",
    "# risk-neutral valuation\n",
    "for i in range(M-1,-1,-1):\n",
    "    Stock = S * D**np.arange(0,i+1) * U**np.arange(i,-1,-1);\n",
    "    V = np.exp(-r*dt) * (q_u*V[:-1]+q_d*V[1:]) \n",
    "    V[Stock<=B] = 0\n",
    "\n",
    "Put_B = V[0];\n",
    "print('Barrier put option price : ', Put_B)"
   ]
  },
  {
   "cell_type": "code",
   "execution_count": 10,
   "metadata": {},
   "outputs": [
    {
     "name": "stdout",
     "output_type": "stream",
     "text": [
      "American put option price :  13.728816831000978\n"
     ]
    }
   ],
   "source": [
    "# American put payoff at maturity\n",
    "Stock = S * D**np.arange(0,M+1) * U**np.arange(M,-1,-1);\n",
    "V = np.maximum(K-Stock,0);\n",
    "\n",
    "# risk-neutral valuation\n",
    "for i in range(M-1,-1,-1):\n",
    "    Stock = S * D**np.arange(0,i+1) * U**np.arange(i,-1,-1);\n",
    "    V = np.exp(-r*dt) * (q_u*V[:-1]+q_d*V[1:]) \n",
    "    V = np.maximum(V, K-Stock);\n",
    "\n",
    "Put_A = V[0];\n",
    "print('American put option price : ', Put_A)"
   ]
  },
  {
   "cell_type": "code",
   "execution_count": null,
   "metadata": {},
   "outputs": [],
   "source": []
  }
 ],
 "metadata": {
  "kernelspec": {
   "display_name": "Python [conda env:anaconda3]",
   "language": "python",
   "name": "conda-env-anaconda3-py"
  },
  "language_info": {
   "codemirror_mode": {
    "name": "ipython",
    "version": 3
   },
   "file_extension": ".py",
   "mimetype": "text/x-python",
   "name": "python",
   "nbconvert_exporter": "python",
   "pygments_lexer": "ipython3",
   "version": "3.5.0"
  }
 },
 "nbformat": 4,
 "nbformat_minor": 2
}
