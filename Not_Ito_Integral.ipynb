{
 "cells": [
  {
   "cell_type": "markdown",
   "metadata": {},
   "source": [
    "# [Not Ito_Integral](https://youtu.be/3_ufgOnxLdc)"
   ]
  },
  {
   "cell_type": "markdown",
   "metadata": {},
   "source": [
    "$$\n",
    "\\int_0^T B_t dt,\\quad\n",
    "\\int_0^T tB_t dt,\\quad\n",
    "\\int_0^T t^2B_t dt,\\quad\n",
    "\\int_0^T tB_t^2 dt,\\quad\n",
    "\\int_0^T t e^{B_t} dt\n",
    "$$"
   ]
  },
  {
   "cell_type": "code",
   "execution_count": 7,
   "metadata": {},
   "outputs": [
    {
     "data": {
      "image/png": "[encoded data removed]",
      "text/plain": [
       "<Figure size 432x288 with 1 Axes>"
      ]
     },
     "metadata": {
      "needs_background": "light"
     },
     "output_type": "display_data"
    }
   ],
   "source": [
    "import numpy as np\n",
    "import matplotlib.pyplot as plt\n",
    "\n",
    "# set parameters ###############################################################\n",
    "num_steps_per_year = 12*21\n",
    "num_years = 10\n",
    "# set parameters ###############################################################\n",
    "\n",
    "np.random.seed(337)\n",
    "\n",
    "# fair coins\n",
    "u = np.random.uniform(0, 1, (num_steps_per_year*num_years, ))\n",
    "c = np.ones_like(u)\n",
    "c[u < 0.5] = -1\n",
    "\n",
    "# Brownian motion\n",
    "b = np.cumsum(c) / np.sqrt(num_steps_per_year)\n",
    "# https://docs.scipy.org/doc/numpy-1.15.0/reference/generated/numpy.insert.html\n",
    "b = np.insert(b, 0, 0)\n",
    "\n",
    "# time\n",
    "t = np.linspace(0, num_years, num_steps_per_year*num_years + 1) \n",
    "dt = t[1] - t[0]\n",
    "\n",
    "# db\n",
    "db = c / np.sqrt(num_steps_per_year) \n",
    "\n",
    "# integrand or betting\n",
    "if 0:\n",
    "    # B_t\n",
    "    betting = b[:-1]\n",
    "elif 0:\n",
    "    # tB_t\n",
    "    betting = t[:-1] * b[:-1]\n",
    "elif 0:\n",
    "    # t^2 B_t\n",
    "    betting = (t[:-1]**2) * b[:-1]\n",
    "elif 1:\n",
    "    # tB_t^2\n",
    "    betting = t[:-1] * (b[:-1]**2)\n",
    "elif 1:\n",
    "    # t e^{B_t}\n",
    "    betting = t[:-1] * np.exp(b[:-1])\n",
    "    \n",
    "# Ito integral or total cumulative P&L\n",
    "not_ito = np.cumsum(betting * dt)\n",
    "not_ito = np.insert(not_ito, 0, 0)\n",
    "\n",
    "# plot of Brownian motion \n",
    "plt.plot(t,b,'--b',label='Brownian Motion')\n",
    "plt.plot(t,not_ito,'r',label='Not Ito Integral')\n",
    "plt.title('Not Ito integral')\n",
    "plt.xlabel('time')\n",
    "plt.ylabel('$B_t$')\n",
    "plt.grid(True)\n",
    "plt.legend()\n",
    "plt.show()"
   ]
  },
  {
   "cell_type": "code",
   "execution_count": 3,
   "metadata": {},
   "outputs": [
    {
     "data": {
      "image/png": "[encoded data removed]",
      "text/plain": [
       "<Figure size 432x288 with 1 Axes>"
      ]
     },
     "metadata": {
      "needs_background": "light"
     },
     "output_type": "display_data"
    }
   ],
   "source": [
    "import numpy as np\n",
    "import matplotlib.pyplot as plt\n",
    "\n",
    "# set parameters ###############################################################\n",
    "num_steps_per_year = 12*21*100\n",
    "num_years = 1/12\n",
    "num_simulation = 10000 \n",
    "# set parameters ###############################################################\n",
    "\n",
    "np.random.seed(337)\n",
    "\n",
    "# fair coins\n",
    "u = np.random.uniform(0, 1, (num_simulation, int(num_steps_per_year*num_years)))\n",
    "c = np.ones_like(u)\n",
    "c[u < 0.5] = -1.\n",
    "# print(c.shape) # (2520,)\n",
    "# print(c.dtype) # float64\n",
    "\n",
    "# Brownian motion\n",
    "b = np.cumsum(c, axis=1) / np.sqrt(num_steps_per_year)\n",
    "# https://docs.scipy.org/doc/numpy-1.15.0/reference/generated/numpy.insert.html\n",
    "b = np.insert(b, 0, 0, axis=1)\n",
    "# print(b.shape) # (2520,)\n",
    "# print(b.dtype) # float64\n",
    "\n",
    "# # time\n",
    "t = np.linspace(0, num_years, int(num_steps_per_year*num_years) + 1) \n",
    "\n",
    "# dt\n",
    "dt = 1 / num_steps_per_year\n",
    "\n",
    "# db\n",
    "db = c / np.sqrt(num_steps_per_year) \n",
    "\n",
    "# integrand or betting\n",
    "if 1:\n",
    "    # B_t\n",
    "    betting = b[:, :-1]\n",
    "elif 0:\n",
    "    # tB_t\n",
    "    betting = t[:-1] * b[:, :-1]\n",
    "elif 1:\n",
    "    # t^2 B_t\n",
    "    betting = (t[:-1]**2) * b[:, :-1]\n",
    "elif 0:\n",
    "    # tB_t^2\n",
    "    betting = t[:-1] * (b[:, :-1]**2)\n",
    "elif 1:\n",
    "    # t e^{B_t}\n",
    "    betting = t[:-1] * np.exp(b[:, :-1])\n",
    "\n",
    "# Ito integral or total cumulative P&L\n",
    "not_ito = np.cumsum(betting * dt, axis=1)\n",
    "not_ito = np.insert(not_ito, 0, 0, axis=1)\n",
    "\n",
    "# histogram of S_10\n",
    "plt.hist(not_ito[:,-1], bins=70, density=True)\n",
    "plt.grid(True)\n",
    "plt.show()"
   ]
  },
  {
   "cell_type": "code",
   "execution_count": null,
   "metadata": {},
   "outputs": [],
   "source": []
  }
 ],
 "metadata": {
  "kernelspec": {
   "display_name": "Python [default]",
   "language": "python",
   "name": "python3"
  },
  "language_info": {
   "codemirror_mode": {
    "name": "ipython",
    "version": 3
   },
   "file_extension": ".py",
   "mimetype": "text/x-python",
   "name": "python",
   "nbconvert_exporter": "python",
   "pygments_lexer": "ipython3",
   "version": "3.5.0"
  }
 },
 "nbformat": 4,
 "nbformat_minor": 2
}
