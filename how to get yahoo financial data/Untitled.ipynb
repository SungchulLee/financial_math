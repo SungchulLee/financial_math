{
 "cells": [
  {
   "cell_type": "code",
   "execution_count": 12,
   "metadata": {},
   "outputs": [
    {
     "name": "stdout",
     "output_type": "stream",
     "text": [
      "         contractSymbol       lastTradeDate  strike  lastPrice   bid   ask  \\\n",
      "37  MSFT191129C00157500 2019-11-22 20:34:17   157.5       0.02  0.02  0.03   \n",
      "38  MSFT191129C00160000 2019-11-22 18:11:21   160.0       0.02  0.01  0.02   \n",
      "39  MSFT191129C00162500 2019-11-22 15:03:17   162.5       0.02  0.00  0.04   \n",
      "40  MSFT191129C00165000 2019-11-22 18:11:29   165.0       0.01  0.00  0.01   \n",
      "41  MSFT191129C00175000 2019-11-19 19:26:32   175.0       0.01  0.00  0.02   \n",
      "\n",
      "    change  percentChange  volume  openInterest  impliedVolatility  \\\n",
      "37   -0.02     -50.000000    65.0        1896.0           0.197274   \n",
      "38    0.01     100.000000    53.0        1120.0           0.234383   \n",
      "39   -0.01     -33.333336     5.0         145.0           0.308601   \n",
      "40    0.00       0.000000   138.0         173.0           0.296882   \n",
      "41    0.00       0.000000     1.0          11.0           0.488286   \n",
      "\n",
      "    inTheMoney contractSize currency  \n",
      "37       False      REGULAR      USD  \n",
      "38       False      REGULAR      USD  \n",
      "39       False      REGULAR      USD  \n",
      "40       False      REGULAR      USD  \n",
      "41       False      REGULAR      USD  \n"
     ]
    }
   ],
   "source": [
    "import yfinance as yf\n",
    "\n",
    "msft = yf.Ticker(\"MSFT\")\n",
    "\n",
    "# hist = msft.history(period=\"max\") # get historical market data\n",
    "# print(hist.tail())\n",
    "\n",
    "# opt = msft.option_chain('2019-11-29') # get option chain for specific expiration \n",
    "# print(opt.calls.tail()) # data available via: opt.calls, opt.puts\n",
    "\n",
    "# print(msft.info) # get stock info\n",
    "# print(msft.actions) # show actions (dividends, splits)\n",
    "# print(msft.dividends) # show dividends\n",
    "# print(msft.splits) # show splits\n",
    "# print(msft.financials) # show financials\n",
    "# print(msft.quarterly_financials) # show financials\n",
    "# print(msft.balance_sheet) # show balance heet\n",
    "# print(msft.quarterly_balance_sheet) # show balance heet\n",
    "# print(msft.cashflow) # show cashflow\n",
    "# print(msft.quarterly_cashflow) # show cashflow\n",
    "# print(msft.earnings) # show earnings\n",
    "# print(msft.quarterly_earnings) # show earnings\n",
    "# print(msft.sustainability) # show sustainability\n",
    "# print(msft.recommendations) # show analysts recommendations\n",
    "# print(msft.calendar) # show next event (earnings, etc)\n",
    "# print(msft.options) # show options expirations"
   ]
  },
  {
   "cell_type": "code",
   "execution_count": 3,
   "metadata": {},
   "outputs": [
    {
     "name": "stdout",
     "output_type": "stream",
     "text": [
      "[*********************100%***********************]  1 of 1 completed\n"
     ]
    }
   ],
   "source": [
    "from pandas_datareader import data as pdr\n",
    "\n",
    "import yfinance as yf\n",
    "yf.pdr_override() # <== that's all it takes :-)\n",
    "\n",
    "# download dataframe\n",
    "data = pdr.get_data_yahoo(\"SPY\", start=\"2017-01-01\", end=\"2017-04-30\")\n",
    "print(data.head())"
   ]
  },
  {
   "cell_type": "code",
   "execution_count": 5,
   "metadata": {},
   "outputs": [
    {
     "data": {
      "text/html": [
       "<div>\n",
       "<style scoped>\n",
       "    .dataframe tbody tr th:only-of-type {\n",
       "        vertical-align: middle;\n",
       "    }\n",
       "\n",
       "    .dataframe tbody tr th {\n",
       "        vertical-align: top;\n",
       "    }\n",
       "\n",
       "    .dataframe thead th {\n",
       "        text-align: right;\n",
       "    }\n",
       "</style>\n",
       "<table border=\"1\" class=\"dataframe\">\n",
       "  <thead>\n",
       "    <tr style=\"text-align: right;\">\n",
       "      <th></th>\n",
       "      <th>Open</th>\n",
       "      <th>High</th>\n",
       "      <th>Low</th>\n",
       "      <th>Close</th>\n",
       "      <th>Adj Close</th>\n",
       "      <th>Volume</th>\n",
       "    </tr>\n",
       "    <tr>\n",
       "      <th>Date</th>\n",
       "      <th></th>\n",
       "      <th></th>\n",
       "      <th></th>\n",
       "      <th></th>\n",
       "      <th></th>\n",
       "      <th></th>\n",
       "    </tr>\n",
       "  </thead>\n",
       "  <tbody>\n",
       "    <tr>\n",
       "      <td>2017-01-03</td>\n",
       "      <td>225.039993</td>\n",
       "      <td>225.830002</td>\n",
       "      <td>223.880005</td>\n",
       "      <td>225.240005</td>\n",
       "      <td>213.842758</td>\n",
       "      <td>91366500</td>\n",
       "    </tr>\n",
       "    <tr>\n",
       "      <td>2017-01-04</td>\n",
       "      <td>225.619995</td>\n",
       "      <td>226.750000</td>\n",
       "      <td>225.610001</td>\n",
       "      <td>226.580002</td>\n",
       "      <td>215.114944</td>\n",
       "      <td>78744400</td>\n",
       "    </tr>\n",
       "    <tr>\n",
       "      <td>2017-01-05</td>\n",
       "      <td>226.270004</td>\n",
       "      <td>226.580002</td>\n",
       "      <td>225.479996</td>\n",
       "      <td>226.399994</td>\n",
       "      <td>214.944016</td>\n",
       "      <td>78379000</td>\n",
       "    </tr>\n",
       "    <tr>\n",
       "      <td>2017-01-06</td>\n",
       "      <td>226.529999</td>\n",
       "      <td>227.750000</td>\n",
       "      <td>225.899994</td>\n",
       "      <td>227.210007</td>\n",
       "      <td>215.713058</td>\n",
       "      <td>71559900</td>\n",
       "    </tr>\n",
       "    <tr>\n",
       "      <td>2017-01-09</td>\n",
       "      <td>226.910004</td>\n",
       "      <td>227.070007</td>\n",
       "      <td>226.419998</td>\n",
       "      <td>226.460007</td>\n",
       "      <td>215.001022</td>\n",
       "      <td>46939700</td>\n",
       "    </tr>\n",
       "  </tbody>\n",
       "</table>\n",
       "</div>"
      ],
      "text/plain": [
       "                  Open        High         Low       Close   Adj Close  \\\n",
       "Date                                                                     \n",
       "2017-01-03  225.039993  225.830002  223.880005  225.240005  213.842758   \n",
       "2017-01-04  225.619995  226.750000  225.610001  226.580002  215.114944   \n",
       "2017-01-05  226.270004  226.580002  225.479996  226.399994  214.944016   \n",
       "2017-01-06  226.529999  227.750000  225.899994  227.210007  215.713058   \n",
       "2017-01-09  226.910004  227.070007  226.419998  226.460007  215.001022   \n",
       "\n",
       "              Volume  \n",
       "Date                  \n",
       "2017-01-03  91366500  \n",
       "2017-01-04  78744400  \n",
       "2017-01-05  78379000  \n",
       "2017-01-06  71559900  \n",
       "2017-01-09  46939700  "
      ]
     },
     "execution_count": 5,
     "metadata": {},
     "output_type": "execute_result"
    }
   ],
   "source": [
    "data.head()"
   ]
  },
  {
   "cell_type": "code",
   "execution_count": 1,
   "metadata": {},
   "outputs": [
    {
     "name": "stdout",
     "output_type": "stream",
     "text": [
      "                  High         Low        Open       Close      Volume  \\\n",
      "Date                                                                     \n",
      "2017-01-03  225.830002  223.880005  225.039993  225.240005  91366500.0   \n",
      "2017-01-04  226.750000  225.610001  225.619995  226.580002  78744400.0   \n",
      "2017-01-05  226.580002  225.479996  226.270004  226.399994  78379000.0   \n",
      "2017-01-06  227.750000  225.899994  226.529999  227.210007  71559900.0   \n",
      "2017-01-09  227.070007  226.419998  226.910004  226.460007  46939700.0   \n",
      "\n",
      "             Adj Close  \n",
      "Date                    \n",
      "2017-01-03  213.842758  \n",
      "2017-01-04  215.114944  \n",
      "2017-01-05  214.944016  \n",
      "2017-01-06  215.713058  \n",
      "2017-01-09  215.001022  \n"
     ]
    }
   ],
   "source": [
    "from pandas_datareader import data as pdr\n",
    "data = pdr.get_data_yahoo(\"SPY\", start=\"2017-01-01\", end=\"2017-04-30\")\n",
    "print(data.head())"
   ]
  },
  {
   "cell_type": "code",
   "execution_count": 1,
   "metadata": {},
   "outputs": [
    {
     "name": "stdout",
     "output_type": "stream",
     "text": [
      "[*********************100%***********************]  1 of 1 completed\n",
      "                  Open        High         Low       Close   Adj Close  \\\n",
      "Date                                                                     \n",
      "2017-01-03  225.039993  225.830002  223.880005  225.240005  213.842758   \n",
      "2017-01-04  225.619995  226.750000  225.610001  226.580002  215.114944   \n",
      "2017-01-05  226.270004  226.580002  225.479996  226.399994  214.944016   \n",
      "2017-01-06  226.529999  227.750000  225.899994  227.210007  215.713058   \n",
      "2017-01-09  226.910004  227.070007  226.419998  226.460007  215.001022   \n",
      "\n",
      "              Volume  \n",
      "Date                  \n",
      "2017-01-03  91366500  \n",
      "2017-01-04  78744400  \n",
      "2017-01-05  78379000  \n",
      "2017-01-06  71559900  \n",
      "2017-01-09  46939700  \n"
     ]
    }
   ],
   "source": [
    "from pandas_datareader import data as pdr\n",
    "import yfinance as yf; yf.pdr_override() # <== that's all it takes :-)\n",
    "data = pdr.get_data_yahoo(\"SPY\", start=\"2017-01-01\", end=\"2017-04-30\")\n",
    "print(data.head())"
   ]
  },
  {
   "cell_type": "code",
   "execution_count": 2,
   "metadata": {},
   "outputs": [
    {
     "name": "stdout",
     "output_type": "stream",
     "text": [
      "         contractSymbol       lastTradeDate  strike  lastPrice   bid   ask  \\\n",
      "37  MSFT191129C00157500 2019-11-22 20:14:36   157.5       0.02  0.02  0.03   \n",
      "38  MSFT191129C00160000 2019-11-22 18:11:21   160.0       0.02  0.01  0.02   \n",
      "39  MSFT191129C00162500 2019-11-22 15:03:17   162.5       0.02  0.00  0.04   \n",
      "40  MSFT191129C00165000 2019-11-22 18:11:29   165.0       0.01  0.00  0.01   \n",
      "41  MSFT191129C00175000 2019-11-19 19:26:32   175.0       0.01  0.00  0.02   \n",
      "\n",
      "    change  percentChange  volume  openInterest  impliedVolatility  \\\n",
      "37   -0.02     -50.000000    65.0        1896.0           0.197274   \n",
      "38    0.01     100.000000    53.0        1120.0           0.234383   \n",
      "39   -0.01     -33.333336     5.0         145.0           0.308601   \n",
      "40    0.00       0.000000   138.0         173.0           0.296882   \n",
      "41    0.00       0.000000     1.0          11.0           0.488286   \n",
      "\n",
      "    inTheMoney contractSize currency  \n",
      "37       False      REGULAR      USD  \n",
      "38       False      REGULAR      USD  \n",
      "39       False      REGULAR      USD  \n",
      "40       False      REGULAR      USD  \n",
      "41       False      REGULAR      USD  \n"
     ]
    }
   ],
   "source": [
    "import yfinance as yf\n",
    "msft = yf.Ticker(\"MSFT\")\n",
    "# hist = msft.history(period=\"max\") # get historical market data\n",
    "# print(hist.tail())\n",
    "opt = msft.option_chain('2019-11-29') # get option chain for specific expiration \n",
    "print(opt.calls.tail()) # data available via: opt.calls, opt.puts"
   ]
  },
  {
   "cell_type": "code",
   "execution_count": 3,
   "metadata": {},
   "outputs": [
    {
     "name": "stdout",
     "output_type": "stream",
     "text": [
      "                                    2019-09-30    2019-06-30    2019-03-31  \\\n",
      "Intangible Assets                 7.508000e+09  7.750000e+09  8.103000e+09   \n",
      "Total Liab                        1.728940e+11  1.842260e+11  1.684170e+11   \n",
      "Total Stockholder Equity          1.060610e+11  1.023300e+11  9.486400e+10   \n",
      "Other Current Liab                3.989600e+10  4.586000e+10  3.229500e+10   \n",
      "Total Assets                      2.789550e+11  2.865560e+11  2.632810e+11   \n",
      "Common Stock                      7.888200e+10  7.852000e+10  7.779100e+10   \n",
      "Other Current Assets              7.578000e+09  1.013300e+10  7.131000e+09   \n",
      "Retained Earnings                 2.724000e+10  2.415000e+10  1.833800e+10   \n",
      "Other Liab                        3.417800e+10  3.569900e+10  3.647100e+10   \n",
      "Good Will                         4.211300e+10  4.202600e+10  4.186100e+10   \n",
      "Treasury Stock                   -6.100000e+07 -3.400000e+08 -1.265000e+09   \n",
      "Other Assets                      1.445500e+10  1.472300e+10  1.025800e+10   \n",
      "Cash                              1.311700e+10  1.135600e+10  1.121200e+10   \n",
      "Total Current Liabilities         5.811800e+10  6.942000e+10  5.386100e+10   \n",
      "Short Long Term Debt              3.017000e+09  5.516000e+09  6.515000e+09   \n",
      "Other Stockholder Equity         -6.100000e+07 -3.400000e+08 -1.265000e+09   \n",
      "Property Plant Equipment          4.629900e+10  4.385600e+10  4.076900e+10   \n",
      "Total Current Assets              1.658960e+11  1.755520e+11  1.598870e+11   \n",
      "Long Term Investments             2.684000e+09  2.649000e+09  2.403000e+09   \n",
      "Net Tangible Assets               5.644000e+10  5.255400e+10  4.490000e+10   \n",
      "Short Term Investments            1.234920e+11  1.224760e+11  1.203240e+11   \n",
      "Net Receivables                   1.908700e+10  2.952400e+10  1.926900e+10   \n",
      "Long Term Debt                    6.647800e+10  6.666200e+10  6.658500e+10   \n",
      "Inventory                         2.622000e+09  2.063000e+09  1.951000e+09   \n",
      "Accounts Payable                  8.574000e+09  9.382000e+09  7.544000e+09   \n",
      "Deferred Long Term Asset Charges           NaN  7.536000e+09           NaN   \n",
      "\n",
      "                                    2018-12-31  \n",
      "Intangible Assets                 8.482000e+09  \n",
      "Total Liab                        1.667310e+11  \n",
      "Total Stockholder Equity          9.212800e+10  \n",
      "Other Current Liab                3.294900e+10  \n",
      "Total Assets                      2.588590e+11  \n",
      "Common Stock                      7.755600e+10  \n",
      "Other Current Assets              7.560000e+09  \n",
      "Retained Earnings                 1.658500e+10  \n",
      "Other Liab                        3.611200e+10  \n",
      "Good Will                         4.157700e+10  \n",
      "Treasury Stock                   -2.013000e+09  \n",
      "Other Assets                      1.012900e+10  \n",
      "Cash                              6.638000e+09  \n",
      "Total Current Liabilities         5.031800e+10  \n",
      "Short Long Term Debt              3.516000e+09  \n",
      "Other Stockholder Equity         -2.013000e+09  \n",
      "Property Plant Equipment          3.952300e+10  \n",
      "Total Current Assets              1.568740e+11  \n",
      "Long Term Investments             2.274000e+09  \n",
      "Net Tangible Assets               4.206900e+10  \n",
      "Short Term Investments            1.210350e+11  \n",
      "Net Receivables                   1.968000e+10  \n",
      "Long Term Debt                    6.965300e+10  \n",
      "Inventory                         1.961000e+09  \n",
      "Accounts Payable                  7.563000e+09  \n",
      "Deferred Long Term Asset Charges           NaN  \n"
     ]
    }
   ],
   "source": [
    "import yfinance as yf\n",
    "msft = yf.Ticker(\"MSFT\")\n",
    "# print(msft.info) # get stock info\n",
    "# print(msft.actions) # show actions (dividends, splits)\n",
    "# print(msft.dividends) # show dividends\n",
    "# print(msft.splits) # show splits\n",
    "# print(msft.financials) # show financials\n",
    "# print(msft.quarterly_financials) # show financials\n",
    "# print(msft.balance_sheet) # show balance heet\n",
    "print(msft.quarterly_balance_sheet) # show balance heet\n",
    "# print(msft.cashflow) # show cashflow\n",
    "# print(msft.quarterly_cashflow) # show cashflow\n",
    "# print(msft.earnings) # show earnings\n",
    "# print(msft.quarterly_earnings) # show earnings\n",
    "# print(msft.sustainability) # show sustainability\n",
    "# print(msft.recommendations) # show analysts recommendations\n",
    "# print(msft.calendar) # show next event (earnings, etc)\n",
    "# print(msft.options) # show options expirations"
   ]
  },
  {
   "cell_type": "code",
   "execution_count": null,
   "metadata": {},
   "outputs": [],
   "source": []
  }
 ],
 "metadata": {
  "kernelspec": {
   "display_name": "Python 3",
   "language": "python",
   "name": "python3"
  },
  "language_info": {
   "codemirror_mode": {
    "name": "ipython",
    "version": 3
   },
   "file_extension": ".py",
   "mimetype": "text/x-python",
   "name": "python",
   "nbconvert_exporter": "python",
   "pygments_lexer": "ipython3",
   "version": "3.6.9"
  }
 },
 "nbformat": 4,
 "nbformat_minor": 2
}
