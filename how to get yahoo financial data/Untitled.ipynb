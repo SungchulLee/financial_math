{
 "cells": [
  {
   "cell_type": "markdown",
   "metadata": {},
   "source": [
    "[youtube](https://youtu.be/pVYATzSoZVA)\n",
    "[ppt](https://github.com/SungchulLee/financial_math/blob/master/%E1%84%8B%E1%85%A3%E1%84%92%E1%85%AE%20%E1%84%91%E1%85%A1%E1%84%8B%E1%85%B5%E1%84%82%E1%85%A2%E1%86%AB%E1%84%89%E1%85%B3%20%E1%84%83%E1%85%A6%E1%84%8B%E1%85%B5%E1%84%90%E1%85%A1%20%E1%84%92%E1%85%AC%E1%86%A8%E1%84%83%E1%85%B3%E1%86%A8%E1%84%92%E1%85%A1%E1%84%80%E1%85%B5.pptx)"
   ]
  },
  {
   "cell_type": "code",
   "execution_count": null,
   "metadata": {},
   "outputs": [],
   "source": [
    "from pandas_datareader import data as pdr\n",
    "data = pdr.get_data_yahoo(\"SPY\", start=\"2017-01-01\", end=\"2017-04-30\")\n",
    "print(data.head())"
   ]
  },
  {
   "cell_type": "code",
   "execution_count": null,
   "metadata": {},
   "outputs": [],
   "source": [
    "from pandas_datareader import data as pdr\n",
    "import yfinance as yf; yf.pdr_override() # <== that's all it takes :-)\n",
    "data = pdr.get_data_yahoo(\"SPY\", start=\"2017-01-01\", end=\"2017-04-30\")\n",
    "print(data.head())"
   ]
  },
  {
   "cell_type": "code",
   "execution_count": null,
   "metadata": {},
   "outputs": [],
   "source": [
    "import yfinance as yf\n",
    "msft = yf.Ticker(\"MSFT\")\n",
    "hist = msft.history(period=\"max\") # get historical market data\n",
    "print(hist.tail())\n",
    "# opt = msft.option_chain('2019-11-29') # get option chain for specific expiration \n",
    "# print(opt.calls.tail()) # data available via: opt.calls, opt.puts"
   ]
  },
  {
   "cell_type": "code",
   "execution_count": null,
   "metadata": {},
   "outputs": [],
   "source": [
    "import yfinance as yf\n",
    "msft = yf.Ticker(\"MSFT\")\n",
    "# hist = msft.history(period=\"max\") # get historical market data\n",
    "# print(hist.tail())\n",
    "opt = msft.option_chain('2019-11-29') # get option chain for specific expiration \n",
    "print(opt.calls.tail()) # data available via: opt.calls, opt.puts"
   ]
  },
  {
   "cell_type": "code",
   "execution_count": null,
   "metadata": {},
   "outputs": [],
   "source": [
    "import yfinance as yf\n",
    "msft = yf.Ticker(\"MSFT\")\n",
    "# print(msft.info) # get stock info\n",
    "# print(msft.actions) # show actions (dividends, splits)\n",
    "# print(msft.dividends) # show dividends\n",
    "# print(msft.splits) # show splits\n",
    "# print(msft.financials) # show financials\n",
    "# print(msft.quarterly_financials) # show financials\n",
    "# print(msft.balance_sheet) # show balance heet\n",
    "# print(msft.quarterly_balance_sheet) # show balance heet\n",
    "# print(msft.cashflow) # show cashflow\n",
    "# print(msft.quarterly_cashflow) # show cashflow\n",
    "# print(msft.earnings) # show earnings\n",
    "# print(msft.quarterly_earnings) # show earnings\n",
    "# print(msft.sustainability) # show sustainability\n",
    "# print(msft.recommendations) # show analysts recommendations\n",
    "# print(msft.calendar) # show next event (earnings, etc)\n",
    "print(msft.options) # show options expirations"
   ]
  }
 ],
 "metadata": {
  "kernelspec": {
   "display_name": "Python 3",
   "language": "python",
   "name": "python3"
  },
  "language_info": {
   "codemirror_mode": {
    "name": "ipython",
    "version": 3
   },
   "file_extension": ".py",
   "mimetype": "text/x-python",
   "name": "python",
   "nbconvert_exporter": "python",
   "pygments_lexer": "ipython3",
   "version": "3.6.9"
  }
 },
 "nbformat": 4,
 "nbformat_minor": 2
}
