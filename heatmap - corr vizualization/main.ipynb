{
 "cells": [
  {
   "cell_type": "code",
   "execution_count": 1,
   "metadata": {},
   "outputs": [],
   "source": [
    "tickers = ['FB', 'AMZN', 'AAPL', 'NFLX', 'GOOG']"
   ]
  },
  {
   "cell_type": "markdown",
   "metadata": {},
   "source": [
    "# Download Data"
   ]
  },
  {
   "cell_type": "markdown",
   "metadata": {},
   "source": [
    "To install yfinance, run the following in terminal:\n",
    "```\n",
    "$ pip install yfinance\n",
    "```\n",
    "    \n",
    "[yfinance](https://pypi.org/project/yfinance/)"
   ]
  },
  {
   "cell_type": "code",
   "execution_count": 2,
   "metadata": {},
   "outputs": [
    {
     "name": "stdout",
     "output_type": "stream",
     "text": [
      "1/5 : FB Downloaded\n",
      "2/5 : AMZN Downloaded\n",
      "3/5 : AAPL Downloaded\n",
      "4/5 : NFLX Downloaded\n",
      "5/5 : GOOG Downloaded\n"
     ]
    }
   ],
   "source": [
    "import yfinance as yf\n",
    "import os\n",
    "tickers_len = len(tickers)\n",
    "for count, ticker in enumerate(tickers):\n",
    "    if not os.path.exists('{}.csv'.format(ticker)):\n",
    "        stock = yf.Ticker(ticker)\n",
    "        data = stock.history(period='max')\n",
    "        data.to_csv('{}.csv'.format(ticker))\n",
    "        print('{}/{} : {} Downloaded'.format(count+1, tickers_len, ticker))\n",
    "    else:\n",
    "        print('{}/{} : {} Downloaded'.format(count+1, tickers_len, ticker))"
   ]
  },
  {
   "cell_type": "markdown",
   "metadata": {},
   "source": [
    "# Combine Close"
   ]
  },
  {
   "cell_type": "code",
   "execution_count": 3,
   "metadata": {},
   "outputs": [
    {
     "name": "stdout",
     "output_type": "stream",
     "text": [
      "1/5 : FB added to df\n",
      "2/5 : AMZN added to df\n",
      "3/5 : AAPL added to df\n",
      "4/5 : NFLX added to df\n",
      "5/5 : GOOG added to df\n"
     ]
    }
   ],
   "source": [
    "import pandas as pd\n",
    "\n",
    "df = pd.DataFrame()\n",
    "\n",
    "for count, ticker in enumerate(tickers):\n",
    "    \n",
    "    df_ = pd.read_csv('{}.csv'.format(ticker), \n",
    "                     index_col='Date',\n",
    "                     parse_dates=True)\n",
    "    df_.rename(columns={'Close':ticker}, inplace=True)\n",
    "    \n",
    "    df_.drop(['Open','High','Low','Volume','Dividends','Stock Splits'],\n",
    "             axis=1,\n",
    "             inplace=True)\n",
    "    \n",
    "    df_.dropna(inplace=True) # 배당 혹은 주식분할로 생기는 추가적인 가로열 제거\n",
    "    \n",
    "    if df.empty:\n",
    "        df = df_\n",
    "    else:\n",
    "        df = df.join(df_, how='inner')\n",
    "        \n",
    "    print('{}/{} : {} added to df'.format(count+1, tickers_len, ticker))\n",
    "    \n",
    "df.dropna(inplace=True)"
   ]
  },
  {
   "cell_type": "code",
   "execution_count": 4,
   "metadata": {},
   "outputs": [
    {
     "data": {
      "text/html": [
       "<div>\n",
       "<style scoped>\n",
       "    .dataframe tbody tr th:only-of-type {\n",
       "        vertical-align: middle;\n",
       "    }\n",
       "\n",
       "    .dataframe tbody tr th {\n",
       "        vertical-align: top;\n",
       "    }\n",
       "\n",
       "    .dataframe thead th {\n",
       "        text-align: right;\n",
       "    }\n",
       "</style>\n",
       "<table border=\"1\" class=\"dataframe\">\n",
       "  <thead>\n",
       "    <tr style=\"text-align: right;\">\n",
       "      <th></th>\n",
       "      <th>FB</th>\n",
       "      <th>AMZN</th>\n",
       "      <th>AAPL</th>\n",
       "      <th>NFLX</th>\n",
       "      <th>GOOG</th>\n",
       "    </tr>\n",
       "    <tr>\n",
       "      <th>Date</th>\n",
       "      <th></th>\n",
       "      <th></th>\n",
       "      <th></th>\n",
       "      <th></th>\n",
       "      <th></th>\n",
       "    </tr>\n",
       "  </thead>\n",
       "  <tbody>\n",
       "    <tr>\n",
       "      <th>2012-05-18</th>\n",
       "      <td>38.23</td>\n",
       "      <td>213.85</td>\n",
       "      <td>16.37</td>\n",
       "      <td>9.99</td>\n",
       "      <td>299.08</td>\n",
       "    </tr>\n",
       "    <tr>\n",
       "      <th>2012-05-21</th>\n",
       "      <td>34.03</td>\n",
       "      <td>218.11</td>\n",
       "      <td>17.32</td>\n",
       "      <td>10.25</td>\n",
       "      <td>305.91</td>\n",
       "    </tr>\n",
       "    <tr>\n",
       "      <th>2012-05-22</th>\n",
       "      <td>31.00</td>\n",
       "      <td>215.33</td>\n",
       "      <td>17.19</td>\n",
       "      <td>9.67</td>\n",
       "      <td>299.28</td>\n",
       "    </tr>\n",
       "    <tr>\n",
       "      <th>2012-05-23</th>\n",
       "      <td>32.00</td>\n",
       "      <td>217.28</td>\n",
       "      <td>17.61</td>\n",
       "      <td>10.27</td>\n",
       "      <td>303.59</td>\n",
       "    </tr>\n",
       "    <tr>\n",
       "      <th>2012-05-24</th>\n",
       "      <td>33.03</td>\n",
       "      <td>215.24</td>\n",
       "      <td>17.45</td>\n",
       "      <td>10.04</td>\n",
       "      <td>300.70</td>\n",
       "    </tr>\n",
       "  </tbody>\n",
       "</table>\n",
       "</div>"
      ],
      "text/plain": [
       "               FB    AMZN   AAPL   NFLX    GOOG\n",
       "Date                                           \n",
       "2012-05-18  38.23  213.85  16.37   9.99  299.08\n",
       "2012-05-21  34.03  218.11  17.32  10.25  305.91\n",
       "2012-05-22  31.00  215.33  17.19   9.67  299.28\n",
       "2012-05-23  32.00  217.28  17.61  10.27  303.59\n",
       "2012-05-24  33.03  215.24  17.45  10.04  300.70"
      ]
     },
     "execution_count": 4,
     "metadata": {},
     "output_type": "execute_result"
    }
   ],
   "source": [
    "df.head()"
   ]
  },
  {
   "cell_type": "code",
   "execution_count": 5,
   "metadata": {},
   "outputs": [
    {
     "data": {
      "text/html": [
       "<div>\n",
       "<style scoped>\n",
       "    .dataframe tbody tr th:only-of-type {\n",
       "        vertical-align: middle;\n",
       "    }\n",
       "\n",
       "    .dataframe tbody tr th {\n",
       "        vertical-align: top;\n",
       "    }\n",
       "\n",
       "    .dataframe thead th {\n",
       "        text-align: right;\n",
       "    }\n",
       "</style>\n",
       "<table border=\"1\" class=\"dataframe\">\n",
       "  <thead>\n",
       "    <tr style=\"text-align: right;\">\n",
       "      <th></th>\n",
       "      <th>FB</th>\n",
       "      <th>AMZN</th>\n",
       "      <th>AAPL</th>\n",
       "      <th>NFLX</th>\n",
       "      <th>GOOG</th>\n",
       "    </tr>\n",
       "    <tr>\n",
       "      <th>Date</th>\n",
       "      <th></th>\n",
       "      <th></th>\n",
       "      <th></th>\n",
       "      <th></th>\n",
       "      <th></th>\n",
       "    </tr>\n",
       "  </thead>\n",
       "  <tbody>\n",
       "    <tr>\n",
       "      <th>2020-09-01</th>\n",
       "      <td>295.44</td>\n",
       "      <td>3499.12</td>\n",
       "      <td>134.18</td>\n",
       "      <td>556.55</td>\n",
       "      <td>1660.71</td>\n",
       "    </tr>\n",
       "    <tr>\n",
       "      <th>2020-09-02</th>\n",
       "      <td>302.50</td>\n",
       "      <td>3531.45</td>\n",
       "      <td>131.40</td>\n",
       "      <td>552.84</td>\n",
       "      <td>1728.28</td>\n",
       "    </tr>\n",
       "    <tr>\n",
       "      <th>2020-09-03</th>\n",
       "      <td>291.12</td>\n",
       "      <td>3368.00</td>\n",
       "      <td>120.88</td>\n",
       "      <td>525.75</td>\n",
       "      <td>1641.84</td>\n",
       "    </tr>\n",
       "    <tr>\n",
       "      <th>2020-09-04</th>\n",
       "      <td>282.73</td>\n",
       "      <td>3294.62</td>\n",
       "      <td>120.96</td>\n",
       "      <td>516.05</td>\n",
       "      <td>1591.04</td>\n",
       "    </tr>\n",
       "    <tr>\n",
       "      <th>2020-09-08</th>\n",
       "      <td>277.35</td>\n",
       "      <td>3220.73</td>\n",
       "      <td>117.41</td>\n",
       "      <td>518.52</td>\n",
       "      <td>1558.36</td>\n",
       "    </tr>\n",
       "  </tbody>\n",
       "</table>\n",
       "</div>"
      ],
      "text/plain": [
       "                FB     AMZN    AAPL    NFLX     GOOG\n",
       "Date                                                \n",
       "2020-09-01  295.44  3499.12  134.18  556.55  1660.71\n",
       "2020-09-02  302.50  3531.45  131.40  552.84  1728.28\n",
       "2020-09-03  291.12  3368.00  120.88  525.75  1641.84\n",
       "2020-09-04  282.73  3294.62  120.96  516.05  1591.04\n",
       "2020-09-08  277.35  3220.73  117.41  518.52  1558.36"
      ]
     },
     "execution_count": 5,
     "metadata": {},
     "output_type": "execute_result"
    }
   ],
   "source": [
    "df.tail()"
   ]
  },
  {
   "cell_type": "markdown",
   "metadata": {},
   "source": [
    "# Compute Daily Return"
   ]
  },
  {
   "cell_type": "markdown",
   "metadata": {},
   "source": [
    "$$\\begin{array}{ccc}\n",
    "\\mbox{Discrete Daily Return}&&r_t^{(D)}=\\frac{S_t-S_{t-1}}{S_{t-1}}\\\\\n",
    "\\mbox{Continuous Daily Return}&&r_t^{(C)}=\\log\\frac{S_t}{S_{t-1}}\\\\\n",
    "\\end{array}$$"
   ]
  },
  {
   "cell_type": "code",
   "execution_count": 6,
   "metadata": {},
   "outputs": [],
   "source": [
    "import numpy as np\n",
    "df_return_d = df.pct_change() # 이산 데일리 리턴\n",
    "df_return_c = np.log(df / df.shift(1)) # 연속 데일리 리턴"
   ]
  },
  {
   "cell_type": "code",
   "execution_count": 9,
   "metadata": {},
   "outputs": [
    {
     "data": {
      "text/html": [
       "<div>\n",
       "<style scoped>\n",
       "    .dataframe tbody tr th:only-of-type {\n",
       "        vertical-align: middle;\n",
       "    }\n",
       "\n",
       "    .dataframe tbody tr th {\n",
       "        vertical-align: top;\n",
       "    }\n",
       "\n",
       "    .dataframe thead th {\n",
       "        text-align: right;\n",
       "    }\n",
       "</style>\n",
       "<table border=\"1\" class=\"dataframe\">\n",
       "  <thead>\n",
       "    <tr style=\"text-align: right;\">\n",
       "      <th></th>\n",
       "      <th>FB</th>\n",
       "      <th>AMZN</th>\n",
       "      <th>AAPL</th>\n",
       "      <th>NFLX</th>\n",
       "      <th>GOOG</th>\n",
       "    </tr>\n",
       "    <tr>\n",
       "      <th>Date</th>\n",
       "      <th></th>\n",
       "      <th></th>\n",
       "      <th></th>\n",
       "      <th></th>\n",
       "      <th></th>\n",
       "    </tr>\n",
       "  </thead>\n",
       "  <tbody>\n",
       "    <tr>\n",
       "      <th>2012-05-18</th>\n",
       "      <td>NaN</td>\n",
       "      <td>NaN</td>\n",
       "      <td>NaN</td>\n",
       "      <td>NaN</td>\n",
       "      <td>NaN</td>\n",
       "    </tr>\n",
       "    <tr>\n",
       "      <th>2012-05-21</th>\n",
       "      <td>-0.109861</td>\n",
       "      <td>0.019921</td>\n",
       "      <td>0.058033</td>\n",
       "      <td>0.026026</td>\n",
       "      <td>0.022837</td>\n",
       "    </tr>\n",
       "    <tr>\n",
       "      <th>2012-05-22</th>\n",
       "      <td>-0.089039</td>\n",
       "      <td>-0.012746</td>\n",
       "      <td>-0.007506</td>\n",
       "      <td>-0.056585</td>\n",
       "      <td>-0.021673</td>\n",
       "    </tr>\n",
       "    <tr>\n",
       "      <th>2012-05-23</th>\n",
       "      <td>0.032258</td>\n",
       "      <td>0.009056</td>\n",
       "      <td>0.024433</td>\n",
       "      <td>0.062048</td>\n",
       "      <td>0.014401</td>\n",
       "    </tr>\n",
       "    <tr>\n",
       "      <th>2012-05-24</th>\n",
       "      <td>0.032188</td>\n",
       "      <td>-0.009389</td>\n",
       "      <td>-0.009086</td>\n",
       "      <td>-0.022395</td>\n",
       "      <td>-0.009519</td>\n",
       "    </tr>\n",
       "  </tbody>\n",
       "</table>\n",
       "</div>"
      ],
      "text/plain": [
       "                  FB      AMZN      AAPL      NFLX      GOOG\n",
       "Date                                                        \n",
       "2012-05-18       NaN       NaN       NaN       NaN       NaN\n",
       "2012-05-21 -0.109861  0.019921  0.058033  0.026026  0.022837\n",
       "2012-05-22 -0.089039 -0.012746 -0.007506 -0.056585 -0.021673\n",
       "2012-05-23  0.032258  0.009056  0.024433  0.062048  0.014401\n",
       "2012-05-24  0.032188 -0.009389 -0.009086 -0.022395 -0.009519"
      ]
     },
     "execution_count": 9,
     "metadata": {},
     "output_type": "execute_result"
    }
   ],
   "source": [
    "df_return_d.head()"
   ]
  },
  {
   "cell_type": "code",
   "execution_count": 10,
   "metadata": {},
   "outputs": [
    {
     "data": {
      "text/html": [
       "<div>\n",
       "<style scoped>\n",
       "    .dataframe tbody tr th:only-of-type {\n",
       "        vertical-align: middle;\n",
       "    }\n",
       "\n",
       "    .dataframe tbody tr th {\n",
       "        vertical-align: top;\n",
       "    }\n",
       "\n",
       "    .dataframe thead th {\n",
       "        text-align: right;\n",
       "    }\n",
       "</style>\n",
       "<table border=\"1\" class=\"dataframe\">\n",
       "  <thead>\n",
       "    <tr style=\"text-align: right;\">\n",
       "      <th></th>\n",
       "      <th>FB</th>\n",
       "      <th>AMZN</th>\n",
       "      <th>AAPL</th>\n",
       "      <th>NFLX</th>\n",
       "      <th>GOOG</th>\n",
       "    </tr>\n",
       "    <tr>\n",
       "      <th>Date</th>\n",
       "      <th></th>\n",
       "      <th></th>\n",
       "      <th></th>\n",
       "      <th></th>\n",
       "      <th></th>\n",
       "    </tr>\n",
       "  </thead>\n",
       "  <tbody>\n",
       "    <tr>\n",
       "      <th>2020-09-01</th>\n",
       "      <td>0.007640</td>\n",
       "      <td>0.013956</td>\n",
       "      <td>0.039833</td>\n",
       "      <td>0.050967</td>\n",
       "      <td>0.016234</td>\n",
       "    </tr>\n",
       "    <tr>\n",
       "      <th>2020-09-02</th>\n",
       "      <td>0.023897</td>\n",
       "      <td>0.009239</td>\n",
       "      <td>-0.020718</td>\n",
       "      <td>-0.006666</td>\n",
       "      <td>0.040687</td>\n",
       "    </tr>\n",
       "    <tr>\n",
       "      <th>2020-09-03</th>\n",
       "      <td>-0.037620</td>\n",
       "      <td>-0.046284</td>\n",
       "      <td>-0.080061</td>\n",
       "      <td>-0.049002</td>\n",
       "      <td>-0.050015</td>\n",
       "    </tr>\n",
       "    <tr>\n",
       "      <th>2020-09-04</th>\n",
       "      <td>-0.028820</td>\n",
       "      <td>-0.021787</td>\n",
       "      <td>0.000662</td>\n",
       "      <td>-0.018450</td>\n",
       "      <td>-0.030941</td>\n",
       "    </tr>\n",
       "    <tr>\n",
       "      <th>2020-09-08</th>\n",
       "      <td>-0.019029</td>\n",
       "      <td>-0.022427</td>\n",
       "      <td>-0.029349</td>\n",
       "      <td>0.004786</td>\n",
       "      <td>-0.020540</td>\n",
       "    </tr>\n",
       "  </tbody>\n",
       "</table>\n",
       "</div>"
      ],
      "text/plain": [
       "                  FB      AMZN      AAPL      NFLX      GOOG\n",
       "Date                                                        \n",
       "2020-09-01  0.007640  0.013956  0.039833  0.050967  0.016234\n",
       "2020-09-02  0.023897  0.009239 -0.020718 -0.006666  0.040687\n",
       "2020-09-03 -0.037620 -0.046284 -0.080061 -0.049002 -0.050015\n",
       "2020-09-04 -0.028820 -0.021787  0.000662 -0.018450 -0.030941\n",
       "2020-09-08 -0.019029 -0.022427 -0.029349  0.004786 -0.020540"
      ]
     },
     "execution_count": 10,
     "metadata": {},
     "output_type": "execute_result"
    }
   ],
   "source": [
    "df_return_d.tail()"
   ]
  },
  {
   "cell_type": "markdown",
   "metadata": {},
   "source": [
    "# 코릴레이션 계산"
   ]
  },
  {
   "cell_type": "code",
   "execution_count": 11,
   "metadata": {},
   "outputs": [
    {
     "data": {
      "text/html": [
       "<div>\n",
       "<style scoped>\n",
       "    .dataframe tbody tr th:only-of-type {\n",
       "        vertical-align: middle;\n",
       "    }\n",
       "\n",
       "    .dataframe tbody tr th {\n",
       "        vertical-align: top;\n",
       "    }\n",
       "\n",
       "    .dataframe thead th {\n",
       "        text-align: right;\n",
       "    }\n",
       "</style>\n",
       "<table border=\"1\" class=\"dataframe\">\n",
       "  <thead>\n",
       "    <tr style=\"text-align: right;\">\n",
       "      <th></th>\n",
       "      <th>FB</th>\n",
       "      <th>AMZN</th>\n",
       "      <th>AAPL</th>\n",
       "      <th>NFLX</th>\n",
       "      <th>GOOG</th>\n",
       "    </tr>\n",
       "  </thead>\n",
       "  <tbody>\n",
       "    <tr>\n",
       "      <th>FB</th>\n",
       "      <td>1.000000</td>\n",
       "      <td>0.437329</td>\n",
       "      <td>0.380160</td>\n",
       "      <td>0.280716</td>\n",
       "      <td>0.486167</td>\n",
       "    </tr>\n",
       "    <tr>\n",
       "      <th>AMZN</th>\n",
       "      <td>0.437329</td>\n",
       "      <td>1.000000</td>\n",
       "      <td>0.430639</td>\n",
       "      <td>0.427938</td>\n",
       "      <td>0.599533</td>\n",
       "    </tr>\n",
       "    <tr>\n",
       "      <th>AAPL</th>\n",
       "      <td>0.380160</td>\n",
       "      <td>0.430639</td>\n",
       "      <td>1.000000</td>\n",
       "      <td>0.249194</td>\n",
       "      <td>0.516646</td>\n",
       "    </tr>\n",
       "    <tr>\n",
       "      <th>NFLX</th>\n",
       "      <td>0.280716</td>\n",
       "      <td>0.427938</td>\n",
       "      <td>0.249194</td>\n",
       "      <td>1.000000</td>\n",
       "      <td>0.398280</td>\n",
       "    </tr>\n",
       "    <tr>\n",
       "      <th>GOOG</th>\n",
       "      <td>0.486167</td>\n",
       "      <td>0.599533</td>\n",
       "      <td>0.516646</td>\n",
       "      <td>0.398280</td>\n",
       "      <td>1.000000</td>\n",
       "    </tr>\n",
       "  </tbody>\n",
       "</table>\n",
       "</div>"
      ],
      "text/plain": [
       "            FB      AMZN      AAPL      NFLX      GOOG\n",
       "FB    1.000000  0.437329  0.380160  0.280716  0.486167\n",
       "AMZN  0.437329  1.000000  0.430639  0.427938  0.599533\n",
       "AAPL  0.380160  0.430639  1.000000  0.249194  0.516646\n",
       "NFLX  0.280716  0.427938  0.249194  1.000000  0.398280\n",
       "GOOG  0.486167  0.599533  0.516646  0.398280  1.000000"
      ]
     },
     "execution_count": 11,
     "metadata": {},
     "output_type": "execute_result"
    }
   ],
   "source": [
    "df_corr = df_return_d.corr()\n",
    "df_corr"
   ]
  },
  {
   "cell_type": "markdown",
   "metadata": {},
   "source": [
    "# Heatmap using seaborn"
   ]
  },
  {
   "cell_type": "code",
   "execution_count": 19,
   "metadata": {},
   "outputs": [
    {
     "data": {
      "text/plain": [
       "<matplotlib.axes._subplots.AxesSubplot at 0x7fe7b2f28ed0>"
      ]
     },
     "execution_count": 19,
     "metadata": {},
     "output_type": "execute_result"
    },
    {
     "data": {
      "image/png": "[encoded data removed]",
      "text/plain": [
       "<Figure size 432x288 with 2 Axes>"
      ]
     },
     "metadata": {
      "needs_background": "light"
     },
     "output_type": "display_data"
    }
   ],
   "source": [
    "import seaborn as sns\n",
    "sns.heatmap(df_corr, cmap='YlOrRd', annot=True, fmt='.2%')"
   ]
  },
  {
   "cell_type": "markdown",
   "metadata": {},
   "source": [
    "# Reference\n",
    "\n",
    "[[Python] 히트맵 그리기 (Heatmap by python matplotlib, seaborn, pandas)](https://rfriend.tistory.com/419)"
   ]
  }
 ],
 "metadata": {
  "kernelspec": {
   "display_name": "Python 3",
   "language": "python",
   "name": "python3"
  },
  "language_info": {
   "codemirror_mode": {
    "name": "ipython",
    "version": 3
   },
   "file_extension": ".py",
   "mimetype": "text/x-python",
   "name": "python",
   "nbconvert_exporter": "python",
   "pygments_lexer": "ipython3",
   "version": "3.7.7"
  }
 },
 "nbformat": 4,
 "nbformat_minor": 2
}
